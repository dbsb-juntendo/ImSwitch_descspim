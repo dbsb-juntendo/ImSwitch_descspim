{
 "cells": [
  {
   "cell_type": "code",
   "execution_count": 1,
   "metadata": {},
   "outputs": [
    {
     "name": "stdout",
     "output_type": "stream",
     "text": [
      "Moving stage to position 1\n",
      "Homing...\n",
      "Homing done\n",
      "Moving to position: 1\n",
      "Movement done, new position:\n",
      "1\n",
      "Moving to position: 0\n"
     ]
    }
   ],
   "source": [
    "import serial\n",
    "import time\n",
    "\n",
    "# Configure the serial port\n",
    "ser = serial.Serial('COM3', 9600)  # Update with your Arduino's COM port\n",
    "\n",
    "def move_stage(target_position):\n",
    "    ser.write(f\"{target_position}\\n\".encode())\n",
    "    print(f\"Moving stage to position {target_position}\")\n",
    "    while True:\n",
    "        if ser.in_waiting > 0:\n",
    "            response = ser.readline().decode('utf-8').strip()\n",
    "            print(response)\n",
    "            if response == \"Movement complete.\":\n",
    "                break\n",
    "\n",
    "try:\n",
    "    while True:\n",
    "        target = int(input(\"Enter the target position (1 to 4) or q to quit: \"))\n",
    "        \n",
    "        if target in [1, 2, 3, 4]:\n",
    "            move_stage(target)\n",
    "        elif target.lower() == 'q':\n",
    "            break\n",
    "        else:\n",
    "            print(\"Invalid input. Please enter a number from 1 to 4 or q to quit.\")\n",
    "except KeyboardInterrupt:\n",
    "    pass\n",
    "finally:\n",
    "    ser.close()\n"
   ]
  }
 ],
 "metadata": {
  "kernelspec": {
   "display_name": "cud118",
   "language": "python",
   "name": "python3"
  },
  "language_info": {
   "codemirror_mode": {
    "name": "ipython",
    "version": 3
   },
   "file_extension": ".py",
   "mimetype": "text/x-python",
   "name": "python",
   "nbconvert_exporter": "python",
   "pygments_lexer": "ipython3",
   "version": "3.10.14"
  }
 },
 "nbformat": 4,
 "nbformat_minor": 2
}
