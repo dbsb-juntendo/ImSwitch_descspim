{
 "cells": [
  {
   "cell_type": "code",
   "execution_count": 1,
   "metadata": {},
   "outputs": [],
   "source": [
    "from aaopto_aotf.aotf import MPDS, MAX_POWER_DBM\n",
    "from aaopto_aotf.device_codes import BlankingMode, VoltageRange, InputMode\n",
    "\n",
    "\n",
    "aotf = MPDS(\"COM10\")\n",
    "frequency = 108.623 # for channel 1\n"
   ]
  },
  {
   "cell_type": "code",
   "execution_count": 2,
   "metadata": {},
   "outputs": [],
   "source": [
    "aotf.set_blanking_mode(BlankingMode.INTERNAL)  # disable blanking control from external input pin.\n",
    "aotf.set_external_input_voltage_range(VoltageRange.ZERO_TO_FIVE_VOLTS)\n",
    "for channel in range(1, aotf.num_channels + 1):\n",
    "    if channel==1:\n",
    "        aotf.set_frequency(channel, frequency)\n",
    "    else:\n",
    "        aotf.set_frequency(channel, 120.000)\n",
    "    aotf.set_channel_input_mode(channel, InputMode.INTERNAL)     # 1 internal, 0 external\n"
   ]
  },
  {
   "cell_type": "code",
   "execution_count": 3,
   "metadata": {},
   "outputs": [],
   "source": [
    "aotf.save_profile()"
   ]
  },
  {
   "cell_type": "code",
   "execution_count": 25,
   "metadata": {},
   "outputs": [],
   "source": [
    "aotf.set_power_dbm(1, MAX_POWER_DBM)"
   ]
  },
  {
   "cell_type": "code",
   "execution_count": 31,
   "metadata": {},
   "outputs": [],
   "source": [
    "aotf.enable_channel(1)      # works when internal input"
   ]
  },
  {
   "cell_type": "code",
   "execution_count": 33,
   "metadata": {},
   "outputs": [],
   "source": [
    "aotf.disable_channel(1)     # works when internal input"
   ]
  },
  {
   "cell_type": "code",
   "execution_count": 32,
   "metadata": {},
   "outputs": [],
   "source": [
    "aotf.set_channel_input_mode(1, InputMode.INTERNAL) "
   ]
  }
 ],
 "metadata": {
  "kernelspec": {
   "display_name": "ims_des",
   "language": "python",
   "name": "python3"
  },
  "language_info": {
   "codemirror_mode": {
    "name": "ipython",
    "version": 3
   },
   "file_extension": ".py",
   "mimetype": "text/x-python",
   "name": "python",
   "nbconvert_exporter": "python",
   "pygments_lexer": "ipython3",
   "version": "3.10.14"
  }
 },
 "nbformat": 4,
 "nbformat_minor": 2
}
