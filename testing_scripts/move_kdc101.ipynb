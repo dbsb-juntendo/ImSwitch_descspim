{
 "cells": [
  {
   "cell_type": "code",
   "execution_count": 15,
   "metadata": {},
   "outputs": [],
   "source": [
    "# connect to the device\n",
    "from thorlabs_apt_device.devices.kdc101 import KDC101\n",
    "\n",
    "'''\n",
    "\"rotationStage\": {\n",
    "            \"managerName\": \"KDC101Manager\",\n",
    "            \"managerProperties\": {\n",
    "                \"port\": \"COM12\",\n",
    "                \"units\": \"degrees\",\n",
    "                \"posConvFac\": 1919.641857862339,\n",
    "                \"velConvFac\": 42941.66,\n",
    "                \"accConvFac\": 14.66\n",
    "            }\n",
    "        }\n",
    "https://www.thorlabs.com/Software/Motion%20Control/APT_Communications_Protocol.pdf\n",
    "\n",
    "Sample stage S/N 27266343 Port 14 or 15\n",
    "Camera stage S/N 27266327 Port 14 or 15\n",
    "Actuator Z8235B  EncCnt per mm  34554.96  Velocity 772981.3692 (mm/s)  Acceleration 263.8443072 (mm/s2)\n",
    "APT communication protocol page 39\n",
    "\n",
    "Triggering the stage, information is in the APT communication protocol page 140\n",
    "\n",
    "widget from abigail\n",
    "in SetupStatusWidget:\n",
    "\"\"\"Rotation stage\"\"\"\n",
    "self.rotationStageHeader = QtWidgets.QLabel('Rotation stage')\n",
    "self.rotationStageHeader.setFont(QtGui.QFont('Calibri', 14))\n",
    "self.rotationStageHeader.setStyleSheet(\"font-weight: bold\")\n",
    "\n",
    "self.rotationStagePosLabel = QtWidgets.QLabel('Set position (deg) of rotation stage')\n",
    "self.rotationStagePosEdit = guitools.BetterDoubleSpinBox()\n",
    "self.rotationStagePosEdit.setDecimals(4)\n",
    "self.rotationStagePosEdit.setMinimum(-360)\n",
    "self.rotationStagePosEdit.setMaximum(360)\n",
    "self.rotationStagePosEdit.setSingleStep(0.01)\n",
    "self.jogStepSizeLabel = QtWidgets.QLabel('Set jog step size (deg)')\n",
    "self.jogStepSizeEdit = guitools.BetterDoubleSpinBox()\n",
    "self.jogStepSizeEdit.setDecimals(4)\n",
    "self.jogStepSizeEdit.setMaximum(360)\n",
    "self.jogStepSizeEdit.setSingleStep(0.01)\n",
    "self.jogPositiveButton = guitools.BetterPushButton('>>')\n",
    "self.jogNegativeButton = guitools.BetterPushButton('<<')\n",
    "self.currentPosOfRotationStageLabel = QtWidgets.QLabel('Current position (deg) of rotation stage')\n",
    "self.currentPosOfRotationStageDisp = QtWidgets.QLabel('')\n",
    "\n",
    "'''\n",
    "manager_properties = {\n",
    "    \"port\": \"COM15\",\n",
    "    \"units\": \"mm\",\n",
    "    \"posConvFac\": 34554.96,\n",
    "    \"velConvFac\": 772981.3692,\n",
    "    \"accConvFac\": 263.8443072\n",
    "}\n",
    "stage = KDC101(serial_port=\"COM15\")"
   ]
  },
  {
   "cell_type": "code",
   "execution_count": 21,
   "metadata": {},
   "outputs": [],
   "source": [
    "stage.close()\n"
   ]
  },
  {
   "cell_type": "code",
   "execution_count": 13,
   "metadata": {},
   "outputs": [
    {
     "data": {
      "text/plain": [
       "['__class__',\n",
       " '__class_getitem__',\n",
       " '__contains__',\n",
       " '__delattr__',\n",
       " '__delitem__',\n",
       " '__dir__',\n",
       " '__doc__',\n",
       " '__eq__',\n",
       " '__format__',\n",
       " '__ge__',\n",
       " '__getattribute__',\n",
       " '__getitem__',\n",
       " '__gt__',\n",
       " '__hash__',\n",
       " '__init__',\n",
       " '__init_subclass__',\n",
       " '__ior__',\n",
       " '__iter__',\n",
       " '__le__',\n",
       " '__len__',\n",
       " '__lt__',\n",
       " '__ne__',\n",
       " '__new__',\n",
       " '__or__',\n",
       " '__reduce__',\n",
       " '__reduce_ex__',\n",
       " '__repr__',\n",
       " '__reversed__',\n",
       " '__ror__',\n",
       " '__setattr__',\n",
       " '__setitem__',\n",
       " '__sizeof__',\n",
       " '__str__',\n",
       " '__subclasshook__',\n",
       " 'clear',\n",
       " 'copy',\n",
       " 'fromkeys',\n",
       " 'get',\n",
       " 'items',\n",
       " 'keys',\n",
       " 'pop',\n",
       " 'popitem',\n",
       " 'setdefault',\n",
       " 'update',\n",
       " 'values']"
      ]
     },
     "execution_count": 13,
     "metadata": {},
     "output_type": "execute_result"
    }
   ],
   "source": [
    "dir(stage.velparams)"
   ]
  },
  {
   "cell_type": "code",
   "execution_count": 19,
   "metadata": {},
   "outputs": [
    {
     "data": {
      "text/plain": [
       "{'min_velocity': 0,\n",
       " 'max_velocity': 555,\n",
       " 'acceleration': 555,\n",
       " 'msg': 'mot_get_velparams',\n",
       " 'msgid': 1045,\n",
       " 'source': 80,\n",
       " 'dest': 1,\n",
       " 'chan_ident': 1}"
      ]
     },
     "execution_count": 19,
     "metadata": {},
     "output_type": "execute_result"
    }
   ],
   "source": [
    "stage.velparams"
   ]
  },
  {
   "cell_type": "code",
   "execution_count": 20,
   "metadata": {},
   "outputs": [
    {
     "ename": "IndexError",
     "evalue": "tuple index out of range",
     "output_type": "error",
     "traceback": [
      "\u001b[1;31m---------------------------------------------------------------------------\u001b[0m",
      "\u001b[1;31mIndexError\u001b[0m                                Traceback (most recent call last)",
      "Cell \u001b[1;32mIn[20], line 1\u001b[0m\n\u001b[1;32m----> 1\u001b[0m \u001b[43mstage\u001b[49m\u001b[38;5;241;43m.\u001b[39;49m\u001b[43mset_velocity_params\u001b[49m\u001b[43m(\u001b[49m\u001b[38;5;241;43m123\u001b[39;49m\u001b[43m,\u001b[49m\u001b[43m \u001b[49m\u001b[38;5;241;43m456\u001b[39;49m\u001b[43m,\u001b[49m\u001b[43m \u001b[49m\u001b[38;5;241;43m789\u001b[39;49m\u001b[43m)\u001b[49m\n",
      "File \u001b[1;32m~\\AppData\\Roaming\\Python\\Python310\\site-packages\\thorlabs_apt_device\\devices\\aptdevice_motor.py:420\u001b[0m, in \u001b[0;36mAPTDevice_Motor.set_velocity_params\u001b[1;34m(self, acceleration, max_velocity, bay, channel)\u001b[0m\n\u001b[0;32m    411\u001b[0m \u001b[38;5;28;01mdef\u001b[39;00m \u001b[38;5;21mset_velocity_params\u001b[39m(\u001b[38;5;28mself\u001b[39m, acceleration, max_velocity, bay\u001b[38;5;241m=\u001b[39m\u001b[38;5;241m0\u001b[39m, channel\u001b[38;5;241m=\u001b[39m\u001b[38;5;241m0\u001b[39m):\n\u001b[0;32m    412\u001b[0m \u001b[38;5;250m    \u001b[39m\u001b[38;5;124;03m\"\"\"\u001b[39;00m\n\u001b[0;32m    413\u001b[0m \u001b[38;5;124;03m    Configure the parameters for movement velocity.\u001b[39;00m\n\u001b[0;32m    414\u001b[0m \n\u001b[1;32m   (...)\u001b[0m\n\u001b[0;32m    418\u001b[0m \u001b[38;5;124;03m    :param channel: Index (0-based) of controller bay channel to send the command.\u001b[39;00m\n\u001b[0;32m    419\u001b[0m \u001b[38;5;124;03m    \"\"\"\u001b[39;00m\n\u001b[1;32m--> 420\u001b[0m     \u001b[38;5;28mself\u001b[39m\u001b[38;5;241m.\u001b[39m_log\u001b[38;5;241m.\u001b[39mdebug(\u001b[38;5;124mf\u001b[39m\u001b[38;5;124m\"\u001b[39m\u001b[38;5;124mSetting velocity parameters to accel=\u001b[39m\u001b[38;5;132;01m{\u001b[39;00macceleration\u001b[38;5;132;01m}\u001b[39;00m\u001b[38;5;124m, max=\u001b[39m\u001b[38;5;132;01m{\u001b[39;00mmax_velocity\u001b[38;5;132;01m}\u001b[39;00m\u001b[38;5;124m [bay=\u001b[39m\u001b[38;5;132;01m{\u001b[39;00m\u001b[38;5;28;43mself\u001b[39;49m\u001b[38;5;241;43m.\u001b[39;49m\u001b[43mbays\u001b[49m\u001b[43m[\u001b[49m\u001b[43mbay\u001b[49m\u001b[43m]\u001b[49m\u001b[38;5;132;01m:\u001b[39;00m\u001b[38;5;124m#x\u001b[39m\u001b[38;5;132;01m}\u001b[39;00m\u001b[38;5;124m, channel=\u001b[39m\u001b[38;5;132;01m{\u001b[39;00m\u001b[38;5;28mself\u001b[39m\u001b[38;5;241m.\u001b[39mchannels[channel]\u001b[38;5;132;01m}\u001b[39;00m\u001b[38;5;124m].\u001b[39m\u001b[38;5;124m\"\u001b[39m)\n\u001b[0;32m    421\u001b[0m     \u001b[38;5;28mself\u001b[39m\u001b[38;5;241m.\u001b[39m_loop\u001b[38;5;241m.\u001b[39mcall_soon_threadsafe(\u001b[38;5;28mself\u001b[39m\u001b[38;5;241m.\u001b[39m_write, apt\u001b[38;5;241m.\u001b[39mmot_set_velparams(source\u001b[38;5;241m=\u001b[39mEndPoint\u001b[38;5;241m.\u001b[39mHOST, dest\u001b[38;5;241m=\u001b[39m\u001b[38;5;28mself\u001b[39m\u001b[38;5;241m.\u001b[39mbays[bay], chan_ident\u001b[38;5;241m=\u001b[39m\u001b[38;5;28mself\u001b[39m\u001b[38;5;241m.\u001b[39mchannels[channel], min_velocity\u001b[38;5;241m=\u001b[39m\u001b[38;5;241m0\u001b[39m, acceleration\u001b[38;5;241m=\u001b[39macceleration, max_velocity\u001b[38;5;241m=\u001b[39mmax_velocity))\n\u001b[0;32m    422\u001b[0m     \u001b[38;5;66;03m# Update status with new velocity parameters\u001b[39;00m\n",
      "\u001b[1;31mIndexError\u001b[0m: tuple index out of range"
     ]
    }
   ],
   "source": [
    "stage.set_velocity_params(123, 456, 789)"
   ]
  },
  {
   "cell_type": "code",
   "execution_count": 22,
   "metadata": {},
   "outputs": [
    {
     "name": "stdout",
     "output_type": "stream",
     "text": [
      "Found in ../imswitch\\imcontrol\\controller\\controllers\\PositionerController.py on line 31: self._commChannel.sigSetSpeed.connect(lambda speed: self.setSpeedGUI(speed, axis))\n",
      "Found in ../imswitch\\imcontrol\\controller\\controllers\\PositionerController.py on line 36: self._widget.sigsetSpeedClicked.connect(self.setSpeedGUI)\n",
      "Found in ../imswitch\\imcontrol\\controller\\controllers\\PositionerController.py on line 66: def setSpeedGUI(self, axis):\n",
      "Found in ../imswitch\\imcontrol\\controller\\controllers\\__pycache__\\KDC101stageController.cpython-310.pyc on line 11: \u0000\u0000\u0000\u0000\u0000|\u0000\u0001S\u0000\u0001N)\u0001\u000bsetSpeedGUI)\u0001r\u000b\u0000\u0000\u0000\u0001\u0004self\u0000eC:\\Users\\alm\\git\\ImSwitch_descspim\\imswitch\\imcontrol\\controller\\controllers\\KDC101stageController.p<lambda>\"\u0000\u0000\u0000s\u0002\u0000\u0000\u0000\n",
      "Found in ../imswitch\\imcontrol\\controller\\controllers\\__pycache__\\PositionerController.cpython-310.pyc on line 13: |\u0004j\u000f\u0004\u0001\u0000q\u0017\u0001j\u0010j\u0011j\u0012\u0013\u0001j\u0014\u0001\u0001\u0000\u0001j\u0010j\u0015\u0013\u0000\u0001f\u0002d\u0006d\u0001\u0001\u0000\u0001j\tj\u0016\u0013\u0001j\u0017\u0001\u0001\u0000\u0001j\tj\u0018\u0013\u0001j\u0019\u0001\u0001\u0000\u0001j\tj\u001a\u0013\u0001j\u001b\u0001\u0001\u0000d\u0000S\u0000NFT)\u0001\u0010tryInheritParent\u0005speedr\u0001\u0000\u0000\u0000c\u0001\u0000\u0000\u0000\u0000\u0000\u0000\u0000\u0000\u0000\u0000\u0000\u0001\u0000\u0000\u0000\u0004\u0000\u0000\u0000\u0013\u0000\u0000\u0000s\f\u0000\u0000\u0000\u0001\u0000|\u0000\u0000\u0002S\u0000\u0001N)\u0001\u000bsetSpeedGUI\u0001r\n",
      "Found in ../imswitch\\imcontrol\\controller\\controllers\\__pycache__\\PositionerController.cpython-310.pyc on line 30: \u0001\u0010\u0001\u0010\u0001z PositionerController.setSpeedGUIc\u0003\u0000\u0000\u0000\u0000\u0000\u0000\u0000\u0000\u0000\u0000\u0000\u0004\u0000\u0000\u0000\u0006\u0000\u0000\u0000C\u0000\u0000\u0000s@\u0000\u0000\u0000|\u0000j\u0000j\u0001|\u0001\u0019\u0000\u0002|\u0002\u0001}\u0003t\u0003d\u0001|\u0003\u0002\u0001\u0000|\u0000j\u0004\u0005|\u0001|\u0002|\u0003\u0003\u0001\u0000|\u0000\u0006|\u0001|\u0002t\u0007|\u0003\u0004\u0001\u0000d\u0000S\u0000)\u0002Nz\u001a_________________newSpeed r\u0018\u0000\u0000\u0000r\u0019\u0000\u0000\u0000r\n",
      "Found in ../imswitch\\imcontrol\\controller\\controllers\\__pycache__\\PositionerController.cpython-39.pyc on line 14: \u0000\u0000\u0000\u0000\u0000|\u0000\u0001S\u0000\u0001N)\u0001\u000bsetSpeedGUI\u0001r\n",
      "Found in ../imswitch\\imcontrol\\controller\\controllers\\__pycache__\\PositionerController.cpython-39.pyc on line 28: \u0001z PositionerController.setSpeedGUI\u0003\u0003\u0000\u0000rM\u0000\u0000\u0000rM\u0000\u0000\u0000c\u0003\u0000\u0000\u0000\u0000\u0000\u0000\u0000\u0000\u0000\u0000\u0000\u0003\u0000\u0000\u0000\u0003\u0000\u0000\u0000C\u0000\u0000\u0000s\u0016\u0000\u0000\u0000|\u0000j\u0000j\u0001|\u0001\u0019\u0000\u0002|\u0002\u0001\u0001\u0000d\u0000S\u0000r\u000b\u0000\u0000\u0000)\u0003r\u0018\u0000\u0000\u0000r\u0019\u0000\u0000\u0000rJ\u0000\u0000\u0000rK\u0000\u0000\u0000r\u0010\u0000\u0000\u0000r\u0010\u0000\u0000\u0000r\u0011\u0000\u0000\u0000rJ\u0000\u0000\u0000H\u0000\u0000\u0000s\u0002\u0000\u0000\u0000\u0000\u0001z\u001dPositionerController.setSpeedc\u0003\u0000\u0000\u0000\u0000\u0000\u0000\u0000\u0000\u0000\u0000\u0000\u0004\u0000\u0000\u0000\u0006\u0000\u0000\u0000C\u0000\u0000\u0000s6\u0000\u0000\u0000|\u0000j\u0000j\u0001|\u0001\u0019\u0000j\u0002|\u0002\u0019\u0000}\u0003|\u0000j\u0003\u0004|\u0001|\u0002|\u0003\u0003\u0001\u0000|\u0000\u0005|\u0001|\u0002t\u0006|\u0003\u0004\u0001\u0000d\u0000S\u0000r\u000b\u0000\u0000\u0000)\u0007r\u0018\u0000\u0000\u0000r\u0019\u0000\u0000\u0000r!\u0000\u0000\u0000r\u001c\u0000\u0000\u0000r@\u0000\u0000\u0000r\u001f\u0000\u0000\u0000r \u0000\u0000\u0000)\u0004r\u000f\u0000\u0000\u0000rB\u0000\u0000\u0000r0\u0000\u0000\u0000\u0006newPosr\u0010\u0000\u0000\u0000r\u0010\u0000\u0000\u0000r\u0011\u0000\u0000\u0000r@\u0000\u0000\u0000K\u0000\u0000\u0000s\u0006\u0000\u0000\u0000\u0000\u0001\u0012\u0001\u0010\u0001z#PositionerController.updatePositionc\u0003\u0000\u0000\u0000\u0000\u0000\u0000\u0000\u0000\u0000\u0000\u0000\u0005\u0000\u0000\u0000\u0005\u0000\u0000\u0000C\u0000\u0000\u0000sP\u0000\u0000\u0000|\u0000j\u0000s\u001et\u0001|\u0001\u0001d\u0001k\u0003s\u001e|\u0001d\u0002\u0019\u0000t\u0002k\u0003r\"d\u0000S\u0000|\u0001d\u0003\u0019\u0000}\u0003|\u0001d\u0004\u0019\u0000}\u0004|\u0001d\u0005\u0019\u0000t\u0003k\u0002rL|\u0000\u0004|\u0003|\u0004|\u0002\u0003\u0001\u0000d\u0000S\u0000)\u0006N\u0004\u0000\u0000\u0000r\u0001\u0000\u0000\u0000\u0001\u0000\u0000\u0000r\u0005\u0000\u0000\u0000\u0003\u0000\u0000\u0000)\u0005r\u0016\u0000\u0000\u0000\u0003len\n"
     ]
    }
   ],
   "source": [
    "import os\n",
    "import fnmatch\n",
    "import re\n",
    "\n",
    "def search_string_in_files(directory, search_string):\n",
    "    matches = []\n",
    "    pattern = re.compile(search_string)\n",
    "\n",
    "    for root, dirnames, filenames in os.walk(directory):\n",
    "        for filename in fnmatch.filter(filenames, '*'):\n",
    "            filepath = os.path.join(root, filename)\n",
    "            try:\n",
    "                with open(filepath, 'r', encoding='utf-8', errors='ignore') as file:\n",
    "                    for line_number, line in enumerate(file, 1):\n",
    "                        if pattern.search(line):\n",
    "                            matches.append({\n",
    "                                'file': filepath,\n",
    "                                'line_number': line_number,\n",
    "                                'line': line.strip()\n",
    "                            })\n",
    "            except Exception as e:\n",
    "                print(f\"Could not read file {filepath}: {e}\")\n",
    "\n",
    "    return matches\n",
    "\n",
    "# Example usage\n",
    "directory_to_search = '../'\n",
    "string_to_search = 'setSpeedGUI'\n",
    "results = search_string_in_files(directory_to_search, string_to_search)\n",
    "\n",
    "for match in results:\n",
    "    print(f\"Found in {match['file']} on line {match['line_number']}: {match['line']}\")\n"
   ]
  }
 ],
 "metadata": {
  "kernelspec": {
   "display_name": "ims_des",
   "language": "python",
   "name": "python3"
  },
  "language_info": {
   "codemirror_mode": {
    "name": "ipython",
    "version": 3
   },
   "file_extension": ".py",
   "mimetype": "text/x-python",
   "name": "python",
   "nbconvert_exporter": "python",
   "pygments_lexer": "ipython3",
   "version": "3.10.14"
  }
 },
 "nbformat": 4,
 "nbformat_minor": 2
}
