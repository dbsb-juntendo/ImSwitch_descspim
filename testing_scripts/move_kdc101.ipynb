{
 "cells": [
  {
   "cell_type": "code",
   "execution_count": 1,
   "metadata": {},
   "outputs": [],
   "source": [
    "# connect to the device\n",
    "from thorlabs_apt_device.devices.kdc101 import KDC101\n",
    "\n",
    "\n",
    "manager_properties = {\n",
    "    \"port\": \"COM15\",\n",
    "    \"units\": \"mm\",\n",
    "    \"posConvFac\": 34554.96,\n",
    "    \"velConvFac\": 772981.3692,\n",
    "    \"accConvFac\": 263.8443072\n",
    "}\n",
    "stage = KDC101(serial_port=manager_properties[\"port\"])"
   ]
  },
  {
   "cell_type": "code",
   "execution_count": 2,
   "metadata": {},
   "outputs": [
    {
     "data": {
      "text/plain": [
       "['__class__',\n",
       " '__delattr__',\n",
       " '__dict__',\n",
       " '__dir__',\n",
       " '__doc__',\n",
       " '__eq__',\n",
       " '__format__',\n",
       " '__ge__',\n",
       " '__getattribute__',\n",
       " '__gt__',\n",
       " '__hash__',\n",
       " '__init__',\n",
       " '__init_subclass__',\n",
       " '__le__',\n",
       " '__lt__',\n",
       " '__module__',\n",
       " '__ne__',\n",
       " '__new__',\n",
       " '__reduce__',\n",
       " '__reduce_ex__',\n",
       " '__repr__',\n",
       " '__setattr__',\n",
       " '__sizeof__',\n",
       " '__str__',\n",
       " '__subclasshook__',\n",
       " '__weakref__',\n",
       " '_atexit',\n",
       " '_close_port',\n",
       " '_error_callbacks',\n",
       " '_log',\n",
       " '_loop',\n",
       " '_port',\n",
       " '_process_message',\n",
       " '_run_eventloop',\n",
       " '_schedule_keepalives',\n",
       " '_schedule_reads',\n",
       " '_schedule_updates',\n",
       " '_thread',\n",
       " '_unpacker',\n",
       " '_write',\n",
       " 'bays',\n",
       " 'channels',\n",
       " 'close',\n",
       " 'controller',\n",
       " 'genmoveparams',\n",
       " 'genmoveparams_',\n",
       " 'get_kcube_trigger_config',\n",
       " 'home',\n",
       " 'homeparams',\n",
       " 'homeparams_',\n",
       " 'identify',\n",
       " 'invert_direction_logic',\n",
       " 'jogparams',\n",
       " 'jogparams_',\n",
       " 'keepalive_interval',\n",
       " 'keepalive_message',\n",
       " 'mot_req_kcubetrigconfig',\n",
       " 'move_absolute',\n",
       " 'move_jog',\n",
       " 'move_relative',\n",
       " 'move_velocity',\n",
       " 'read_interval',\n",
       " 'receive_message',\n",
       " 'register_error_callback',\n",
       " 'request_kcube_trigger_config',\n",
       " 'send_message',\n",
       " 'set_enabled',\n",
       " 'set_home_params',\n",
       " 'set_jog_params',\n",
       " 'set_kcube_trigger_config',\n",
       " 'set_move_params',\n",
       " 'set_velocity_params',\n",
       " 'status',\n",
       " 'status_',\n",
       " 'stop',\n",
       " 'swap_limit_switches',\n",
       " 'unregister_error_callback',\n",
       " 'update_interval',\n",
       " 'update_message',\n",
       " 'velparams',\n",
       " 'velparams_']"
      ]
     },
     "execution_count": 2,
     "metadata": {},
     "output_type": "execute_result"
    }
   ],
   "source": [
    "dir(stage)"
   ]
  },
  {
   "cell_type": "code",
   "execution_count": 3,
   "metadata": {},
   "outputs": [
    {
     "name": "stdout",
     "output_type": "stream",
     "text": [
      "{'position': 0, 'enc_count': 0, 'velocity': 0, 'forward_limit_switch': False, 'reverse_limit_switch': False, 'moving_forward': False, 'moving_reverse': False, 'jogging_forward': False, 'jogging_reverse': False, 'motor_connected': True, 'homing': False, 'homed': True, 'tracking': False, 'interlock': False, 'settled': False, 'motion_error': False, 'motor_current_limit_reached': False, 'channel_enabled': True, 'msg': 'mot_get_dcstatusupdate', 'msgid': 1169, 'source': 80, 'dest': 1, 'chan_ident': 1, 'forward_limit_soft': True, 'reverse_limit_soft': False, 'initializing': False, 'instrument_error': False, 'overtemp': False, 'voltage_fault': False, 'commutation_error': False, 'digital_in_1': True, 'digital_in_2': False, 'digital_in_3': True, 'digital_in_4': False, 'encoder_fault': False, 'overcurrent': False, 'current_fault': False, 'power_ok': True, 'active': False, 'error': False}\n"
     ]
    }
   ],
   "source": [
    "stat = stage.status\n",
    "print(stat)"
   ]
  },
  {
   "cell_type": "code",
   "execution_count": 3,
   "metadata": {},
   "outputs": [
    {
     "ename": "error",
     "evalue": "required argument is not an integer",
     "output_type": "error",
     "traceback": [
      "\u001b[1;31m---------------------------------------------------------------------------\u001b[0m",
      "\u001b[1;31merror\u001b[0m                                     Traceback (most recent call last)",
      "Cell \u001b[1;32mIn[3], line 1\u001b[0m\n\u001b[1;32m----> 1\u001b[0m \u001b[43mstage\u001b[49m\u001b[38;5;241;43m.\u001b[39;49m\u001b[43mmot_req_kcubetrigconfig\u001b[49m\u001b[43m(\u001b[49m\u001b[43m)\u001b[49m\n",
      "File \u001b[1;32m~\\AppData\\Roaming\\Python\\Python310\\site-packages\\thorlabs_apt_device\\devices\\kdc101.py:116\u001b[0m, in \u001b[0;36mKDC101.mot_req_kcubetrigconfig\u001b[1;34m(dest, source, chan_ident)\u001b[0m\n\u001b[0;32m    115\u001b[0m \u001b[38;5;28;01mdef\u001b[39;00m \u001b[38;5;21mmot_req_kcubetrigconfig\u001b[39m(dest\u001b[38;5;241m=\u001b[39m\u001b[38;5;241m1\u001b[39m, source\u001b[38;5;241m=\u001b[39m\u001b[38;5;241m1\u001b[39m, chan_ident\u001b[38;5;241m=\u001b[39m\u001b[38;5;241m1\u001b[39m):\n\u001b[1;32m--> 116\u001b[0m     \u001b[38;5;28;01mreturn\u001b[39;00m \u001b[43m_pack\u001b[49m\u001b[43m(\u001b[49m\u001b[38;5;241;43m0x0524\u001b[39;49m\u001b[43m,\u001b[49m\u001b[43m \u001b[49m\u001b[43mdest\u001b[49m\u001b[43m,\u001b[49m\u001b[43m \u001b[49m\u001b[43msource\u001b[49m\u001b[43m,\u001b[49m\u001b[43m \u001b[49m\u001b[43mparam1\u001b[49m\u001b[38;5;241;43m=\u001b[39;49m\u001b[43mchan_ident\u001b[49m\u001b[43m)\u001b[49m\n",
      "File \u001b[1;32m~\\AppData\\Roaming\\Python\\Python310\\site-packages\\thorlabs_apt_device\\devices\\kdc101.py:39\u001b[0m, in \u001b[0;36m_pack\u001b[1;34m(msgid, dest, source, param1, param2, data)\u001b[0m\n\u001b[0;32m     37\u001b[0m     \u001b[38;5;28;01mreturn\u001b[39;00m struct\u001b[38;5;241m.\u001b[39mpack(\u001b[38;5;124m\"\u001b[39m\u001b[38;5;124m<HHBB\u001b[39m\u001b[38;5;124m\"\u001b[39m, msgid, \u001b[38;5;28mlen\u001b[39m(data), dest \u001b[38;5;241m|\u001b[39m \u001b[38;5;241m0x80\u001b[39m, source) \u001b[38;5;241m+\u001b[39m data\n\u001b[0;32m     38\u001b[0m \u001b[38;5;28;01melse\u001b[39;00m:\n\u001b[1;32m---> 39\u001b[0m     \u001b[38;5;28;01mreturn\u001b[39;00m \u001b[43mstruct\u001b[49m\u001b[38;5;241;43m.\u001b[39;49m\u001b[43mpack\u001b[49m\u001b[43m(\u001b[49m\u001b[38;5;124;43m\"\u001b[39;49m\u001b[38;5;124;43m<H2b2B\u001b[39;49m\u001b[38;5;124;43m\"\u001b[39;49m\u001b[43m,\u001b[49m\u001b[43m \u001b[49m\u001b[43mmsgid\u001b[49m\u001b[43m,\u001b[49m\u001b[43m \u001b[49m\u001b[43mparam1\u001b[49m\u001b[43m,\u001b[49m\u001b[43m \u001b[49m\u001b[43mparam2\u001b[49m\u001b[43m,\u001b[49m\u001b[43m \u001b[49m\u001b[43mdest\u001b[49m\u001b[43m,\u001b[49m\u001b[43m \u001b[49m\u001b[43msource\u001b[49m\u001b[43m)\u001b[49m\n",
      "\u001b[1;31merror\u001b[0m: required argument is not an integer"
     ]
    }
   ],
   "source": [
    "stage.mot_req_kcubetrigconfig()"
   ]
  },
  {
   "cell_type": "code",
   "execution_count": null,
   "metadata": {},
   "outputs": [],
   "source": [
    "# changing the triggering options\n",
    "'''\n",
    "MGMSG_MOT_SET_KCUBETRIGIOCONFIG 0x0523          p140\n",
    "MGMSG_MOT_REQ_KCUBETRIGIOCONFIG 0x0524\n",
    "MGMSG_MOT_GET_KCUBETRIGIOCONFIG 0x0525\n",
    "\n",
    "MGMSG_MOT_SET_KCUBEPOSTRIGPARAMS 0x0526         p144\n",
    "MGMSG_MOT_REQ_KCUBEPOSTRIGPARAMS 0x0527\n",
    "MGMSG_MOT_GET_KCUBEPOSTRIGPARAMS 0x0528\n",
    "\n",
    "MGMSG_MOT_SET_KCUBEPOSTRIGPARAMS 0x0526         p151 the same?\n",
    "MGMSG_MOT_REQ_KCUBEPOSTRIGPARAMS 0x0527\n",
    "MGMSG_MOT_GET_KCUBEPOSTRIGPARAMS 0x0528\n",
    "\n",
    "\n",
    "'''"
   ]
  },
  {
   "cell_type": "code",
   "execution_count": 3,
   "metadata": {},
   "outputs": [
    {
     "ename": "TypeError",
     "evalue": "'NoneType' object is not subscriptable",
     "output_type": "error",
     "traceback": [
      "\u001b[1;31m---------------------------------------------------------------------------\u001b[0m",
      "\u001b[1;31mTypeError\u001b[0m                                 Traceback (most recent call last)",
      "Cell \u001b[1;32mIn[3], line 1\u001b[0m\n\u001b[1;32m----> 1\u001b[0m \u001b[43mstage\u001b[49m\u001b[38;5;241;43m.\u001b[39;49m\u001b[43mget_trigger_config\u001b[49m\u001b[43m(\u001b[49m\u001b[43m)\u001b[49m\n",
      "File \u001b[1;32m~\\AppData\\Roaming\\Python\\Python310\\site-packages\\thorlabs_apt_device\\devices\\kdc101.py:103\u001b[0m, in \u001b[0;36mKDC101.get_trigger_config\u001b[1;34m(self)\u001b[0m\n\u001b[0;32m    102\u001b[0m \u001b[38;5;28;01mdef\u001b[39;00m \u001b[38;5;21mget_trigger_config\u001b[39m(\u001b[38;5;28mself\u001b[39m):\n\u001b[1;32m--> 103\u001b[0m     \u001b[38;5;28;01mreturn\u001b[39;00m \u001b[38;5;28;43mself\u001b[39;49m\u001b[38;5;241;43m.\u001b[39;49m\u001b[43mget_kcube_trigger_config\u001b[49m\u001b[43m(\u001b[49m\u001b[43m)\u001b[49m\n",
      "File \u001b[1;32m~\\AppData\\Roaming\\Python\\Python310\\site-packages\\thorlabs_apt_device\\devices\\aptdevice_motor.py:559\u001b[0m, in \u001b[0;36mAPTDevice_Motor.get_kcube_trigger_config\u001b[1;34m(self)\u001b[0m\n\u001b[0;32m    556\u001b[0m \u001b[38;5;28;01mdef\u001b[39;00m \u001b[38;5;21mget_kcube_trigger_config\u001b[39m(\u001b[38;5;28mself\u001b[39m):\n\u001b[0;32m    557\u001b[0m     \u001b[38;5;66;03m# Read the response structure (18 bytes)\u001b[39;00m\n\u001b[0;32m    558\u001b[0m     response \u001b[38;5;241m=\u001b[39m \u001b[38;5;28mself\u001b[39m\u001b[38;5;241m.\u001b[39mreceive_message(\u001b[38;5;241m18\u001b[39m)\n\u001b[1;32m--> 559\u001b[0m     \u001b[38;5;28;01mif\u001b[39;00m \u001b[43mresponse\u001b[49m\u001b[43m[\u001b[49m\u001b[38;5;241;43m0\u001b[39;49m\u001b[43m:\u001b[49m\u001b[38;5;241;43m3\u001b[39;49m\u001b[43m]\u001b[49m \u001b[38;5;241m!=\u001b[39m \u001b[38;5;124mb\u001b[39m\u001b[38;5;124m'\u001b[39m\u001b[38;5;130;01m\\x25\u001b[39;00m\u001b[38;5;130;01m\\x05\u001b[39;00m\u001b[38;5;130;01m\\x0C\u001b[39;00m\u001b[38;5;124m'\u001b[39m:\n\u001b[0;32m    560\u001b[0m         \u001b[38;5;28;01mraise\u001b[39;00m \u001b[38;5;167;01mException\u001b[39;00m(\u001b[38;5;124m'\u001b[39m\u001b[38;5;124mInvalid response for GET_KCUBETRIGIOCONFIG\u001b[39m\u001b[38;5;124m'\u001b[39m)\n\u001b[0;32m    562\u001b[0m     chan_ident, trig1_mode, trig1_polarity, trig2_mode, trig2_polarity, reserved \u001b[38;5;241m=\u001b[39m struct\u001b[38;5;241m.\u001b[39munpack(\u001b[38;5;124m'\u001b[39m\u001b[38;5;124m<HHHHHH\u001b[39m\u001b[38;5;124m'\u001b[39m, response[\u001b[38;5;241m6\u001b[39m:])\n",
      "\u001b[1;31mTypeError\u001b[0m: 'NoneType' object is not subscriptable"
     ]
    }
   ],
   "source": [
    "stage.get_trigger_config()\n"
   ]
  },
  {
   "cell_type": "code",
   "execution_count": 4,
   "metadata": {},
   "outputs": [
    {
     "data": {
      "text/plain": [
       "['__class__',\n",
       " '__delattr__',\n",
       " '__dict__',\n",
       " '__dir__',\n",
       " '__doc__',\n",
       " '__eq__',\n",
       " '__format__',\n",
       " '__ge__',\n",
       " '__getattribute__',\n",
       " '__gt__',\n",
       " '__hash__',\n",
       " '__init__',\n",
       " '__init_subclass__',\n",
       " '__le__',\n",
       " '__lt__',\n",
       " '__module__',\n",
       " '__ne__',\n",
       " '__new__',\n",
       " '__reduce__',\n",
       " '__reduce_ex__',\n",
       " '__repr__',\n",
       " '__setattr__',\n",
       " '__sizeof__',\n",
       " '__str__',\n",
       " '__subclasshook__',\n",
       " '__weakref__',\n",
       " '_atexit',\n",
       " '_close_port',\n",
       " '_error_callbacks',\n",
       " '_log',\n",
       " '_loop',\n",
       " '_port',\n",
       " '_process_message',\n",
       " '_run_eventloop',\n",
       " '_schedule_keepalives',\n",
       " '_schedule_reads',\n",
       " '_schedule_updates',\n",
       " '_thread',\n",
       " '_unpacker',\n",
       " '_write',\n",
       " 'bays',\n",
       " 'channels',\n",
       " 'close',\n",
       " 'controller',\n",
       " 'genmoveparams',\n",
       " 'genmoveparams_',\n",
       " 'home',\n",
       " 'homeparams',\n",
       " 'homeparams_',\n",
       " 'identify',\n",
       " 'invert_direction_logic',\n",
       " 'jogparams',\n",
       " 'jogparams_',\n",
       " 'keepalive_interval',\n",
       " 'keepalive_message',\n",
       " 'move_absolute',\n",
       " 'move_jog',\n",
       " 'move_relative',\n",
       " 'move_velocity',\n",
       " 'read_interval',\n",
       " 'register_error_callback',\n",
       " 'set_enabled',\n",
       " 'set_home_params',\n",
       " 'set_jog_params',\n",
       " 'set_move_params',\n",
       " 'set_velocity_params',\n",
       " 'status',\n",
       " 'status_',\n",
       " 'stop',\n",
       " 'swap_limit_switches',\n",
       " 'unregister_error_callback',\n",
       " 'update_interval',\n",
       " 'update_message',\n",
       " 'velparams',\n",
       " 'velparams_']"
      ]
     },
     "execution_count": 4,
     "metadata": {},
     "output_type": "execute_result"
    }
   ],
   "source": [
    "dir(stage.u)"
   ]
  },
  {
   "cell_type": "code",
   "execution_count": 5,
   "metadata": {},
   "outputs": [
    {
     "data": {
      "text/plain": [
       "{'jog_mode': 2,\n",
       " 'step_size': 3455,\n",
       " 'min_velocity': 0,\n",
       " 'acceleration': 26,\n",
       " 'max_velocity': 77297,\n",
       " 'stop_mode': 2,\n",
       " 'msg': 'mot_get_jogparams',\n",
       " 'msgid': 1048,\n",
       " 'source': 80,\n",
       " 'dest': 1,\n",
       " 'chan_ident': 1}"
      ]
     },
     "execution_count": 5,
     "metadata": {},
     "output_type": "execute_result"
    }
   ],
   "source": [
    "stage.jogparams"
   ]
  },
  {
   "cell_type": "code",
   "execution_count": 6,
   "metadata": {},
   "outputs": [
    {
     "data": {
      "text/plain": [
       "{'min_velocity': 0,\n",
       " 'max_velocity': 77297,\n",
       " 'acceleration': 26,\n",
       " 'msg': 'mot_get_velparams',\n",
       " 'msgid': 1045,\n",
       " 'source': 80,\n",
       " 'dest': 1,\n",
       " 'chan_ident': 1}"
      ]
     },
     "execution_count": 6,
     "metadata": {},
     "output_type": "execute_result"
    }
   ],
   "source": [
    "stage.velparams"
   ]
  },
  {
   "cell_type": "code",
   "execution_count": 7,
   "metadata": {},
   "outputs": [
    {
     "data": {
      "text/plain": [
       "{'home_dir': 2,\n",
       " 'limit_switch': 1,\n",
       " 'home_velocity': 772970,\n",
       " 'offset_distance': 10366,\n",
       " 'msg': 'mot_get_homeparams',\n",
       " 'msgid': 1090,\n",
       " 'dest': 1,\n",
       " 'source': 80,\n",
       " 'chan_ident': 1}"
      ]
     },
     "execution_count": 7,
     "metadata": {},
     "output_type": "execute_result"
    }
   ],
   "source": [
    "stage.homeparams"
   ]
  },
  {
   "cell_type": "code",
   "execution_count": null,
   "metadata": {},
   "outputs": [],
   "source": []
  },
  {
   "cell_type": "code",
   "execution_count": 3,
   "metadata": {},
   "outputs": [
    {
     "name": "stdout",
     "output_type": "stream",
     "text": [
      "Found in ../.git\\index on line 29: *\u0000\u0000\u0000\u0000\u0000\u0000\u0000\u0000\u0000\u0000\u0000\u0000\u0000\u0000\u0000\u0000\u0000\u0000\u0000\u0000\u00156\t\u0006Y\u000bjO (%He\u001a\u0000Bimswitch/_data/user_defaults/imcontrol_setups/example_coolLED.json\u0000\u0000\u0000\u0000\u0000\u0000\u0000\u0000fS;\n",
      "Found in ../docs\\use-cases.rst on line 121: All the lasers are listed in the JSON file ``example_coolLED.json``, located at ``/imswitch/_data/user_defaults/imcontrol_setups/example_coolLED.json``, by specifying:\n"
     ]
    }
   ],
   "source": [
    "import os\n",
    "import fnmatch\n",
    "import re\n",
    "\n",
    "def search_string_in_files(directory, search_string):\n",
    "    matches = []\n",
    "    pattern = re.compile(search_string)\n",
    "\n",
    "    for root, dirnames, filenames in os.walk(directory):\n",
    "        for filename in fnmatch.filter(filenames, '*'):\n",
    "            filepath = os.path.join(root, filename)\n",
    "            try:\n",
    "                with open(filepath, 'r', encoding='utf-8', errors='ignore') as file:\n",
    "                    for line_number, line in enumerate(file, 1):\n",
    "                        if pattern.search(line):\n",
    "                            matches.append({\n",
    "                                'file': filepath,\n",
    "                                'line_number': line_number,\n",
    "                                'line': line.strip()\n",
    "                            })\n",
    "            except Exception as e:\n",
    "                print(f\"Could not read file {filepath}: {e}\")\n",
    "\n",
    "    return matches\n",
    "\n",
    "# Example usage\n",
    "directory_to_search = '../'\n",
    "string_to_search = 'example_coolLED'\n",
    "results = search_string_in_files(directory_to_search, string_to_search)\n",
    "\n",
    "for match in results:\n",
    "    print(f\"Found in {match['file']} on line {match['line_number']}: {match['line']}\")\n"
   ]
  }
 ],
 "metadata": {
  "kernelspec": {
   "display_name": "ims_des",
   "language": "python",
   "name": "python3"
  },
  "language_info": {
   "codemirror_mode": {
    "name": "ipython",
    "version": 3
   },
   "file_extension": ".py",
   "mimetype": "text/x-python",
   "name": "python",
   "nbconvert_exporter": "python",
   "pygments_lexer": "ipython3",
   "version": "3.10.14"
  }
 },
 "nbformat": 4,
 "nbformat_minor": 2
}
