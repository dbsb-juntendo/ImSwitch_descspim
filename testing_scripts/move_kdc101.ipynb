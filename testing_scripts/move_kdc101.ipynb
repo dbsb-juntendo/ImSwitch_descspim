{
 "cells": [
  {
   "cell_type": "code",
   "execution_count": 1,
   "metadata": {},
   "outputs": [],
   "source": [
    "# connect to the device\n",
    "from thorlabs_apt_device.devices.kdc101 import KDC101\n",
    "from thorlabs_apt_device.protocol import *\n",
    "'''\n",
    "\"rotationStage\": {\n",
    "            \"managerName\": \"KDC101Manager\",\n",
    "            \"managerProperties\": {\n",
    "                \"port\": \"COM12\",\n",
    "                \"units\": \"degrees\",\n",
    "                \"posConvFac\": 1919.641857862339,\n",
    "                \"velConvFac\": 42941.66,\n",
    "                \"accConvFac\": 14.66\n",
    "            }\n",
    "        }\n",
    "https://www.thorlabs.com/Software/Motion%20Control/APT_Communications_Protocol.pdf\n",
    "\n",
    "Sample stage S/N 27266343 Port 14 or 15\n",
    "Camera stage S/N 27266327 Port 14 or 15\n",
    "Actuator Z8235B  EncCnt per mm  34554.96  Velocity 772981.3692 (mm/s)  Acceleration 263.8443072 (mm/s2)\n",
    "APT communication protocol page 39\n",
    "\n",
    "Triggering the stage, information is in the APT communication protocol page 140\n",
    "\n",
    "widget from abigail\n",
    "in SetupStatusWidget:\n",
    "\"\"\"Rotation stage\"\"\"\n",
    "self.rotationStageHeader = QtWidgets.QLabel('Rotation stage')\n",
    "self.rotationStageHeader.setFont(QtGui.QFont('Calibri', 14))\n",
    "self.rotationStageHeader.setStyleSheet(\"font-weight: bold\")\n",
    "\n",
    "self.rotationStagePosLabel = QtWidgets.QLabel('Set position (deg) of rotation stage')\n",
    "self.rotationStagePosEdit = guitools.BetterDoubleSpinBox()\n",
    "self.rotationStagePosEdit.setDecimals(4)\n",
    "self.rotationStagePosEdit.setMinimum(-360)\n",
    "self.rotationStagePosEdit.setMaximum(360)\n",
    "self.rotationStagePosEdit.setSingleStep(0.01)\n",
    "self.jogStepSizeLabel = QtWidgets.QLabel('Set jog step size (deg)')\n",
    "self.jogStepSizeEdit = guitools.BetterDoubleSpinBox()\n",
    "self.jogStepSizeEdit.setDecimals(4)\n",
    "self.jogStepSizeEdit.setMaximum(360)\n",
    "self.jogStepSizeEdit.setSingleStep(0.01)\n",
    "self.jogPositiveButton = guitools.BetterPushButton('>>')\n",
    "self.jogNegativeButton = guitools.BetterPushButton('<<')\n",
    "self.currentPosOfRotationStageLabel = QtWidgets.QLabel('Current position (deg) of rotation stage')\n",
    "self.currentPosOfRotationStageDisp = QtWidgets.QLabel('')\n",
    "\n",
    "'''\n",
    "import time\n",
    "manager_properties = {\n",
    "    \"port\": \"COM14\",\n",
    "    \"units\": \"mm\",\n",
    "    \"posConvFac\": 34554.96,\n",
    "    \"velConvFac\": 772981.3692,\n",
    "    \"accConvFac\": 263.8443072\n",
    "}\n",
    "\n",
    "stage = KDC101(serial_port=\"COM14\")\n",
    "time.sleep(5)\n",
    "stage.set_jog_params(int(0.2*manager_properties['posConvFac']),\n",
    "                     int(2*manager_properties['accConvFac']), \n",
    "                     int(1.5*manager_properties[\"velConvFac\"]))\n",
    "stage.set_velocity_params(int(2*manager_properties[\"accConvFac\"]),\n",
    "                          int(1.5*manager_properties[\"velConvFac\"]))"
   ]
  },
  {
   "cell_type": "code",
   "execution_count": 2,
   "metadata": {},
   "outputs": [],
   "source": [
    "# get trigger info\n",
    "stage.move_absolute(100000)"
   ]
  },
  {
   "cell_type": "code",
   "execution_count": 16,
   "metadata": {},
   "outputs": [],
   "source": [
    "stage.set_moverelparams(relative_distance=4000)"
   ]
  },
  {
   "cell_type": "code",
   "execution_count": 2,
   "metadata": {},
   "outputs": [
    {
     "data": {
      "text/plain": [
       "{'trig1_mode': '',\n",
       " 'trig1_polarity': '',\n",
       " 'trig2_mode': '',\n",
       " 'trig2_polarity': '',\n",
       " 'msg': '',\n",
       " 'msgid': 0,\n",
       " 'source': 0,\n",
       " 'dest': 0,\n",
       " 'chan_ident': 0}"
      ]
     },
     "execution_count": 2,
     "metadata": {},
     "output_type": "execute_result"
    }
   ],
   "source": [
    "stage.trigger_params"
   ]
  },
  {
   "cell_type": "code",
   "execution_count": 3,
   "metadata": {},
   "outputs": [
    {
     "name": "stdout",
     "output_type": "stream",
     "text": [
      "100000\n",
      "100000\n",
      "100000\n",
      "100000\n"
     ]
    },
    {
     "ename": "KeyboardInterrupt",
     "evalue": "",
     "output_type": "error",
     "traceback": [
      "\u001b[1;31m---------------------------------------------------------------------------\u001b[0m",
      "\u001b[1;31mKeyboardInterrupt\u001b[0m                         Traceback (most recent call last)",
      "Cell \u001b[1;32mIn[3], line 2\u001b[0m\n\u001b[0;32m      1\u001b[0m \u001b[38;5;28;01mfor\u001b[39;00m i \u001b[38;5;129;01min\u001b[39;00m \u001b[38;5;28mrange\u001b[39m(\u001b[38;5;241m100\u001b[39m):\n\u001b[1;32m----> 2\u001b[0m     \u001b[43mtime\u001b[49m\u001b[38;5;241;43m.\u001b[39;49m\u001b[43msleep\u001b[49m\u001b[43m(\u001b[49m\u001b[38;5;241;43m0.5\u001b[39;49m\u001b[43m)\u001b[49m\n\u001b[0;32m      3\u001b[0m     \u001b[38;5;28mprint\u001b[39m(stage\u001b[38;5;241m.\u001b[39mstatus[\u001b[38;5;124m'\u001b[39m\u001b[38;5;124mposition\u001b[39m\u001b[38;5;124m'\u001b[39m])\n",
      "\u001b[1;31mKeyboardInterrupt\u001b[0m: "
     ]
    }
   ],
   "source": [
    "for i in range(100):\n",
    "    time.sleep(0.5)\n",
    "    print(stage.status['position'])"
   ]
  },
  {
   "cell_type": "code",
   "execution_count": 2,
   "metadata": {},
   "outputs": [
    {
     "data": {
      "text/plain": [
       "{'min_velocity': 0,\n",
       " 'max_velocity': 0,\n",
       " 'acceleration': 0,\n",
       " 'msg': '',\n",
       " 'msgid': 0,\n",
       " 'source': 0,\n",
       " 'dest': 0,\n",
       " 'chan_ident': 0}"
      ]
     },
     "execution_count": 2,
     "metadata": {},
     "output_type": "execute_result"
    }
   ],
   "source": [
    "# 2.\n",
    "stage.velparams"
   ]
  },
  {
   "cell_type": "code",
   "execution_count": 2,
   "metadata": {},
   "outputs": [],
   "source": [
    "# set trigger params\n",
    "stage.set_triggerparams(\n",
    "    trig1_mode=0,\n",
    "    trig1_polarity=1,\n",
    "    trig2_mode=0,\n",
    "    trig2_polarity=1\n",
    "    )"
   ]
  },
  {
   "cell_type": "code",
   "execution_count": 9,
   "metadata": {},
   "outputs": [
    {
     "name": "stdout",
     "output_type": "stream",
     "text": [
      "b'%\\x05\\x01\\x00\\x01P'\n"
     ]
    }
   ],
   "source": [
    "from typing import Optional, Sequence\n",
    "import struct\n",
    "\n",
    "\n",
    "def _pack(\n",
    "    msgid: int,\n",
    "    dest: int,\n",
    "    source: int,\n",
    "    *,\n",
    "    param1: int = 0,\n",
    "    param2: int = 0,\n",
    "    data: Optional[bytes] = None\n",
    "):\n",
    "    if data is not None:\n",
    "        assert param1 == param2 == 0\n",
    "        return struct.pack(\"<HHBB\", msgid, len(data), dest | 0x80, source) + data\n",
    "    else:\n",
    "        return struct.pack(\"<H2b2B\", msgid, param1, param2, dest, source)\n",
    "\n",
    "\n",
    "def mot_get_kcubetrigconfig(dest: int, source: int, chan_ident: int):\n",
    "    return _pack(0x0525, dest, source, param1=chan_ident)\n",
    "\n",
    "get_response = mot_get_kcubetrigconfig(stage.status['dest'],\n",
    "                        stage.status['source'],\n",
    "                        stage.status['chan_ident'])\n",
    "print(get_response)"
   ]
  },
  {
   "cell_type": "markdown",
   "metadata": {},
   "source": [
    "MGMSG_MOT_SET_KCUBETRIGIOCONFIG 0x0523\n",
    "MGMSG_MOT_REQ_KCUBETRIGIOCONFIG 0x0524\n",
    "MGMSG_MOT_GET_KCUBETRIGIOCONFIG 0x0525\n",
    "\n",
    "MGMSG_MOT_SET_KCUBETRIGIOCONFIG 0x0523\n",
    "MGMSG_MOT_REQ_KCUBETRIGIOCONFIG 0x0524\n",
    "MGMSG_MOT_GET_KCUBETRIGIOCONFIG 0x0525\n",
    "\n",
    "MGMSG_MOT_SET_KCUBEPOSTRIGPARAMS 0x0526\n",
    "MGMSG_MOT_REQ_KCUBEPOSTRIGPARAMS 0x0527\n",
    "MGMSG_MOT_GET_KCUBEPOSTRIGPARAMS 0x0528"
   ]
  },
  {
   "cell_type": "code",
   "execution_count": 10,
   "metadata": {},
   "outputs": [
    {
     "name": "stdout",
     "output_type": "stream",
     "text": [
      "None\n"
     ]
    },
    {
     "ename": "TypeError",
     "evalue": "'NoneType' object is not subscriptable",
     "output_type": "error",
     "traceback": [
      "\u001b[1;31m---------------------------------------------------------------------------\u001b[0m",
      "\u001b[1;31mTypeError\u001b[0m                                 Traceback (most recent call last)",
      "Cell \u001b[1;32mIn[10], line 2\u001b[0m\n\u001b[0;32m      1\u001b[0m \u001b[38;5;28mprint\u001b[39m(stage\u001b[38;5;241m.\u001b[39mrequest_kcube_trigger_config(\u001b[38;5;241m1\u001b[39m))\n\u001b[1;32m----> 2\u001b[0m \u001b[38;5;28mprint\u001b[39m(\u001b[43mstage\u001b[49m\u001b[38;5;241;43m.\u001b[39;49m\u001b[43mget_kcube_trigger_config\u001b[49m\u001b[43m(\u001b[49m\u001b[43m)\u001b[49m)\n",
      "File \u001b[1;32m~\\AppData\\Roaming\\Python\\Python310\\site-packages\\thorlabs_apt_device\\devices\\aptdevice_motor.py:559\u001b[0m, in \u001b[0;36mAPTDevice_Motor.get_kcube_trigger_config\u001b[1;34m(self)\u001b[0m\n\u001b[0;32m    556\u001b[0m \u001b[38;5;28;01mdef\u001b[39;00m \u001b[38;5;21mget_kcube_trigger_config\u001b[39m(\u001b[38;5;28mself\u001b[39m):\n\u001b[0;32m    557\u001b[0m     \u001b[38;5;66;03m# Read the response structure (18 bytes)\u001b[39;00m\n\u001b[0;32m    558\u001b[0m     response \u001b[38;5;241m=\u001b[39m \u001b[38;5;28mself\u001b[39m\u001b[38;5;241m.\u001b[39mreceive_message(\u001b[38;5;241m18\u001b[39m)\n\u001b[1;32m--> 559\u001b[0m     \u001b[38;5;28;01mif\u001b[39;00m \u001b[43mresponse\u001b[49m\u001b[43m[\u001b[49m\u001b[38;5;241;43m0\u001b[39;49m\u001b[43m:\u001b[49m\u001b[38;5;241;43m3\u001b[39;49m\u001b[43m]\u001b[49m \u001b[38;5;241m!=\u001b[39m \u001b[38;5;124mb\u001b[39m\u001b[38;5;124m'\u001b[39m\u001b[38;5;130;01m\\x25\u001b[39;00m\u001b[38;5;130;01m\\x05\u001b[39;00m\u001b[38;5;130;01m\\x0C\u001b[39;00m\u001b[38;5;124m'\u001b[39m:\n\u001b[0;32m    560\u001b[0m         \u001b[38;5;28;01mraise\u001b[39;00m \u001b[38;5;167;01mException\u001b[39;00m(\u001b[38;5;124m'\u001b[39m\u001b[38;5;124mInvalid response for GET_KCUBETRIGIOCONFIG\u001b[39m\u001b[38;5;124m'\u001b[39m)\n\u001b[0;32m    562\u001b[0m     chan_ident, trig1_mode, trig1_polarity, trig2_mode, trig2_polarity, reserved \u001b[38;5;241m=\u001b[39m struct\u001b[38;5;241m.\u001b[39munpack(\u001b[38;5;124m'\u001b[39m\u001b[38;5;124m<HHHHHH\u001b[39m\u001b[38;5;124m'\u001b[39m, response[\u001b[38;5;241m6\u001b[39m:])\n",
      "\u001b[1;31mTypeError\u001b[0m: 'NoneType' object is not subscriptable"
     ]
    }
   ],
   "source": [
    "print(stage.request_kcube_trigger_config(1))\n",
    "print(stage.get_kcube_trigger_config())"
   ]
  },
  {
   "cell_type": "code",
   "execution_count": 5,
   "metadata": {},
   "outputs": [
    {
     "name": "stdout",
     "output_type": "stream",
     "text": [
      "C:/Users/alm/AppData/Roaming/Python/Python310/site-packages/thorlabs_apt_device/\n",
      "Found in C:/Users/alm/AppData/Roaming/Python/Python310/site-packages/thorlabs_apt_device/devices\\aptdevice_motor.py on line 255: \"mot_get_homeparams\",\n",
      "Found in C:/Users/alm/AppData/Roaming/Python/Python310/site-packages/thorlabs_apt_device/devices\\aptdevice_motor.py on line 307: elif m.msg == \"mot_get_homeparams\":\n",
      "Found in C:/Users/alm/AppData/Roaming/Python/Python310/site-packages/thorlabs_apt_device/devices\\__pycache__\\aptdevice_motor.cpython-310.pyc on line 116: \u0014mot_get_statusupdate\u0016mot_get_dcstatusupdate\u0010mot_move_stopped\u0012mot_move_completed\u0011mot_get_velparams\u0015mot_get_genmoveparams\u0011mot_genmoveparams\u0011mot_get_jogparams\u0012mot_get_homeparams\u000fmot_get_avmodesr\u0019\u0000\u0000Message \u0019 has unrecognised source=\u0001.\u001a has unrecognised channel=)\u0004rf\u0000\u0000\u0000rg\u0000\u0000\u0000rh\u0000\u0000\u0000ri\u0000\u0000\u0000r\u001e\u0000\u0000\u0000r\u001f\u0000\u0000\u0000r\u001c\u0000\u0000\u0000r\u001d\u0000\u0000\u0000rj\u0000\u0000\u0000)\u0002rk\u0000\u0000\u0000rl\u0000\u0000\u0000rm\u0000\u0000\u0000rn\u0000\u0000\u0000)\u0016rJ\u0000\u0000\u0000\u0010_process_messager,\u0000\u0000\u0000r.\u0000\u0000\u0000\u0000\u0000\u0000\u0003USBr\u0014\u0000\u0000\u0000\u0005index\n",
      "Found in C:/Users/alm/AppData/Roaming/Python/Python310/site-packages/thorlabs_apt_device/protocol\\parsing.py on line 420: def mot_get_homeparams(data: bytes) -> Dict[str, Any]:\n",
      "Found in C:/Users/alm/AppData/Roaming/Python/Python310/site-packages/thorlabs_apt_device/protocol\\__pycache__\\parsing.cpython-310.pyc on line 134: home_velocity\u000foffset_distancer\u0000\u0000\u0000)\u0006r\u0005\u0000\u0000\u0000r \u0000\u0000\u0000r\u0000\u0000\u0000r\u0000\u0000\u0000r\u0000\u0000\u0000r\u0000\u0000\u0000r\u0012\u0000\u0000\u0000r\u0012\u0000\u0000\u0000r\u0013\u0000\u0000\u0000\u0012mot_get_homeparams\u0001\u0000\u0000\u001a\u0000\u0000\u0000\u0002\u0002\u0001\u0002\u0001\u0002\u0001\u0002\u0001\u0002\u0001\u0002\u0003\u0002\u0001\u0002\u0001\u0002\u0001\u0002\u0001\u0006r\u0000\u0000\u0000i%\u0004\u0000\u0000c\u0001\u0000\u0000\u0000\u0000\u0000\u0000\u0000\u0000\u0000\u0000\u0000\u0007\u0000\u0000\u0000\u0007\u0000\u0000\u0000C\u0000\u0000\u0000,\u0000\u0000\u0000t\u0000\u0001d\u0001|\u0000t\u0002\u0003\\\u0006}\u0001}\u0002}\u0003}\u0004}\u0005}\u0006|\u0001|\u0002|\u0003|\u0004|\u0005|\u0006d\u0002\u0006S\u0000)\u0003Nz\u0006<3HLLH)\u0006r \u0000\u0000\u0000\fcw_hardlimit\n"
     ]
    }
   ],
   "source": [
    "import os\n",
    "import fnmatch\n",
    "import re\n",
    "\n",
    "def search_string_in_files(directory, search_string):\n",
    "    matches = []\n",
    "    pattern = re.compile(search_string)\n",
    "\n",
    "    for root, dirnames, filenames in os.walk(directory):\n",
    "        for filename in fnmatch.filter(filenames, '*'):\n",
    "            filepath = os.path.join(root, filename)\n",
    "            try:\n",
    "                with open(filepath, 'r', encoding='utf-8', errors='ignore') as file:\n",
    "                    for line_number, line in enumerate(file, 1):\n",
    "                        if pattern.search(line):\n",
    "                            matches.append({\n",
    "                                'file': filepath,\n",
    "                                'line_number': line_number,\n",
    "                                'line': line.strip()\n",
    "                            })\n",
    "            except Exception as e:\n",
    "                print(f\"Could not read file {filepath}: {e}\")\n",
    "\n",
    "    return matches\n",
    "\n",
    "# Example usage\n",
    "directory_to_search = 'C:/Users/alm/git/ImSwitchConfig/'\n",
    "directory_to_search = 'C:/Users/alm/AppData/Roaming/Python/Python310/site-packages/thorlabs_apt_device/'\n",
    "print(directory_to_search)\n",
    "string_to_search = 'mot_get_homeparams'\n",
    "results = search_string_in_files(directory_to_search, string_to_search)\n",
    "\n",
    "for match in results:\n",
    "    print(f\"Found in {match['file']} on line {match['line_number']}: {match['line']}\")\n"
   ]
  },
  {
   "cell_type": "code",
   "execution_count": null,
   "metadata": {},
   "outputs": [],
   "source": []
  }
 ],
 "metadata": {
  "kernelspec": {
   "display_name": "ims_des",
   "language": "python",
   "name": "python3"
  },
  "language_info": {
   "codemirror_mode": {
    "name": "ipython",
    "version": 3
   },
   "file_extension": ".py",
   "mimetype": "text/x-python",
   "name": "python",
   "nbconvert_exporter": "python",
   "pygments_lexer": "ipython3",
   "version": "3.10.14"
  }
 },
 "nbformat": 4,
 "nbformat_minor": 2
}
