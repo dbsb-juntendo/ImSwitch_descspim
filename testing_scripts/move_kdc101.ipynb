{
 "cells": [
  {
   "cell_type": "code",
   "execution_count": 1,
   "metadata": {},
   "outputs": [],
   "source": [
    "# connect to the device\n",
    "from thorlabs_apt_device.devices.kdc101 import KDC101\n",
    "from thorlabs_apt_device.protocol import *\n",
    "'''\n",
    "\"rotationStage\": {\n",
    "            \"managerName\": \"KDC101Manager\",\n",
    "            \"managerProperties\": {\n",
    "                \"port\": \"COM12\",\n",
    "                \"units\": \"degrees\",\n",
    "                \"posConvFac\": 1919.641857862339,\n",
    "                \"velConvFac\": 42941.66,\n",
    "                \"accConvFac\": 14.66\n",
    "            }\n",
    "        }\n",
    "https://www.thorlabs.com/Software/Motion%20Control/APT_Communications_Protocol.pdf\n",
    "\n",
    "Sample stage S/N 27266343 Port 14 or 15\n",
    "Camera stage S/N 27266327 Port 14 or 15\n",
    "Actuator Z8235B  EncCnt per mm  34554.96  Velocity 772981.3692 (mm/s)  Acceleration 263.8443072 (mm/s2)\n",
    "APT communication protocol page 39\n",
    "\n",
    "Triggering the stage, information is in the APT communication protocol page 140\n",
    "\n",
    "widget from abigail\n",
    "in SetupStatusWidget:\n",
    "\"\"\"Rotation stage\"\"\"\n",
    "self.rotationStageHeader = QtWidgets.QLabel('Rotation stage')\n",
    "self.rotationStageHeader.setFont(QtGui.QFont('Calibri', 14))\n",
    "self.rotationStageHeader.setStyleSheet(\"font-weight: bold\")\n",
    "\n",
    "self.rotationStagePosLabel = QtWidgets.QLabel('Set position (deg) of rotation stage')\n",
    "self.rotationStagePosEdit = guitools.BetterDoubleSpinBox()\n",
    "self.rotationStagePosEdit.setDecimals(4)\n",
    "self.rotationStagePosEdit.setMinimum(-360)\n",
    "self.rotationStagePosEdit.setMaximum(360)\n",
    "self.rotationStagePosEdit.setSingleStep(0.01)\n",
    "self.jogStepSizeLabel = QtWidgets.QLabel('Set jog step size (deg)')\n",
    "self.jogStepSizeEdit = guitools.BetterDoubleSpinBox()\n",
    "self.jogStepSizeEdit.setDecimals(4)\n",
    "self.jogStepSizeEdit.setMaximum(360)\n",
    "self.jogStepSizeEdit.setSingleStep(0.01)\n",
    "self.jogPositiveButton = guitools.BetterPushButton('>>')\n",
    "self.jogNegativeButton = guitools.BetterPushButton('<<')\n",
    "self.currentPosOfRotationStageLabel = QtWidgets.QLabel('Current position (deg) of rotation stage')\n",
    "self.currentPosOfRotationStageDisp = QtWidgets.QLabel('')\n",
    "\n",
    "'''\n",
    "import time\n",
    "manager_properties = {\n",
    "    \"port\": \"COM14\",\n",
    "    \"units\": \"mm\",\n",
    "    \"posConvFac\": 34554.96,\n",
    "    \"velConvFac\": 772981.3692,\n",
    "    \"accConvFac\": 263.8443072\n",
    "}\n",
    "\n",
    "stage = KDC101(serial_port=\"COM14\", home=False)\n",
    "time.sleep(5)\n",
    "\n",
    "#stage.set_jog_params(int(0.2*manager_properties['posConvFac']),\n",
    "#                     int(2*manager_properties['accConvFac']), \n",
    "#                     int(1.5*manager_properties[\"velConvFac\"]))\n",
    "stage.set_velocity_params(int(20*manager_properties[\"accConvFac\"]),\n",
    "                          int(15*manager_properties[\"velConvFac\"]))"
   ]
  },
  {
   "cell_type": "code",
   "execution_count": 3,
   "metadata": {},
   "outputs": [],
   "source": [
    "stage.set_velocity_params(int(20*manager_properties[\"accConvFac\"]),\n",
    "                          int(15*manager_properties[\"velConvFac\"]))"
   ]
  },
  {
   "cell_type": "code",
   "execution_count": 2,
   "metadata": {},
   "outputs": [
    {
     "data": {
      "text/plain": [
       "{'position': 117969,\n",
       " 'enc_count': 0,\n",
       " 'velocity': 0,\n",
       " 'forward_limit_switch': False,\n",
       " 'reverse_limit_switch': False,\n",
       " 'moving_forward': False,\n",
       " 'moving_reverse': False,\n",
       " 'jogging_forward': False,\n",
       " 'jogging_reverse': False,\n",
       " 'motor_connected': True,\n",
       " 'homing': False,\n",
       " 'homed': False,\n",
       " 'tracking': False,\n",
       " 'interlock': False,\n",
       " 'settled': False,\n",
       " 'motion_error': False,\n",
       " 'motor_current_limit_reached': False,\n",
       " 'channel_enabled': True,\n",
       " 'msg': 'mot_get_dcstatusupdate',\n",
       " 'msgid': 1169,\n",
       " 'source': 80,\n",
       " 'dest': 1,\n",
       " 'chan_ident': 1,\n",
       " 'forward_limit_soft': False,\n",
       " 'reverse_limit_soft': True,\n",
       " 'initializing': False,\n",
       " 'instrument_error': False,\n",
       " 'overtemp': False,\n",
       " 'voltage_fault': False,\n",
       " 'commutation_error': False,\n",
       " 'digital_in_1': False,\n",
       " 'digital_in_2': False,\n",
       " 'digital_in_3': False,\n",
       " 'digital_in_4': False,\n",
       " 'encoder_fault': False,\n",
       " 'overcurrent': False,\n",
       " 'current_fault': False,\n",
       " 'power_ok': True,\n",
       " 'active': False,\n",
       " 'error': False}"
      ]
     },
     "execution_count": 2,
     "metadata": {},
     "output_type": "execute_result"
    }
   ],
   "source": [
    "stage.status"
   ]
  },
  {
   "cell_type": "code",
   "execution_count": 5,
   "metadata": {},
   "outputs": [
    {
     "data": {
      "text/plain": [
       "['__class__',\n",
       " '__delattr__',\n",
       " '__dict__',\n",
       " '__dir__',\n",
       " '__doc__',\n",
       " '__eq__',\n",
       " '__format__',\n",
       " '__ge__',\n",
       " '__getattribute__',\n",
       " '__gt__',\n",
       " '__hash__',\n",
       " '__init__',\n",
       " '__init_subclass__',\n",
       " '__le__',\n",
       " '__lt__',\n",
       " '__module__',\n",
       " '__ne__',\n",
       " '__new__',\n",
       " '__reduce__',\n",
       " '__reduce_ex__',\n",
       " '__repr__',\n",
       " '__setattr__',\n",
       " '__sizeof__',\n",
       " '__str__',\n",
       " '__subclasshook__',\n",
       " '__weakref__',\n",
       " '_atexit',\n",
       " '_close_port',\n",
       " '_error_callbacks',\n",
       " '_log',\n",
       " '_loop',\n",
       " '_port',\n",
       " '_process_message',\n",
       " '_run_eventloop',\n",
       " '_schedule_keepalives',\n",
       " '_schedule_reads',\n",
       " '_schedule_updates',\n",
       " '_thread',\n",
       " '_unpacker',\n",
       " '_write',\n",
       " 'bays',\n",
       " 'channels',\n",
       " 'close',\n",
       " 'controller',\n",
       " 'genmoveparams',\n",
       " 'genmoveparams_',\n",
       " 'home',\n",
       " 'homeparams',\n",
       " 'homeparams_',\n",
       " 'identify',\n",
       " 'invert_direction_logic',\n",
       " 'jogparams',\n",
       " 'jogparams_',\n",
       " 'keepalive_interval',\n",
       " 'keepalive_message',\n",
       " 'move_absolute',\n",
       " 'move_jog',\n",
       " 'move_relative',\n",
       " 'move_velocity',\n",
       " 'moverelparams_',\n",
       " 'read_interval',\n",
       " 'register_error_callback',\n",
       " 'set_enabled',\n",
       " 'set_home_params',\n",
       " 'set_jog_params',\n",
       " 'set_move_params',\n",
       " 'set_moverelparams',\n",
       " 'set_triggerparams',\n",
       " 'set_velocity_params',\n",
       " 'status',\n",
       " 'status_',\n",
       " 'stop',\n",
       " 'swap_limit_switches',\n",
       " 'trigger_params_',\n",
       " 'unregister_error_callback',\n",
       " 'update_interval',\n",
       " 'update_message',\n",
       " 'velparams',\n",
       " 'velparams_']"
      ]
     },
     "execution_count": 5,
     "metadata": {},
     "output_type": "execute_result"
    }
   ],
   "source": [
    "stage.set_jog_params()"
   ]
  },
  {
   "cell_type": "code",
   "execution_count": 3,
   "metadata": {},
   "outputs": [
    {
     "data": {
      "text/plain": [
       "{'home_dir': 0, 'limit_switch': 0, 'home_velocity': 0, 'offset_distance': 0}"
      ]
     },
     "execution_count": 3,
     "metadata": {},
     "output_type": "execute_result"
    }
   ],
   "source": [
    "stage.homeparams"
   ]
  },
  {
   "cell_type": "code",
   "execution_count": 2,
   "metadata": {},
   "outputs": [],
   "source": [
    "# 2.\n",
    "stage.set_home_params(772981*20, 10366)"
   ]
  },
  {
   "cell_type": "code",
   "execution_count": 2,
   "metadata": {},
   "outputs": [],
   "source": [
    "# set trigger params\n",
    "stage.set_triggerparams(\n",
    "    trig1_mode=0,\n",
    "    trig1_polarity=1,\n",
    "    trig2_mode=0,\n",
    "    trig2_polarity=1\n",
    "    )"
   ]
  },
  {
   "cell_type": "code",
   "execution_count": 9,
   "metadata": {},
   "outputs": [
    {
     "name": "stdout",
     "output_type": "stream",
     "text": [
      "b'%\\x05\\x01\\x00\\x01P'\n"
     ]
    }
   ],
   "source": [
    "from typing import Optional, Sequence\n",
    "import struct\n",
    "\n",
    "\n",
    "def _pack(\n",
    "    msgid: int,\n",
    "    dest: int,\n",
    "    source: int,\n",
    "    *,\n",
    "    param1: int = 0,\n",
    "    param2: int = 0,\n",
    "    data: Optional[bytes] = None\n",
    "):\n",
    "    if data is not None:\n",
    "        assert param1 == param2 == 0\n",
    "        return struct.pack(\"<HHBB\", msgid, len(data), dest | 0x80, source) + data\n",
    "    else:\n",
    "        return struct.pack(\"<H2b2B\", msgid, param1, param2, dest, source)\n",
    "\n",
    "\n",
    "def mot_get_kcubetrigconfig(dest: int, source: int, chan_ident: int):\n",
    "    return _pack(0x0525, dest, source, param1=chan_ident)\n",
    "\n",
    "get_response = mot_get_kcubetrigconfig(stage.status['dest'],\n",
    "                        stage.status['source'],\n",
    "                        stage.status['chan_ident'])\n",
    "print(get_response)"
   ]
  },
  {
   "cell_type": "markdown",
   "metadata": {},
   "source": [
    "MGMSG_MOT_SET_KCUBETRIGIOCONFIG 0x0523\n",
    "MGMSG_MOT_REQ_KCUBETRIGIOCONFIG 0x0524\n",
    "MGMSG_MOT_GET_KCUBETRIGIOCONFIG 0x0525\n",
    "\n",
    "MGMSG_MOT_SET_KCUBETRIGIOCONFIG 0x0523\n",
    "MGMSG_MOT_REQ_KCUBETRIGIOCONFIG 0x0524\n",
    "MGMSG_MOT_GET_KCUBETRIGIOCONFIG 0x0525\n",
    "\n",
    "MGMSG_MOT_SET_KCUBEPOSTRIGPARAMS 0x0526\n",
    "MGMSG_MOT_REQ_KCUBEPOSTRIGPARAMS 0x0527\n",
    "MGMSG_MOT_GET_KCUBEPOSTRIGPARAMS 0x0528"
   ]
  },
  {
   "cell_type": "code",
   "execution_count": 10,
   "metadata": {},
   "outputs": [
    {
     "name": "stdout",
     "output_type": "stream",
     "text": [
      "None\n"
     ]
    },
    {
     "ename": "TypeError",
     "evalue": "'NoneType' object is not subscriptable",
     "output_type": "error",
     "traceback": [
      "\u001b[1;31m---------------------------------------------------------------------------\u001b[0m",
      "\u001b[1;31mTypeError\u001b[0m                                 Traceback (most recent call last)",
      "Cell \u001b[1;32mIn[10], line 2\u001b[0m\n\u001b[0;32m      1\u001b[0m \u001b[38;5;28mprint\u001b[39m(stage\u001b[38;5;241m.\u001b[39mrequest_kcube_trigger_config(\u001b[38;5;241m1\u001b[39m))\n\u001b[1;32m----> 2\u001b[0m \u001b[38;5;28mprint\u001b[39m(\u001b[43mstage\u001b[49m\u001b[38;5;241;43m.\u001b[39;49m\u001b[43mget_kcube_trigger_config\u001b[49m\u001b[43m(\u001b[49m\u001b[43m)\u001b[49m)\n",
      "File \u001b[1;32m~\\AppData\\Roaming\\Python\\Python310\\site-packages\\thorlabs_apt_device\\devices\\aptdevice_motor.py:559\u001b[0m, in \u001b[0;36mAPTDevice_Motor.get_kcube_trigger_config\u001b[1;34m(self)\u001b[0m\n\u001b[0;32m    556\u001b[0m \u001b[38;5;28;01mdef\u001b[39;00m \u001b[38;5;21mget_kcube_trigger_config\u001b[39m(\u001b[38;5;28mself\u001b[39m):\n\u001b[0;32m    557\u001b[0m     \u001b[38;5;66;03m# Read the response structure (18 bytes)\u001b[39;00m\n\u001b[0;32m    558\u001b[0m     response \u001b[38;5;241m=\u001b[39m \u001b[38;5;28mself\u001b[39m\u001b[38;5;241m.\u001b[39mreceive_message(\u001b[38;5;241m18\u001b[39m)\n\u001b[1;32m--> 559\u001b[0m     \u001b[38;5;28;01mif\u001b[39;00m \u001b[43mresponse\u001b[49m\u001b[43m[\u001b[49m\u001b[38;5;241;43m0\u001b[39;49m\u001b[43m:\u001b[49m\u001b[38;5;241;43m3\u001b[39;49m\u001b[43m]\u001b[49m \u001b[38;5;241m!=\u001b[39m \u001b[38;5;124mb\u001b[39m\u001b[38;5;124m'\u001b[39m\u001b[38;5;130;01m\\x25\u001b[39;00m\u001b[38;5;130;01m\\x05\u001b[39;00m\u001b[38;5;130;01m\\x0C\u001b[39;00m\u001b[38;5;124m'\u001b[39m:\n\u001b[0;32m    560\u001b[0m         \u001b[38;5;28;01mraise\u001b[39;00m \u001b[38;5;167;01mException\u001b[39;00m(\u001b[38;5;124m'\u001b[39m\u001b[38;5;124mInvalid response for GET_KCUBETRIGIOCONFIG\u001b[39m\u001b[38;5;124m'\u001b[39m)\n\u001b[0;32m    562\u001b[0m     chan_ident, trig1_mode, trig1_polarity, trig2_mode, trig2_polarity, reserved \u001b[38;5;241m=\u001b[39m struct\u001b[38;5;241m.\u001b[39munpack(\u001b[38;5;124m'\u001b[39m\u001b[38;5;124m<HHHHHH\u001b[39m\u001b[38;5;124m'\u001b[39m, response[\u001b[38;5;241m6\u001b[39m:])\n",
      "\u001b[1;31mTypeError\u001b[0m: 'NoneType' object is not subscriptable"
     ]
    }
   ],
   "source": [
    "print(stage.request_kcube_trigger_config(1))\n",
    "print(stage.get_kcube_trigger_config())"
   ]
  },
  {
   "cell_type": "code",
   "execution_count": 3,
   "metadata": {},
   "outputs": [
    {
     "name": "stdout",
     "output_type": "stream",
     "text": [
      "C:/Users/alm/git/Imswitch_descSPIM/\n",
      "Found in C:/Users/alm/git/Imswitch_descSPIM/.git\\index on line 23: \u0005\u0016[&\u00158\u0000?imswitch/_data/user_defaults/imcontrol_setups/example_sted.json\u0000\u0000\u0000f>\u0017\u00031fS;\n",
      "Found in C:/Users/alm/git/Imswitch_descSPIM/docs\\use-cases.rst on line 72: For this microscope use case, we created the JSON file ``example_sted.json``, located at ``/imswitch/_data/user_defaults/imcontrol_setups/example_sted.json``\n",
      "Found in C:/Users/alm/git/Imswitch_descSPIM/testing_scripts\\connect_lasers_cobolt.ipynb on line 27: \"Found in C:/Users/alm/git/Imswitch_descspim/imswitch\\\\_data\\\\user_defaults\\\\imcontrol_setups\\\\example_sted.json on line 178: \\\"baudrate\\\": 57600,\\n\",\n",
      "Found in C:/Users/alm/git/Imswitch_descSPIM/testing_scripts\\connect_lasers_cobolt.ipynb on line 28: \"Found in C:/Users/alm/git/Imswitch_descspim/imswitch\\\\_data\\\\user_defaults\\\\imcontrol_setups\\\\example_sted.json on line 194: \\\"baudrate\\\": 115200,\\n\",\n",
      "Found in C:/Users/alm/git/Imswitch_descSPIM/testing_scripts\\move_kdc101.ipynb on line 584: \"Found in C:/Users/alm/git/Imswitch_descSPIM/imswitch\\\\_data\\\\user_defaults\\\\imcontrol_setups\\\\example_sted.json on line 33: \\\"gain\\\": 0,\\n\",\n",
      "Found in C:/Users/alm/git/Imswitch_descSPIM/testing_scripts\\move_kdc101.ipynb on line 585: \"Found in C:/Users/alm/git/Imswitch_descSPIM/imswitch\\\\_data\\\\user_defaults\\\\imcontrol_setups\\\\example_sted.json on line 49: \\\"gain\\\": 0,\\n\",\n"
     ]
    }
   ],
   "source": [
    "import os\n",
    "import fnmatch\n",
    "import re\n",
    "\n",
    "def search_string_in_files(directory, search_string):\n",
    "    matches = []\n",
    "    pattern = re.compile(search_string)\n",
    "\n",
    "    for root, dirnames, filenames in os.walk(directory):\n",
    "        for filename in fnmatch.filter(filenames, '*'):\n",
    "            filepath = os.path.join(root, filename)\n",
    "            try:\n",
    "                with open(filepath, 'r', encoding='utf-8', errors='ignore') as file:\n",
    "                    for line_number, line in enumerate(file, 1):\n",
    "                        if pattern.search(line):\n",
    "                            matches.append({\n",
    "                                'file': filepath,\n",
    "                                'line_number': line_number,\n",
    "                                'line': line.strip()\n",
    "                            })\n",
    "            except Exception as e:\n",
    "                print(f\"Could not read file {filepath}: {e}\")\n",
    "\n",
    "    return matches\n",
    "\n",
    "# Example usage\n",
    "directory_to_search = 'C:/Users/alm/git/Imswitch_descSPIM/'\n",
    "#directory_to_search = 'C:/Users/alm/AppData/Roaming/Python/Python310/site-packages/thorlabs_apt_device/'\n",
    "print(directory_to_search)\n",
    "string_to_search = 'example_sted'\n",
    "results = search_string_in_files(directory_to_search, string_to_search)\n",
    "\n",
    "for match in results:\n",
    "    print(f\"Found in {match['file']} on line {match['line_number']}: {match['line']}\")\n"
   ]
  },
  {
   "cell_type": "code",
   "execution_count": 16,
   "metadata": {},
   "outputs": [],
   "source": [
    "# test calculation\n",
    "posConvFac = 34554.96\n",
    "posConvFac = 1/posConvFac * 1000\n",
    "req_step = 1.3 \n",
    "req_zstep_du = req_step * posConvFac * 1000\n",
    "\n",
    "a = 200\n",
    "b = 200\n",
    "a2 = 800\n",
    "b2 = 400\n",
    "\n",
    "factor = abs(a - a2) / abs(b - b2)\n",
    "factor = 3.2345\n",
    "        \n",
    "du_camera = [i for i in range(1, 100)]                          # device units camera\n",
    "dist_camera = [i*posConvFac for i in du_camera]                 # distance camera in µm\n",
    "dist_sample = [i*factor for i in dist_camera]                   # distance sample in µm\n",
    "du_sample = [i/posConvFac for i in dist_sample]                 # device units sample\n",
    "        \n",
    "result = [(i, du) for i, du in enumerate(du_sample) if int(du) + 1 - du <= 0.1]\n",
    "closest_du = min(result, key=lambda x: abs(x[1] - req_zstep_du))\n",
    "\n",
    "sample_zstep = closest_du[1] * posConvFac\n",
    "camera_zstep = dist_camera[closest_du[0]]\n"
   ]
  },
  {
   "cell_type": "code",
   "execution_count": 5,
   "metadata": {},
   "outputs": [
    {
     "name": "stdout",
     "output_type": "stream",
     "text": [
      "4.999995000254387e-07 3.0000004999995 0\n",
      "9.999990000508774e-07 6.000000999999 1\n",
      "1.4999985005204053e-06 9.0000014999985 2\n",
      "1.9999980001017548e-06 12.000001999998 3\n",
      "2.499997501459461e-06 15.000002499997501 4\n",
      "2.9999970010408106e-06 18.000002999997 5\n",
      "3.4999964988458032e-06 21.0000034999965 6\n",
      "3.9999960002035095e-06 24.000003999996 7\n",
      "4.499995498008502e-06 27.000004499995498 8\n",
      "4.999995002918922e-06 30.000004999995003 9\n",
      "5.499994500723915e-06 33.0000054999945 10\n",
      "5.999994002081621e-06 36.000005999994 11\n",
      "6.4999935034393275e-06 39.0000064999935 12\n",
      "6.9999929976916064e-06 42.000006999993 13\n",
      "7.499992499049313e-06 45.0000074999925 14\n",
      "7.999992000407019e-06 48.000007999992 15\n",
      "8.499991501764725e-06 51.0000084999915 16\n",
      "8.999990996017004e-06 54.000008999990996 17\n",
      "9.499990504480138e-06 57.000009499990504 18\n",
      "9.999990005837844e-06 60.000009999990006 19\n",
      "1.0499989492984696e-05 63.00001049998949 20\n",
      "1.099998900144783e-05 66.000010999989 21\n",
      "1.1499988502805536e-05 69.0000114999885 22\n",
      "1.1999988004163242e-05 72.000011999988 23\n",
      "1.2499987519731803e-05 75.00001249998752 24\n",
      "1.2999987006878655e-05 78.000012999987 25\n",
      "1.3499986508236361e-05 81.00001349998651 26\n",
      "1.3999985995383213e-05 84.000013999986 27\n",
      "1.449998549674092e-05 87.0000144999855 28\n",
      "1.4999984998098626e-05 90.000014999985 29\n",
      "1.5499984485245477e-05 93.00001549998449 30\n",
      "1.5999984000814038e-05 96.000015999984 31\n",
      "1.6499983502171744e-05 99.0000164999835 32\n",
      "1.699998300352945e-05 102.000016999983 33\n",
      "1.7499982490676302e-05 105.00001749998249 34\n",
      "1.799998199203401e-05 108.00001799998199 35\n",
      "1.849998150760257e-05 111.00001849998151 36\n",
      "1.8999981008960276e-05 114.00001899998101 37\n",
      "1.9499980510317982e-05 117.00001949998051 38\n"
     ]
    }
   ],
   "source": [
    "\n",
    "du_sample = [3.0000004999995, 6.000000999999, 9.0000014999985, 12.000001999998, 15.000002499997501, 18.000002999997, 21.0000034999965, 24.000003999996, 27.000004499995498, 30.000004999995003, 33.0000054999945, 36.000005999994, 39.0000064999935, 42.000006999993, 45.0000074999925, 48.000007999992, 51.0000084999915, 54.000008999990996, 57.000009499990504, 60.000009999990006, 63.00001049998949, 66.000010999989, 69.0000114999885, 72.000011999988, 75.00001249998752, 78.000012999987, 81.00001349998651, 84.000013999986, 87.0000144999855, 90.000014999985, 93.00001549998449, 96.000015999984, 99.0000164999835, 102.000016999983, 105.00001749998249, 108.00001799998199, 111.00001849998151, 114.00001899998101, 117.00001949998051]\n",
    "\n",
    "for i, du in enumerate(du_sample):\n",
    "    s = abs(int(du) - du)\n",
    "    print(s, du, i)"
   ]
  },
  {
   "cell_type": "code",
   "execution_count": 6,
   "metadata": {},
   "outputs": [
    {
     "name": "stdout",
     "output_type": "stream",
     "text": [
      "[(0, 3.0000004999995), (1, 6.000000999999), (2, 9.0000014999985), (3, 12.000001999998), (4, 15.000002499997501), (5, 18.000002999997), (6, 21.0000034999965), (7, 24.000003999996), (8, 27.000004499995498), (9, 30.000004999995003), (10, 33.0000054999945), (11, 36.000005999994), (12, 39.0000064999935), (13, 42.000006999993), (14, 45.0000074999925), (15, 48.000007999992), (16, 51.0000084999915), (17, 54.000008999990996), (18, 57.000009499990504), (19, 60.000009999990006), (20, 63.00001049998949), (21, 66.000010999989), (22, 69.0000114999885), (23, 72.000011999988), (24, 75.00001249998752), (25, 78.000012999987), (26, 81.00001349998651), (27, 84.000013999986), (28, 87.0000144999855), (29, 90.000014999985), (30, 93.00001549998449), (31, 96.000015999984), (32, 99.0000164999835), (33, 102.000016999983), (34, 105.00001749998249), (35, 108.00001799998199), (36, 111.00001849998151), (37, 114.00001899998101), (38, 117.00001949998051)]\n"
     ]
    }
   ],
   "source": [
    "result = [(i, du) for i, du in enumerate(du_sample) if abs(int(du) - du) <= 0.1]\n",
    "print(result)"
   ]
  },
  {
   "cell_type": "code",
   "execution_count": 2,
   "metadata": {},
   "outputs": [
    {
     "data": {
      "text/plain": [
       "1"
      ]
     },
     "execution_count": 2,
     "metadata": {},
     "output_type": "execute_result"
    }
   ],
   "source": [
    "round(0.80000)"
   ]
  }
 ],
 "metadata": {
  "kernelspec": {
   "display_name": "ims_des",
   "language": "python",
   "name": "python3"
  },
  "language_info": {
   "codemirror_mode": {
    "name": "ipython",
    "version": 3
   },
   "file_extension": ".py",
   "mimetype": "text/x-python",
   "name": "python",
   "nbconvert_exporter": "python",
   "pygments_lexer": "ipython3",
   "version": "3.10.14"
  }
 },
 "nbformat": 4,
 "nbformat_minor": 2
}
