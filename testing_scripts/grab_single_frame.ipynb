{
 "cells": [
  {
   "cell_type": "code",
   "execution_count": 1,
   "metadata": {},
   "outputs": [
    {
     "name": "stdout",
     "output_type": "stream",
     "text": [
      "frame #1 received!\n",
      "frame #2 received!\n"
     ]
    },
    {
     "ename": "KeyboardInterrupt",
     "evalue": "",
     "output_type": "error",
     "traceback": [
      "\u001b[1;31m---------------------------------------------------------------------------\u001b[0m",
      "\u001b[1;31mKeyboardInterrupt\u001b[0m                         Traceback (most recent call last)",
      "Cell \u001b[1;32mIn[1], line 35\u001b[0m\n\u001b[0;32m     33\u001b[0m frames_acquired \u001b[38;5;241m=\u001b[39m \u001b[38;5;241m0\u001b[39m\n\u001b[0;32m     34\u001b[0m \u001b[38;5;28;01mwhile\u001b[39;00m frames_acquired \u001b[38;5;241m<\u001b[39m NUM_FRAMES:\n\u001b[1;32m---> 35\u001b[0m     frame \u001b[38;5;241m=\u001b[39m \u001b[43mcamera\u001b[49m\u001b[38;5;241;43m.\u001b[39;49m\u001b[43mget_pending_frame_or_null\u001b[49m\u001b[43m(\u001b[49m\u001b[43m)\u001b[49m\n\u001b[0;32m     36\u001b[0m     frames_acquired \u001b[38;5;241m+\u001b[39m\u001b[38;5;241m=\u001b[39m \u001b[38;5;241m1\u001b[39m\n\u001b[0;32m     37\u001b[0m     \u001b[38;5;28;01mif\u001b[39;00m frame \u001b[38;5;129;01mis\u001b[39;00m \u001b[38;5;129;01mnot\u001b[39;00m \u001b[38;5;28;01mNone\u001b[39;00m:\n",
      "File \u001b[1;32mc:\\users\\alm\\git\\imswitch_descspim\\thorlabs_tsi_sdk-0.0.8\\thorlabs_tsi_sdk\\tl_camera.py:563\u001b[0m, in \u001b[0;36mTLCamera.get_pending_frame_or_null\u001b[1;34m(self)\u001b[0m\n\u001b[0;32m    561\u001b[0m metadata_pointer \u001b[38;5;241m=\u001b[39m POINTER(c_char)()\n\u001b[0;32m    562\u001b[0m metadata_size_in_bytes \u001b[38;5;241m=\u001b[39m c_int()\n\u001b[1;32m--> 563\u001b[0m error_code \u001b[38;5;241m=\u001b[39m \u001b[38;5;28;43mself\u001b[39;49m\u001b[38;5;241;43m.\u001b[39;49m\u001b[43m_sdk\u001b[49m\u001b[38;5;241;43m.\u001b[39;49m\u001b[43mtl_camera_get_pending_frame_or_null\u001b[49m\u001b[43m(\u001b[49m\u001b[38;5;28;43mself\u001b[39;49m\u001b[38;5;241;43m.\u001b[39;49m\u001b[43m_camera\u001b[49m\u001b[43m,\u001b[49m\u001b[43m \u001b[49m\u001b[43mimage_buffer\u001b[49m\u001b[43m,\u001b[49m\u001b[43m \u001b[49m\u001b[43mframe_count\u001b[49m\u001b[43m,\u001b[49m\n\u001b[0;32m    564\u001b[0m \u001b[43m                                                           \u001b[49m\u001b[43mmetadata_pointer\u001b[49m\u001b[43m,\u001b[49m\u001b[43m \u001b[49m\u001b[43mmetadata_size_in_bytes\u001b[49m\u001b[43m)\u001b[49m\n\u001b[0;32m    565\u001b[0m \u001b[38;5;28;01mif\u001b[39;00m error_code \u001b[38;5;241m!=\u001b[39m \u001b[38;5;241m0\u001b[39m:\n\u001b[0;32m    566\u001b[0m     \u001b[38;5;28;01mraise\u001b[39;00m TLCameraError(_create_c_failure_message(\u001b[38;5;28mself\u001b[39m\u001b[38;5;241m.\u001b[39m_sdk, \u001b[38;5;124m\"\u001b[39m\u001b[38;5;124mtl_camera_get_pending_frame_or_null\u001b[39m\u001b[38;5;124m\"\u001b[39m,\n\u001b[0;32m    567\u001b[0m                                                   error_code))\n",
      "\u001b[1;31mKeyboardInterrupt\u001b[0m: "
     ]
    }
   ],
   "source": [
    "import numpy as np\n",
    "import os\n",
    "from thorlabs_tsi_sdk.tl_camera import TLCameraSDK, OPERATION_MODE\n",
    "import matplotlib.pyplot as plt\n",
    "import tifffile\n",
    "import time\n",
    "\n",
    "output_dir = './output_cam_test/'\n",
    "if not os.path.exists(output_dir):\n",
    "    os.makedirs(output_dir)\n",
    "\n",
    "NUM_FRAMES = 30  # adjust to the desired number of frames\n",
    "os.add_dll_directory(os.path.abspath('../imswitch/imcontrol/model/interfaces/thorlabs_tsi_sdk/dll/')) # add the location of the SDK DLLs to the PATH\n",
    "filename = 'output.tif'\n",
    "# check if filename exists, if so, delete it\n",
    "if os.path.exists(output_dir + os.sep + filename):\n",
    "    os.remove(output_dir + os.sep + filename)\n",
    "    \n",
    "with TLCameraSDK() as sdk:\n",
    "    available_cameras = sdk.discover_available_cameras()\n",
    "    if len(available_cameras) < 1:\n",
    "        print(\"no cameras detected\")\n",
    "    sdk.open_camera(available_cameras[0])\n",
    "    with sdk.open_camera(available_cameras[0]) as camera:\n",
    "        camera.exposure_time_us = 10000  # set exposure to 11 ms\n",
    "        camera.operation_mode = 1\n",
    "        camera.frames_per_trigger_zero_for_unlimited = 1  # start camera in continuous mode\n",
    "        camera.image_poll_timeout_ms = 2000  # 1 second polling timeout\n",
    "\n",
    "        camera.arm(2)\n",
    "        t0 = time.time()\n",
    "        camera.issue_software_trigger()\n",
    "        frames_acquired = 0\n",
    "        while frames_acquired < NUM_FRAMES:\n",
    "            frame = camera.get_pending_frame_or_null()\n",
    "            frames_acquired += 1\n",
    "            if frame is not None:\n",
    "                print(\"frame #{} received!\".format(frame.frame_count))\n",
    "                img = frame.image_buffer\n",
    "                with tifffile.TiffWriter(output_dir + os.sep + filename, append=True) as tif:\n",
    "                    tif.write(data = img)\n",
    "                    \n",
    "\n",
    "            else:\n",
    "                raise TimeoutError(\"Timeout was reached while polling for a frame, program will now exit\")\n",
    "\n",
    "        t = time.time() - t0\n",
    "        print('Acqusition done, time elapsed: {:.2f} s and {:.2f} ms per image'.format(t, t/NUM_FRAMES*1000))\n",
    "                \n",
    "            \n",
    "        camera.disarm()\n",
    "\n",
    "#  Because we are using the 'with' statement context-manager, disposal has been taken care of.\n",
    "\n",
    "print(\"program completed\")"
   ]
  },
  {
   "cell_type": "code",
   "execution_count": null,
   "metadata": {},
   "outputs": [],
   "source": [
    "import tifffile\n",
    "path = 'C:/Users/alm/Documents/ImSwitchConfig/recordings/2024-05-26/13h55m28s_rec_thorlabscam.tiff'\n",
    "tif = tifffile.imread(path)\n",
    "print(tif.shape)"
   ]
  }
 ],
 "metadata": {
  "kernelspec": {
   "display_name": "imswitch",
   "language": "python",
   "name": "python3"
  },
  "language_info": {
   "codemirror_mode": {
    "name": "ipython",
    "version": 3
   },
   "file_extension": ".py",
   "mimetype": "text/x-python",
   "name": "python",
   "nbconvert_exporter": "python",
   "pygments_lexer": "ipython3",
   "version": "3.10.14"
  }
 },
 "nbformat": 4,
 "nbformat_minor": 2
}
