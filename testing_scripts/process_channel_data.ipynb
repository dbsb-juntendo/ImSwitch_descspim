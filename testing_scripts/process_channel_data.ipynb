{
 "cells": [
  {
   "cell_type": "code",
   "execution_count": 1,
   "metadata": {},
   "outputs": [],
   "source": [
    "import tifffile\n",
    "import os\n",
    "from natsort import os_sorted\n",
    "import numpy as np\n",
    "import napari\n",
    "#viewer = napari.Viewer()"
   ]
  },
  {
   "cell_type": "code",
   "execution_count": 2,
   "metadata": {},
   "outputs": [],
   "source": [
    "home = 'C:/Users/alm/Documents/ImSwitchConfig/recordings/2024-07-31/13h03m43s_rec_thorlabscam/'\n",
    "files = os_sorted(os.listdir(home))\n",
    "stack =  np.array([tifffile.imread(home + file) for file in files])"
   ]
  },
  {
   "cell_type": "code",
   "execution_count": 3,
   "metadata": {},
   "outputs": [],
   "source": [
    "def reshape_tiff_data(data, num_channels):\n",
    "    # Initialize the output array with the desired shape (3, 250, 500, 500)\n",
    "    zsteps = len(data)//num_channels\n",
    "    output = np.zeros((num_channels, zsteps, data.shape[1], data.shape[2]), dtype=np.uint16)\n",
    "\n",
    "    # Iterate over the z-steps\n",
    "    for z in range(len(data)//num_channels):\n",
    "        if z % 2 == 0:\n",
    "            for c in range(num_channels):\n",
    "                output[c, z] = data[z * 3 + c]\n",
    "        else:\n",
    "            for c in range(num_channels):\n",
    "                ci = num_channels - c - 1\n",
    "                output[ci, z] = data[z * 3 + c]\n",
    "\n",
    "    return output\n",
    "# Example usage\n",
    "reshaped_data = reshape_tiff_data(stack, 3)\n"
   ]
  },
  {
   "cell_type": "code",
   "execution_count": 4,
   "metadata": {},
   "outputs": [],
   "source": [
    "save_path = 'C:/Users/alm/Documents/ImSwitchConfig/recordings/2024-07-31/megatile/'\n",
    "for c in range(reshaped_data.shape[0]):\n",
    "    ##viewer.add_image(reshaped_data[c], name=str(c), colormap='gray', scale=(1.7097, 0.345, 0.345), blending='additive')\n",
    "    tifffile.imwrite(save_path + 'tile_2_channel_' + str(c) + '.tif', \n",
    "                     reshaped_data[c].astype(np.uint16),\n",
    "                     resolution=(1/0.345, 1/0.345),\n",
    "                     metadata={'spacing': 1.7097,'unit':'um', 'axes':'ZYX'})"
   ]
  },
  {
   "cell_type": "code",
   "execution_count": 5,
   "metadata": {},
   "outputs": [],
   "source": [
    "#viewer.add_image(stack, name='stack')#, colormap='green', blending='additive')\n",
    "\n"
   ]
  }
 ],
 "metadata": {
  "kernelspec": {
   "display_name": "ims_des",
   "language": "python",
   "name": "python3"
  },
  "language_info": {
   "codemirror_mode": {
    "name": "ipython",
    "version": 3
   },
   "file_extension": ".py",
   "mimetype": "text/x-python",
   "name": "python",
   "nbconvert_exporter": "python",
   "pygments_lexer": "ipython3",
   "version": "3.10.14"
  }
 },
 "nbformat": 4,
 "nbformat_minor": 2
}
