{
 "cells": [
  {
   "cell_type": "code",
   "execution_count": 31,
   "metadata": {},
   "outputs": [
    {
     "name": "stderr",
     "output_type": "stream",
     "text": [
      "C:\\Users\\max.sen\\AppData\\Roaming\\Python\\Python39\\site-packages\\napari\\plugins\\_plugin_manager.py:555: UserWarning: Plugin 'napari-time-slicer' has already registered a function widget 'convert to 2d timelapse' which has now been overwritten\n",
      "  warn(message=warn_message)\n"
     ]
    }
   ],
   "source": [
    "import h5py\n",
    "import numpy as np\n",
    "import os\n",
    "import napari\n",
    "import zarr\n",
    "\n",
    "\n",
    "viewer = napari.Viewer()"
   ]
  },
  {
   "cell_type": "code",
   "execution_count": 29,
   "metadata": {},
   "outputs": [],
   "source": [
    "paths = 'C:/Users/max.sen/Documents/ImSwitchConfig/recordings/2024-04-24/'"
   ]
  },
  {
   "cell_type": "code",
   "execution_count": 47,
   "metadata": {},
   "outputs": [
    {
     "name": "stdout",
     "output_type": "stream",
     "text": [
      "['13h48m24s_rec_whatever.hdf5', '14h47m22s_rec_whatever.hdf5']\n"
     ]
    },
    {
     "data": {
      "text/plain": [
       "<Image layer 'data' at 0x16a03160a00>"
      ]
     },
     "execution_count": 47,
     "metadata": {},
     "output_type": "execute_result"
    }
   ],
   "source": [
    "# load hdf5 file\n",
    "files = [i for i in os.listdir(paths) if i.endswith('.hdf5')]\n",
    "print(files)\n",
    "\n",
    "files.sort(key=lambda x: os.path.getctime(os.path.join(paths, x)), reverse=True)\n",
    "\n",
    "with h5py.File(paths + files[0], 'r') as f:\n",
    "    # List all groups\n",
    "    #print(\"Keys: %s\" % f.keys())\n",
    "    a_group_key = list(f.keys())[0]\n",
    "\n",
    "    # Get the data\n",
    "    data = np.array(list(f[a_group_key]))\n",
    "\n",
    "viewer.add_image(data, name='data', colormap='viridis')"
   ]
  },
  {
   "cell_type": "code",
   "execution_count": 46,
   "metadata": {},
   "outputs": [
    {
     "name": "stdout",
     "output_type": "stream",
     "text": [
      "['13h50m37s_rec_whatever.zarr']\n",
      "Arrays in the Zarr image folder:\n",
      "/\n",
      " └── whatever (20, 2160, 4096) int16\n"
     ]
    },
    {
     "data": {
      "text/plain": [
       "<Image layer 'zarr [1]' at 0x16a02f89ca0>"
      ]
     },
     "execution_count": 46,
     "metadata": {},
     "output_type": "execute_result"
    }
   ],
   "source": [
    "# load zarr\n",
    "files = [i for i in os.listdir(paths) if i.endswith('.zarr')]\n",
    "print(files)\n",
    "\n",
    "files.sort(key=lambda x: os.path.getctime(os.path.join(paths, x)), reverse=True)\n",
    "\n",
    "store = zarr.DirectoryStore(paths + files[0])\n",
    "zarr_group = zarr.open(store)\n",
    "\n",
    "# List all arrays in the Zarr group\n",
    "print(\"Arrays in the Zarr image folder:\")\n",
    "print(zarr_group.tree())\n",
    "arrays = list(zarr_group.arrays())\n",
    "array_name = arrays[0][0]\n",
    "array = zarr_group[array_name]\n",
    "\n",
    "viewer.add_image(array, name='zarr', colormap='viridis')\n"
   ]
  },
  {
   "cell_type": "code",
   "execution_count": null,
   "metadata": {},
   "outputs": [],
   "source": []
  }
 ],
 "metadata": {
  "kernelspec": {
   "display_name": "Python 3",
   "language": "python",
   "name": "python3"
  },
  "language_info": {
   "codemirror_mode": {
    "name": "ipython",
    "version": 3
   },
   "file_extension": ".py",
   "mimetype": "text/x-python",
   "name": "python",
   "nbconvert_exporter": "python",
   "pygments_lexer": "ipython3",
   "version": "3.9.19"
  }
 },
 "nbformat": 4,
 "nbformat_minor": 2
}
