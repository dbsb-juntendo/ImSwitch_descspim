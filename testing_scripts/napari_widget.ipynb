{
 "cells": [
  {
   "cell_type": "code",
   "execution_count": 15,
   "metadata": {},
   "outputs": [],
   "source": [
    "import tifffile\n",
    "import os\n",
    "from natsort import os_sorted\n",
    "import numpy as np\n",
    "import napari\n",
    "from napari.layers import Image\n",
    "from magicgui import magicgui"
   ]
  },
  {
   "cell_type": "code",
   "execution_count": null,
   "metadata": {},
   "outputs": [],
   "source": [
    "viewer = napari.Viewer()"
   ]
  },
  {
   "cell_type": "code",
   "execution_count": 2,
   "metadata": {},
   "outputs": [],
   "source": [
    "home = 'C:/Users/alm/Documents/ImSwitchConfig/recordings/2024-07-29/18h05m09s_rec_thorlabscam/'\n",
    "files = os_sorted(os.listdir(home))\n",
    "stack =  np.array([tifffile.imread(home + file) for file in files])[]"
   ]
  },
  {
   "cell_type": "code",
   "execution_count": 13,
   "metadata": {},
   "outputs": [],
   "source": [
    "def reshape_tiff_data(data, num_channels, save=False):\n",
    "    # Initialize the output array with the desired shape (3, 250, 500, 500)\n",
    "    zsteps = len(data)//num_channels\n",
    "    output = np.zeros((num_channels, zsteps, data.shape[1], data.shape[2]), dtype=np.uint16)\n",
    "\n",
    "    # Iterate over the z-steps\n",
    "    for z in range(len(data)//num_channels):\n",
    "        if z % 2 == 0:\n",
    "            for c in range(num_channels):\n",
    "                output[c, z] = data[z * 3 + c]\n",
    "        else:\n",
    "            for c in range(num_channels):\n",
    "                ci = num_channels - c - 1\n",
    "                output[ci, z] = data[z * 3 + c]\n",
    "    if save:\n",
    "        for c in range(output.shape[0]):\n",
    "            tifffile.imwrite(f'{save}channel_{c}.tif', output[c])\n",
    "    return output\n",
    "# Example usage\n"
   ]
  },
  {
   "cell_type": "code",
   "execution_count": 14,
   "metadata": {},
   "outputs": [
    {
     "data": {
      "text/plain": [
       "<napari._qt.widgets.qt_viewer_dock_widget.QtViewerDockWidget at 0x1a4b749cca0>"
      ]
     },
     "execution_count": 14,
     "metadata": {},
     "output_type": "execute_result"
    }
   ],
   "source": [
    "@magicgui(image={'label': 'Pick an Image'})\n",
    "def my_widget(image: Image,\n",
    "              num_channels: int = 3,\n",
    "              ) -> Image:\n",
    "    new_image = reshape_tiff_data(image.data, num_channels)\n",
    "    return Image(new_image, name='reshaped')\n",
    "\n",
    "viewer.window.add_dock_widget(my_widget)\n",
    "\n"
   ]
  }
 ],
 "metadata": {
  "kernelspec": {
   "display_name": "ims_des",
   "language": "python",
   "name": "python3"
  },
  "language_info": {
   "codemirror_mode": {
    "name": "ipython",
    "version": 3
   },
   "file_extension": ".py",
   "mimetype": "text/x-python",
   "name": "python",
   "nbconvert_exporter": "python",
   "pygments_lexer": "ipython3",
   "version": "3.10.14"
  }
 },
 "nbformat": 4,
 "nbformat_minor": 2
}
