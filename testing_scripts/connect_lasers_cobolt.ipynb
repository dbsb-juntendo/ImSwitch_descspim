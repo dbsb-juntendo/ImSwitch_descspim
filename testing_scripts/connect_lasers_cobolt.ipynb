{
 "cells": [
  {
   "cell_type": "code",
   "execution_count": 7,
   "metadata": {},
   "outputs": [
    {
     "name": "stdout",
     "output_type": "stream",
     "text": [
      "C:/Users/alm/git/Imswitch_descspim/\n",
      "Found in C:/Users/alm/git/Imswitch_descspim/imswitch\\imcontrol\\controller\\CommunicationChannel.py on line 43: sigUpdateRecTime = Signal(int)  # (recTime)\n",
      "Found in C:/Users/alm/git/Imswitch_descspim/imswitch\\imcontrol\\controller\\MasterController.py on line 74: self.recordingManager.sigRecordingTimeUpdated.connect(cc.sigUpdateRecTime)\n",
      "Found in C:/Users/alm/git/Imswitch_descspim/imswitch\\imcontrol\\controller\\controllers\\RecordingController.py on line 48: self._commChannel.sigUpdateRecTime.connect(self.updateRecTime)\n",
      "Found in C:/Users/alm/git/Imswitch_descspim/imswitch\\imcontrol\\controller\\controllers\\__pycache__\\RecordingController.cpython-310.pyc on line 26: specFrames\f_commChannel\u0013sigRecordingStarted\u0007connect\u0010recordingStarted\u0011sigRecordingEnded\u000erecordingEnded\u000bsigScanDonscanDoneZ\u0014sigUpdateRecFrameNum\u0011updateRecFrameNumZ\u0010sigUpdateRecTime\n",
      "Found in C:/Users/alm/git/Imswitch_descspim/imswitch\\imcontrol\\controller\\__pycache__\\CommunicationChannel.cpython-310.pyc on line 38: __module__\f__qualname__\u0007__doc__r\u0003\u0000\u0000\u0000\u0003str\u0002np\u0007ndarray\u0004bool\u0004list\u000esigUpdateImager=\u0000\u0000\u0000r>\u0000\u0000\u0000r6\u0000\u0000\u0000\u0006object\u000esigAdjustFrame\u0013sigDetectorSwitched\u000esigGridToggled\u0013sigCrosshairToggled\u000esigAddItemToVb\u0013sigRemoveItemFromVbr?\u0000\u0000\u0000r@\u0000\u0000\u0000\u0003int\u0014sigUpdateRecFrameNum\u0010sigUpdateRecTime\u0016sigMemorySnapAvailable\n",
      "Found in C:/Users/alm/git/Imswitch_descspim/imswitch\\imcontrol\\controller\\__pycache__\\MasterController.cpython-310.pyc on line 22: \u0000\u0000\u0000\u0005error\u0015sigAcquisitionStarted\u0007connect\u0015sigAcquisitionStopped\u0013sigDetectorSwitched\u000fsigImageUpdated\u000esigUpdateImage\u000bsigNewFrame\u0013sigRecordingStarted\u0011sigRecordingEnded\u001bsigRecordingFrameNumUpdated\u0014sigUpdateRecFrameNum\u0017sigRecordingTimeUpdated\u0010sigUpdateRecTime\u0016sigMemorySnapAvailable\u001bsigMemoryRecordingAvailable\u0018memoryRecordingAvailable\u0011sigSLMMaskUpdated)\u0006\u0004self\tsetupInfo\u000bcommChannel\u0011moduleCommChannel\u0010lowLevelManagers\u0002cc\u0000rA\u0000\u0000\u0000TC:\\Users\\alm\\git\\ImSwitch_descspim\\imswitch\\imcontrol\\controller\\MasterController.p__init__\u000e\u0000\u0000\u0000sf\u0000\u0000\u0000\n"
     ]
    }
   ],
   "source": [
    "import os\n",
    "import fnmatch\n",
    "import re\n",
    "\n",
    "def search_string_in_files(directory, search_string):\n",
    "    matches = []\n",
    "    pattern = re.compile(search_string)\n",
    "\n",
    "    for root, dirnames, filenames in os.walk(directory):\n",
    "        for filename in fnmatch.filter(filenames, '*'):\n",
    "            filepath = os.path.join(root, filename)\n",
    "            try:\n",
    "                with open(filepath, 'r', encoding='utf-8', errors='ignore') as file:\n",
    "                    for line_number, line in enumerate(file, 1):\n",
    "                        if pattern.search(line):\n",
    "                            matches.append({\n",
    "                                'file': filepath,\n",
    "                                'line_number': line_number,\n",
    "                                'line': line.strip()\n",
    "                            })\n",
    "            except Exception as e:\n",
    "                print(f\"Could not read file {filepath}: {e}\")\n",
    "\n",
    "    return matches\n",
    "\n",
    "# Example usage\n",
    "directory_to_search = 'C:/Users/alm/git/Imswitch_descspim/'\n",
    "#directory_to_search = 'C:/Users/alm/AppData/Roaming/Python/Python310/site-packages/thorlabs_apt_device/'\n",
    "print(directory_to_search)\n",
    "\n",
    "string_to_search = 'sigUpdateRecTime'\n",
    "\n",
    "results = search_string_in_files(directory_to_search, string_to_search)\n",
    "\n",
    "for match in results:\n",
    "    print(f\"Found in {match['file']} on line {match['line_number']}: {match['line']}\")\n"
   ]
  },
  {
   "cell_type": "code",
   "execution_count": 1,
   "metadata": {},
   "outputs": [
    {
     "data": {
      "text/plain": [
       "True"
      ]
     },
     "execution_count": 1,
     "metadata": {},
     "output_type": "execute_result"
    }
   ],
   "source": [
    "import pycobolt\n",
    "import time\n",
    "\n",
    "laser = pycobolt.Cobolt06DPL(port='COM12') # Creates a new Cobolt Laser object.\n",
    "time.sleep(2)\n",
    "laser.is_connected()"
   ]
  },
  {
   "cell_type": "code",
   "execution_count": 2,
   "metadata": {},
   "outputs": [
    {
     "data": {
      "text/plain": [
       "['__class__',\n",
       " '__delattr__',\n",
       " '__dict__',\n",
       " '__dir__',\n",
       " '__doc__',\n",
       " '__enter__',\n",
       " '__eq__',\n",
       " '__exit__',\n",
       " '__format__',\n",
       " '__ge__',\n",
       " '__getattribute__',\n",
       " '__gt__',\n",
       " '__hash__',\n",
       " '__init__',\n",
       " '__init_subclass__',\n",
       " '__le__',\n",
       " '__lt__',\n",
       " '__module__',\n",
       " '__ne__',\n",
       " '__new__',\n",
       " '__reduce__',\n",
       " '__reduce_ex__',\n",
       " '__repr__',\n",
       " '__setattr__',\n",
       " '__sizeof__',\n",
       " '__str__',\n",
       " '__subclasshook__',\n",
       " '__weakref__',\n",
       " '_classify_',\n",
       " '_identify_',\n",
       " '_timeDiff_',\n",
       " 'address',\n",
       " 'analog_modulation',\n",
       " 'baudrate',\n",
       " 'clear_fault',\n",
       " 'connect',\n",
       " 'constant_current',\n",
       " 'constant_power',\n",
       " 'digital_modulation',\n",
       " 'disconnect',\n",
       " 'get_current',\n",
       " 'get_current_setpoint',\n",
       " 'get_fault',\n",
       " 'get_mode',\n",
       " 'get_modualtion_tec_setpoint',\n",
       " 'get_modulation_current',\n",
       " 'get_modulation_state',\n",
       " 'get_modulation_tec',\n",
       " 'get_ophours',\n",
       " 'get_power',\n",
       " 'get_power_setpoint',\n",
       " 'get_state',\n",
       " 'interlock',\n",
       " 'is_connected',\n",
       " 'is_on',\n",
       " 'modelnumber',\n",
       " 'modulation_mode',\n",
       " 'port',\n",
       " 'send_cmd',\n",
       " 'serialnumber',\n",
       " 'set_current',\n",
       " 'set_modulation_current_high',\n",
       " 'set_modulation_current_low',\n",
       " 'set_modulation_tec',\n",
       " 'set_power',\n",
       " 'turn_off',\n",
       " 'turn_on']"
      ]
     },
     "execution_count": 2,
     "metadata": {},
     "output_type": "execute_result"
    }
   ],
   "source": [
    "dir(laser)"
   ]
  },
  {
   "cell_type": "code",
   "execution_count": 5,
   "metadata": {},
   "outputs": [
    {
     "data": {
      "text/plain": [
       "'1 - Waiting for key'"
      ]
     },
     "execution_count": 5,
     "metadata": {},
     "output_type": "execute_result"
    }
   ],
   "source": [
    "laser.get_state()"
   ]
  },
  {
   "cell_type": "code",
   "execution_count": 32,
   "metadata": {},
   "outputs": [
    {
     "data": {
      "text/plain": [
       "'OK'"
      ]
     },
     "execution_count": 32,
     "metadata": {},
     "output_type": "execute_result"
    }
   ],
   "source": [
    "laser.set_modulation_power(5)"
   ]
  },
  {
   "cell_type": "code",
   "execution_count": 1,
   "metadata": {},
   "outputs": [
    {
     "ename": "NameError",
     "evalue": "name 'laser' is not defined",
     "output_type": "error",
     "traceback": [
      "\u001b[1;31m---------------------------------------------------------------------------\u001b[0m",
      "\u001b[1;31mNameError\u001b[0m                                 Traceback (most recent call last)",
      "Cell \u001b[1;32mIn[1], line 1\u001b[0m\n\u001b[1;32m----> 1\u001b[0m \u001b[43mlaser\u001b[49m\u001b[38;5;241m.\u001b[39mmodulation_mode()\n",
      "\u001b[1;31mNameError\u001b[0m: name 'laser' is not defined"
     ]
    }
   ],
   "source": [
    "laser.modulation_mode()"
   ]
  },
  {
   "cell_type": "code",
   "execution_count": 2,
   "metadata": {},
   "outputs": [
    {
     "data": {
      "text/plain": [
       "True"
      ]
     },
     "execution_count": 2,
     "metadata": {},
     "output_type": "execute_result"
    }
   ],
   "source": [
    "laser2 = pycobolt.Cobolt06DPL(port='COM12') # Creates a new Cobolt Laser object.\n",
    "time.sleep(2)\n",
    "laser2.is_connected()"
   ]
  }
 ],
 "metadata": {
  "kernelspec": {
   "display_name": "ims_des",
   "language": "python",
   "name": "python3"
  },
  "language_info": {
   "codemirror_mode": {
    "name": "ipython",
    "version": 3
   },
   "file_extension": ".py",
   "mimetype": "text/x-python",
   "name": "python",
   "nbconvert_exporter": "python",
   "pygments_lexer": "ipython3",
   "version": "3.10.14"
  }
 },
 "nbformat": 4,
 "nbformat_minor": 2
}
