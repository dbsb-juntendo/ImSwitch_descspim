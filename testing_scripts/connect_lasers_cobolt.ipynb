{
 "cells": [
  {
   "cell_type": "code",
   "execution_count": 1,
   "metadata": {},
   "outputs": [
    {
     "name": "stdout",
     "output_type": "stream",
     "text": [
      "C:/Users/alm/git/Imswitch_descspim/\n",
      "Found in C:/Users/alm/git/Imswitch_descspim/imswitch\\imcontrol\\model\\SetupInfo.py on line 107: baudrate: int\n",
      "Found in C:/Users/alm/git/Imswitch_descspim/imswitch\\imcontrol\\model\\interfaces\\ESP32Client.py on line 105: def __init__(self, host=None, port=31950, serialport=None, baudrate=115200):\n",
      "Found in C:/Users/alm/git/Imswitch_descspim/imswitch\\imcontrol\\model\\interfaces\\ESP32Client.py on line 134: self.serialdevice = serial.Serial(port=self.serialport, baudrate=baudrate, timeout=1)\n",
      "Found in C:/Users/alm/git/Imswitch_descspim/imswitch\\imcontrol\\model\\interfaces\\ESP32Client.py on line 148: self.serialdevice = serial.Serial(port=iport.device, baudrate=baudrate, timeout=1)\n",
      "Found in C:/Users/alm/git/Imswitch_descspim/imswitch\\imcontrol\\model\\interfaces\\RS232Driver.py on line 22: 'baud_rate': settings[\"baudrate\"],\n",
      "Found in C:/Users/alm/git/Imswitch_descspim/imswitch\\imcontrol\\model\\managers\\ArduinoManager.py on line 14: self.__baudrate = self.__ArduinoInfo.baudrate\n",
      "Found in C:/Users/alm/git/Imswitch_descspim/imswitch\\imcontrol\\model\\managers\\ArduinoManager.py on line 17: self.arduino = serial.Serial(self.__port, self.__baudrate)\n",
      "Found in C:/Users/alm/git/Imswitch_descspim/imswitch\\imcontrol\\model\\managers\\rs232\\ESP32Manager.py on line 30: baudrate=115200)\n",
      "Found in C:/Users/alm/git/Imswitch_descspim/imswitch\\imcontrol\\model\\managers\\rs232\\GRBLManager.py on line 17: - ``baudrate``\n",
      "Found in C:/Users/alm/git/Imswitch_descspim/imswitch\\imcontrol\\model\\managers\\rs232\\RS232Manager.py on line 16: - ``baudrate``\n",
      "Found in C:/Users/alm/git/Imswitch_descspim/imswitch\\imcontrol\\model\\managers\\__pycache__\\ArduinoManager.cpython-310.pyc on line 7: \u000ed\u0002\u0001\u0001\u0000W\u0000d\u0000S\u0000\u0001\u0000\u0001\u0000\u0001\u0000|\u0000j\u0003\u000fd\u0003|\u0000j\u0006\u0000d\u0004\u0003\u0001\u0001\u0000Y\u0000d\u0000S\u0000)\u0005Nz\u0014Initialized Arduino.\u0002\u0000\u0000\u0000z%Failed to initialize Arduino on port \u0001.)\u0010\u0005supe__init__r\u0002\u0000\u0000\u0000\u0017_ArduinoManager__loggerZ\u001c_ArduinoManager__ArduinoInfo\u0004portZ\u0015_ArduinoManager__porbaudrateZ\u0019_ArduinoManager__baudrate\u0006serialZ\u0006Serial\u0007arduino\u0005debug\u0004time\u0005sleep\u0005error)\u0004\u0004self\u000bArduinoInfo\u0004args\u0006kwargs\u0001\t__class__\u0000VC:\\Users\\alm\\git\\ImSwitch_descspim\\imswitch\\imcontrol\\model\\managers\\ArduinoManager.py\u0000\u0000\u0000\u0007\u0000\u0000\u0000s\u001a\u0000\u0000\u0000\u0012\u0001\n",
      "Found in C:/Users/alm/git/Imswitch_descspim/imswitch\\imcontrol\\model\\__pycache__\\SetupInfo.cpython-310.pyc on line 35: \u0002\u0002\u0001\u0010\u0002\u0004\u0001r3\u0000\u0000\u0000c\u0000\u0000\u0000\u0000\u0000\u0000\u0000\u0000\u0000\u0000\u0000\u0000\u0000\u0000\u0000\u0000\u0003\u0000\u0000\u0000@\u0000\u0000\u0000s \u0000\u0000\u0000e\u0000Z\u0001d\u0000Z\u0002U\u0000e\u0003e\u0004d\u0001<\u0000\t\u0000e\u0005e\u0004d\u0002<\u0000d\u0003S\u0000)\u0004\u000bArduinoInfo\u0004portbaudrateN\u0006r\u001d\u0000\u0000\u0000r\u001e\u0000\u0000\u0000r\u001f\u0000\u0000\u0000r \u0000\u0000\u0000r!\u0000\u0000\u0000r\u0015\u0000\u0000\u0000r\u0018\u0000\u0000\u0000r\u0018\u0000\u0000\u0000r\u0018\u0000\u0000\u0000r\u0019\u0000\u0000\u0000r4\u0000\u0000\u0000g\u0000\u0000\u0000s\n",
      "Found in C:/Users/alm/git/Imswitch_descspim/imswitch\\imcontrol\\view\\widgets\\ArduinoWidget.py on line 118: \"baudrate\": 9600\n",
      "Found in C:/Users/alm/git/Imswitch_descspim/imswitch\\_data\\user_defaults\\imcontrol_setups\\example_coolLED.json on line 163: \"baudrate\": 57600,\n",
      "Found in C:/Users/alm/git/Imswitch_descspim/imswitch\\_data\\user_defaults\\imcontrol_setups\\example_sted.json on line 178: \"baudrate\": 57600,\n",
      "Found in C:/Users/alm/git/Imswitch_descspim/imswitch\\_data\\user_defaults\\imcontrol_setups\\example_sted.json on line 194: \"baudrate\": 115200,\n",
      "Found in C:/Users/alm/git/Imswitch_descspim/testing_scripts\\connect_lasers_cobolt.ipynb on line 73: \"File \\u001b[1;32mc:\\\\Users\\\\alm\\\\anaconda3\\\\envs\\\\ims_des\\\\lib\\\\site-packages\\\\pycobolt\\\\pycobolt.py:40\\u001b[0m, in \\u001b[0;36mCoboltLaser.connect\\u001b[1;34m(self)\\u001b[0m\\n\\u001b[0;32m     39\\u001b[0m \\u001b[38;5;28;01mtry\\u001b[39;00m:\\n\\u001b[1;32m---> 40\\u001b[0m     \\u001b[38;5;28mself\\u001b[39m\\u001b[38;5;241m.\\u001b[39maddress \\u001b[38;5;241m=\\u001b[39m \\u001b[43mserial\\u001b[49m\\u001b[38;5;241;43m.\\u001b[39;49m\\u001b[43mSerial\\u001b[49m\\u001b[43m(\\u001b[49m\\u001b[38;5;28;43mself\\u001b[39;49m\\u001b[38;5;241;43m.\\u001b[39;49m\\u001b[43mport\\u001b[49m\\u001b[43m,\\u001b[49m\\u001b[43m \\u001b[49m\\u001b[38;5;28;43mself\\u001b[39;49m\\u001b[38;5;241;43m.\\u001b[39;49m\\u001b[43mbaudrate\\u001b[49m\\u001b[43m,\\u001b[49m\\u001b[43m \\u001b[49m\\u001b[43mtimeout\\u001b[49m\\u001b[38;5;241;43m=\\u001b[39;49m\\u001b[38;5;241;43m1\\u001b[39;49m\\u001b[43m)\\u001b[49m\\n\\u001b[0;32m     41\\u001b[0m \\u001b[38;5;28;01mexcept\\u001b[39;00m \\u001b[38;5;167;01mException\\u001b[39;00m \\u001b[38;5;28;01mas\\u001b[39;00m err:\\n\",\n",
      "Found in C:/Users/alm/git/Imswitch_descspim/testing_scripts\\connect_lasers_cobolt.ipynb on line 75: \"File \\u001b[1;32mc:\\\\Users\\\\alm\\\\anaconda3\\\\envs\\\\ims_des\\\\lib\\\\site-packages\\\\serial\\\\serialutil.py:244\\u001b[0m, in \\u001b[0;36mSerialBase.__init__\\u001b[1;34m(self, port, baudrate, bytesize, parity, stopbits, timeout, xonxoff, rtscts, write_timeout, dsrdtr, inter_byte_timeout, exclusive, **kwargs)\\u001b[0m\\n\\u001b[0;32m    243\\u001b[0m \\u001b[38;5;28;01mif\\u001b[39;00m port \\u001b[38;5;129;01mis\\u001b[39;00m \\u001b[38;5;129;01mnot\\u001b[39;00m \\u001b[38;5;28;01mNone\\u001b[39;00m:\\n\\u001b[1;32m--> 244\\u001b[0m     \\u001b[38;5;28;43mself\\u001b[39;49m\\u001b[38;5;241;43m.\\u001b[39;49m\\u001b[43mopen\\u001b[49m\\u001b[43m(\\u001b[49m\\u001b[43m)\\u001b[49m\\n\",\n",
      "Found in C:/Users/alm/git/Imswitch_descspim/testing_scripts\\connect_lasers_cobolt.ipynb on line 82: \"File \\u001b[1;32mc:\\\\Users\\\\alm\\\\anaconda3\\\\envs\\\\ims_des\\\\lib\\\\site-packages\\\\pycobolt\\\\pycobolt.py:20\\u001b[0m, in \\u001b[0;36mCoboltLaser.__init__\\u001b[1;34m(self, port, serialnumber, baudrate)\\u001b[0m\\n\\u001b[0;32m     18\\u001b[0m \\u001b[38;5;28mself\\u001b[39m\\u001b[38;5;241m.\\u001b[39mbaudrate \\u001b[38;5;241m=\\u001b[39m baudrate\\n\\u001b[0;32m     19\\u001b[0m \\u001b[38;5;28mself\\u001b[39m\\u001b[38;5;241m.\\u001b[39maddress \\u001b[38;5;241m=\\u001b[39m \\u001b[38;5;28;01mNone\\u001b[39;00m\\n\\u001b[1;32m---> 20\\u001b[0m \\u001b[38;5;28;43mself\\u001b[39;49m\\u001b[38;5;241;43m.\\u001b[39;49m\\u001b[43mconnect\\u001b[49m\\u001b[43m(\\u001b[49m\\u001b[43m)\\u001b[49m\\n\",\n",
      "Found in C:/Users/alm/git/Imswitch_descspim/testing_scripts\\connect_lasers_cobolt.ipynb on line 138: \" 'baudrate',\\n\",\n"
     ]
    }
   ],
   "source": [
    "import os\n",
    "import fnmatch\n",
    "import re\n",
    "\n",
    "def search_string_in_files(directory, search_string):\n",
    "    matches = []\n",
    "    pattern = re.compile(search_string)\n",
    "\n",
    "    for root, dirnames, filenames in os.walk(directory):\n",
    "        for filename in fnmatch.filter(filenames, '*'):\n",
    "            filepath = os.path.join(root, filename)\n",
    "            try:\n",
    "                with open(filepath, 'r', encoding='utf-8', errors='ignore') as file:\n",
    "                    for line_number, line in enumerate(file, 1):\n",
    "                        if pattern.search(line):\n",
    "                            matches.append({\n",
    "                                'file': filepath,\n",
    "                                'line_number': line_number,\n",
    "                                'line': line.strip()\n",
    "                            })\n",
    "            except Exception as e:\n",
    "                print(f\"Could not read file {filepath}: {e}\")\n",
    "\n",
    "    return matches\n",
    "\n",
    "# Example usage\n",
    "directory_to_search = 'C:/Users/alm/git/Imswitch_descspim/'\n",
    "#directory_to_search = 'C:/Users/alm/AppData/Roaming/Python/Python310/site-packages/thorlabs_apt_device/'\n",
    "print(directory_to_search)\n",
    "\n",
    "string_to_search = 'baudrate'\n",
    "\n",
    "results = search_string_in_files(directory_to_search, string_to_search)\n",
    "\n",
    "for match in results:\n",
    "    print(f\"Found in {match['file']} on line {match['line_number']}: {match['line']}\")\n"
   ]
  },
  {
   "cell_type": "code",
   "execution_count": 1,
   "metadata": {},
   "outputs": [
    {
     "data": {
      "text/plain": [
       "True"
      ]
     },
     "execution_count": 1,
     "metadata": {},
     "output_type": "execute_result"
    }
   ],
   "source": [
    "import pycobolt\n",
    "import time\n",
    "\n",
    "laser = pycobolt.Cobolt06DPL(port='COM12') # Creates a new Cobolt Laser object.\n",
    "time.sleep(2)\n",
    "laser.is_connected()"
   ]
  },
  {
   "cell_type": "code",
   "execution_count": 2,
   "metadata": {},
   "outputs": [
    {
     "name": "stdout",
     "output_type": "stream",
     "text": [
      "3097.62\n"
     ]
    }
   ],
   "source": [
    "print(9.3916*200 + 1219.3)"
   ]
  },
  {
   "cell_type": "code",
   "execution_count": 6,
   "metadata": {},
   "outputs": [
    {
     "data": {
      "text/plain": [
       "'OK'"
      ]
     },
     "execution_count": 6,
     "metadata": {},
     "output_type": "execute_result"
    }
   ],
   "source": [
    "laser.modulation_mode()\n",
    "laser.digital_modulation(1)"
   ]
  },
  {
   "cell_type": "code",
   "execution_count": 2,
   "metadata": {},
   "outputs": [
    {
     "data": {
      "text/plain": [
       "['0', '1']"
      ]
     },
     "execution_count": 2,
     "metadata": {},
     "output_type": "execute_result"
    }
   ],
   "source": [
    "laser.get_modulation_state()"
   ]
  },
  {
   "cell_type": "code",
   "execution_count": 7,
   "metadata": {},
   "outputs": [
    {
     "data": {
      "text/plain": [
       "'3'"
      ]
     },
     "execution_count": 7,
     "metadata": {},
     "output_type": "execute_result"
    }
   ],
   "source": [
    "laser.get_mode()\n"
   ]
  },
  {
   "cell_type": "code",
   "execution_count": 4,
   "metadata": {},
   "outputs": [
    {
     "data": {
      "text/plain": [
       "'200.000'"
      ]
     },
     "execution_count": 4,
     "metadata": {},
     "output_type": "execute_result"
    }
   ],
   "source": [
    "laser.send_cmd(\"glmp?\")"
   ]
  },
  {
   "cell_type": "code",
   "execution_count": 5,
   "metadata": {},
   "outputs": [
    {
     "data": {
      "text/plain": [
       "'OK'"
      ]
     },
     "execution_count": 5,
     "metadata": {},
     "output_type": "execute_result"
    }
   ],
   "source": [
    "laser.set_modulation_current_high(1400)\n",
    "laser.set_modulation_current_low(1200)"
   ]
  },
  {
   "cell_type": "code",
   "execution_count": 20,
   "metadata": {},
   "outputs": [
    {
     "data": {
      "text/plain": [
       "'AutostartLaserOn'"
      ]
     },
     "execution_count": 20,
     "metadata": {},
     "output_type": "execute_result"
    }
   ],
   "source": [
    "laser.get_state()"
   ]
  },
  {
   "cell_type": "code",
   "execution_count": null,
   "metadata": {},
   "outputs": [],
   "source": [
    "def setEnabled(self, enabled):      # toggle laser on or off\n",
    "        if enabled:                             # laser is toggled on \n",
    "            self._laser.digital_modulation(0)   # turn off dig. modulation\n",
    "            self._laser.constant_power()    # set laser to constant power mode\n",
    "        else:                                   # If laser should be disabled, turn off by setting scanmode to active -> modulation mode\n",
    "            self._laser.modulation_mode()   # switch to modulation mode\n",
    "            self._laser.digital_modulation(0)   # but make sure to have digital modulation off"
   ]
  },
  {
   "cell_type": "code",
   "execution_count": 23,
   "metadata": {},
   "outputs": [
    {
     "data": {
      "text/plain": [
       "666.0"
      ]
     },
     "execution_count": 23,
     "metadata": {},
     "output_type": "execute_result"
    }
   ],
   "source": [
    "laser.get_power()"
   ]
  },
  {
   "cell_type": "code",
   "execution_count": 24,
   "metadata": {},
   "outputs": [
    {
     "data": {
      "text/plain": [
       "['0', '1']"
      ]
     },
     "execution_count": 24,
     "metadata": {},
     "output_type": "execute_result"
    }
   ],
   "source": [
    "laser.get_modulation_state()"
   ]
  },
  {
   "cell_type": "code",
   "execution_count": 10,
   "metadata": {},
   "outputs": [
    {
     "data": {
      "text/plain": [
       "'OK'"
      ]
     },
     "execution_count": 10,
     "metadata": {},
     "output_type": "execute_result"
    }
   ],
   "source": [
    "laser.digital_modulation(enable=1)"
   ]
  },
  {
   "cell_type": "code",
   "execution_count": 2,
   "metadata": {},
   "outputs": [
    {
     "data": {
      "text/plain": [
       "True"
      ]
     },
     "execution_count": 2,
     "metadata": {},
     "output_type": "execute_result"
    }
   ],
   "source": [
    "laser2 = pycobolt.Cobolt06DPL(port='COM12') # Creates a new Cobolt Laser object.\n",
    "time.sleep(2)\n",
    "laser2.is_connected()"
   ]
  },
  {
   "cell_type": "code",
   "execution_count": 6,
   "metadata": {},
   "outputs": [
    {
     "name": "stdout",
     "output_type": "stream",
     "text": [
      "posConvFac 0.028939405515156145\n",
      "req_zstep 1\n",
      "req_zstep_du 28.939405515156146\n",
      "pos1s 21165.905\n",
      "pos1c 6222.8114\n",
      "pos2s 21365.8763\n",
      "pos2c 6288.7065\n",
      "factor 3.0346915020995358\n",
      "du_camera [1, 2, 3, 4, 5, 6, 7, 8, 9, 10, 11, 12, 13, 14, 15, 16, 17, 18, 19, 20, 21, 22, 23, 24, 25, 26, 27, 28, 29, 30, 31, 32, 33, 34, 35, 36, 37, 38, 39]\n",
      "dist_camera [0.028939405515156145, 0.05787881103031229, 0.08681821654546844, 0.11575762206062458, 0.14469702757578073, 0.17363643309093688, 0.20257583860609302, 0.23151524412124916, 0.2604546496364053, 0.28939405515156147, 0.3183334606667176, 0.34727286618187375, 0.37621227169702987, 0.40515167721218603, 0.43409108272734215, 0.4630304882424983, 0.4919698937576545, 0.5209092992728106, 0.5498487047879668, 0.5787881103031229, 0.607727515818279, 0.6366669213334352, 0.6656063268485913, 0.6945457323637475, 0.7234851378789037, 0.7524245433940597, 0.7813639489092159, 0.8103033544243721, 0.8392427599395282, 0.8681821654546843, 0.8971215709698405, 0.9260609764849966, 0.9550003820001528, 0.983939787515309, 1.012879193030465, 1.0418185985456212, 1.0707580040607774, 1.0996974095759335, 1.1286368150910897]\n",
      "dist_sample [0.0878221679926568, 0.1756443359853136, 0.2634665039779704, 0.3512886719706272, 0.439110839963284, 0.5269330079559408, 0.6147551759485975, 0.7025773439412544, 0.7903995119339111, 0.878221679926568, 0.9660438479192247, 1.0538660159118816, 1.1416881839045383, 1.229510351897195, 1.3173325198898518, 1.4051546878825087, 1.4929768558751655, 1.5807990238678222, 1.668621191860479, 1.756443359853136, 1.8442655278457925, 1.9320876958384494, 2.0199098638311064, 2.107732031823763, 2.19555419981642, 2.2833763678090766, 2.3711985358017333, 2.45902070379439, 2.546842871787047, 2.6346650397797036, 2.7224872077723603, 2.8103093757650175, 2.8981315437576742, 2.985953711750331, 3.0737758797429877, 3.1615980477356445, 3.249420215728301, 3.337242383720958, 3.425064551713615]\n",
      "du_sample [3.0346915020995358, 6.0693830041990715, 9.104074506298607, 12.138766008398143, 15.17345751049768, 18.208149012597215, 21.24284051469675, 24.277532016796286, 27.312223518895824, 30.34691502099536, 33.381606523094895, 36.41629802519443, 39.45098952729396, 42.4856810293935, 45.52037253149303, 48.55506403359257, 51.589755535692106, 54.62444703779165, 57.65913853989118, 60.69383004199072, 63.72852154409025, 66.76321304618979, 69.79790454828932, 72.83259605038886, 75.86728755248839, 78.90197905458793, 81.93667055668746, 84.971362058787, 88.00605356088653, 91.04074506298606, 94.0754365650856, 97.11012806718514, 100.14481956928468, 103.17951107138421, 106.21420257348375, 109.2488940755833, 112.28358557768283, 115.31827707978236, 118.35296858188191]\n",
      "result [(0, 3.0346915020995358), (1, 6.0693830041990715), (25, 78.90197905458793), (26, 81.93667055668746), (27, 84.971362058787), (28, 88.00605356088653), (29, 91.04074506298606), (30, 94.0754365650856)]\n",
      "closest_du (1, 6.0693830041990715)\n",
      "sample_zstep 0.1756443359853136\n",
      "camera_zstep 0.05787881103031229\n"
     ]
    }
   ],
   "source": [
    "def calculate(req_zstep, posConvFac, getPositions):        \n",
    "        posConvFac = (1 / posConvFac) * 1000           # to µm/du\n",
    "        print(\"posConvFac\", posConvFac)        # in µm\n",
    "        req_zstep_du = req_zstep * posConvFac * 1000   # in du\n",
    "        print(\"req_zstep\", req_zstep)\n",
    "        print(\"req_zstep_du\", req_zstep_du)\n",
    "\n",
    "        pos1s, pos1c, pos2s, pos2c  = [float(i.split()[1]) for i in getPositions]\n",
    "        print(\"pos1s\", pos1s)\n",
    "        print(\"pos1c\", pos1c)\n",
    "        print(\"pos2s\", pos2s)\n",
    "        print(\"pos2c\", pos2c)\n",
    "        factor = abs(pos1s - pos2s) / abs(pos1c - pos2c)\n",
    "        print(\"factor\", factor)\n",
    "        du_camera = [i for i in range(1, 40)]                          # device units camera\n",
    "        print(\"du_camera\", du_camera)\n",
    "        dist_camera = [i*posConvFac for i in du_camera]               # distance camera in µm\n",
    "        print(\"dist_camera\", dist_camera)\n",
    "        dist_sample = [i*factor for i in dist_camera]                   # distance sample in µm\n",
    "\n",
    "        print(\"dist_sample\", dist_sample)\n",
    "        du_sample = [i/posConvFac for i in dist_sample]                 # device units sample\n",
    "        print(\"du_sample\", du_sample)\n",
    "        result = [(i, du) for i, du in enumerate(du_sample) if abs(round(du) - du) <= 0.1]\n",
    "        print(\"result\", result)\n",
    "        closest_du = min(result, key=lambda x: abs(x[1] - req_zstep_du))\n",
    "        print(\"closest_du\", closest_du) \n",
    "        sample_zstep = closest_du[1] * posConvFac\n",
    "        print(\"sample_zstep\", sample_zstep)\n",
    "        camera_zstep = dist_camera[closest_du[0]]\n",
    "        print(\"camera_zstep\", camera_zstep)\n",
    "\n",
    "calculate(1, 34554.96, (\"Sample: 21165.9050 µm\", \"Camera: 6222.8114 µm\", \"Sample: 21365.8763 µm\", \"Camera: 6288.7065 µm\"))"
   ]
  },
  {
   "cell_type": "code",
   "execution_count": null,
   "metadata": {},
   "outputs": [],
   "source": [
    "def calculate(self):\n",
    "        posConvFac = [(pName, pManager) for pName, pManager in self._master.positionersManager if pManager.forPositioning][0][1]._posConvFac\n",
    "        posConvFac = (1 / posConvFac) * 1000           # to µm/du\n",
    "        req_zstep = self._widget.getZstep()            # in µm\n",
    "        req_zstep_du = req_zstep * posConvFac * 1000   # in du\n",
    "        \n",
    "        pos1s, pos1c, pos2s, pos2c  = [float(i.split()[1]) for i in self._widget.getPositions()]\n",
    "        factor = abs(pos1s - pos2s) / abs(pos1c - pos2c)\n",
    "        du_camera = [i for i in range(1, 40)]                          # device units camera\n",
    "        dist_camera = [i*posConvFac for i in du_camera]               # distance camera in µm\n",
    "        dist_sample = [i*factor for i in dist_camera]                   # distance sample in µm\n",
    "        du_sample = [i/posConvFac for i in dist_sample]                 # device units sample\n",
    "        result = [(i, du) for i, du in enumerate(du_sample) if abs(round(du) - du) <= 0.1]\n",
    "        closest_du = min(result, key=lambda x: abs(x[1] - req_zstep_du))\n",
    "        sample_zstep = closest_du[1] * posConvFac\n",
    "        camera_zstep = dist_camera[closest_du[0]]\n",
    "        self._widget.updateResults(factor, sample_zstep, camera_zstep)"
   ]
  }
 ],
 "metadata": {
  "kernelspec": {
   "display_name": "ims_des",
   "language": "python",
   "name": "python3"
  },
  "language_info": {
   "codemirror_mode": {
    "name": "ipython",
    "version": 3
   },
   "file_extension": ".py",
   "mimetype": "text/x-python",
   "name": "python",
   "nbconvert_exporter": "python",
   "pygments_lexer": "ipython3",
   "version": "3.10.14"
  }
 },
 "nbformat": 4,
 "nbformat_minor": 2
}
