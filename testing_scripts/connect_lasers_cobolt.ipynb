{
 "cells": [
  {
   "cell_type": "code",
   "execution_count": 12,
   "metadata": {},
   "outputs": [
    {
     "name": "stdout",
     "output_type": "stream",
     "text": [
      "C:/Users/alm/git/Imswitch_descspim/\n",
      "Found in C:/Users/alm/git/Imswitch_descspim/imswitch\\imcontrol\\model\\managers\\lasers\\PyCobolt0601LaserManager.py on line 73: def power_modulation_mode(self, enabled):\n",
      "Found in C:/Users/alm/git/Imswitch_descspim/imswitch\\imcontrol\\model\\managers\\lasers\\PyCobolt0601LaserManager.py on line 75: self._laser.power_modulation_mode(digital_enabled=True)\n",
      "Found in C:/Users/alm/git/Imswitch_descspim/imswitch\\imcontrol\\model\\managers\\lasers\\PyCobolt0601LaserManager.py on line 77: self._laser.power_modulation_mode(digital_enabled=False)\n",
      "Found in C:/Users/alm/git/Imswitch_descspim/imswitch\\imcontrol\\model\\managers\\lasers\\__pycache__\\PyCobolt0601LaserManager.cpython-310.pyc on line 36: \u0000\u0000\u0000\u0006\u0001\u000e\u0002\f\u0001\u0016\u0001z!PyCobolt0601LaserManager.setValuec\u0002\u0000\u0000\u0000\u0000\u0000\u0000\u0000\u0000\u0000\u0000\u0000\u0002\u0000\u0000\u0000\u0003\u0000\u0000\u0000C\u0000\u0000\u0000s\u001e\u0000\u0000\u0000|\u0001d\u0001k\u0002r\f|\u0000j\u0000\u0001d\u0002\u0001\u0001\u0000d\u0000S\u0000\t\u0000d\u0000S\u0000)\u0003NFr\u0001\u0000\u0000\u0000)\u0002r\u0015\u0000\u0000\u0000r0\u0000\u0000\u0000)\u0002r \u0000\u0000\u0000\u0006activer*\u0000\u0000\u0000r*\u0000\u0000\u0000r+\u0000\u0000\u0000\u0011setScanModeActive>\u0000\u0000\u0000s\u0006\u0000\u0000\u0002\u0010\u0001\u0006\u0006z*PyCobolt0601LaserManager.setScanModeActivec\u0002\u0000\u0000\u0000\u0000\u0000\u0000\u0000\u0000\u0000\u0000\u0000\u0002\u0000\u0000\u0000\u0003\u0000\u0000\u0000C\u0000\u0000\u0000s(\u0000\u0000\u0000|\u0001r\u000b|\u0000j\u0000j\u0001d\u0001d\u0002\u0001\u0001\u0000d\u0000S\u0000|\u0000j\u0000j\u0001d\u0003d\u0002\u0001\u0001\u0000d\u0000S\u0000)\u0004NT)\u0001Z\u000fdigital_enabledF)\u0002r\u0015\u0000\u0000\u0000\u0015power_modulation_moder,\u0000\u0000\u0000r*\u0000\u0000\u0000r*\u0000\u0000\u0000r+\u0000\u0000\u0000r6\u0000\u0000\u0000I\u0000\u0000\u0000s\u0006\u0000\u0000\u0000\u0004\u0001\u0012\u0001\u0012\u0002z.PyCobolt0601LaserManager.power_modulation_modec\u0002\u0000\u0000\u0000\u0000\u0000\u0000\u0000\u0000\u0000\u0000\u0000\u0002\u0000\u0000\u0000\u0004\u0000\u0000\u0000C\u0000\u0000\u0000s*\u0000\u0000\u0000t\u0000|\u0001\u0001}\u0001|\u0000j\u0001\u0002|\u0001\u0001\u0001\u0000|\u0000j\u0003\u0004d\u0001|\u0001\u0000\u0002\u0001\u0001\u0000d\u0000S\u0000)\u0002Nz\u0019Set modulation power to: )\u0005r/\u0000\u0000\u0000r\u0015\u0000\u0000\u0000Z\u0014set_modulation_powerr\u000f\u0000\u0000\u0000r\u0013\u0000\u0000\u0000r1\u0000\u0000\u0000r*\u0000\u0000\u0000r*\u0000\u0000\u0000r+\u0000\u0000\u0000\u0012setModulationPowerP\u0000\u0000\u0000s\u0006\u0000\u0000\u0001\f\u0001\u0016\u0001z+PyCobolt0601LaserManager.setModulationPowerc\u0001\u0000\u0000\u0000\u0000\u0000\u0000\u0000\u0000\u0000\u0000\u0000\u0001\u0000\u0000\u0000\u0002\u0000\u0000\u0000C\u0000\u0000\u0000s\n"
     ]
    }
   ],
   "source": [
    "import os\n",
    "import fnmatch\n",
    "import re\n",
    "\n",
    "def search_string_in_files(directory, search_string):\n",
    "    matches = []\n",
    "    pattern = re.compile(search_string)\n",
    "\n",
    "    for root, dirnames, filenames in os.walk(directory):\n",
    "        for filename in fnmatch.filter(filenames, '*'):\n",
    "            filepath = os.path.join(root, filename)\n",
    "            try:\n",
    "                with open(filepath, 'r', encoding='utf-8', errors='ignore') as file:\n",
    "                    for line_number, line in enumerate(file, 1):\n",
    "                        if pattern.search(line):\n",
    "                            matches.append({\n",
    "                                'file': filepath,\n",
    "                                'line_number': line_number,\n",
    "                                'line': line.strip()\n",
    "                            })\n",
    "            except Exception as e:\n",
    "                print(f\"Could not read file {filepath}: {e}\")\n",
    "\n",
    "    return matches\n",
    "\n",
    "# Example usage\n",
    "directory_to_search = 'C:/Users/alm/git/Imswitch_descspim/'\n",
    "#directory_to_search = 'C:/Users/alm/AppData/Roaming/Python/Python310/site-packages/thorlabs_apt_device/'\n",
    "print(directory_to_search)\n",
    "\n",
    "string_to_search = 'power_modulation_mode'\n",
    "\n",
    "results = search_string_in_files(directory_to_search, string_to_search)\n",
    "\n",
    "for match in results:\n",
    "    print(f\"Found in {match['file']} on line {match['line_number']}: {match['line']}\")\n"
   ]
  },
  {
   "cell_type": "code",
   "execution_count": 1,
   "metadata": {},
   "outputs": [
    {
     "data": {
      "text/plain": [
       "True"
      ]
     },
     "execution_count": 1,
     "metadata": {},
     "output_type": "execute_result"
    }
   ],
   "source": [
    "import pycobolt\n",
    "import time\n",
    "\n",
    "laser = pycobolt.Cobolt06(port='COM4') # Creates a new Cobolt Laser object.\n",
    "time.sleep(2)\n",
    "laser.is_connected()"
   ]
  },
  {
   "cell_type": "code",
   "execution_count": 6,
   "metadata": {},
   "outputs": [
    {
     "data": {
      "text/plain": [
       "'Syntax error: illegal command'"
      ]
     },
     "execution_count": 6,
     "metadata": {},
     "output_type": "execute_result"
    }
   ],
   "source": [
    "laser.get_mode()"
   ]
  },
  {
   "cell_type": "code",
   "execution_count": 8,
   "metadata": {},
   "outputs": [
    {
     "data": {
      "text/plain": [
       "'OK'"
      ]
     },
     "execution_count": 8,
     "metadata": {},
     "output_type": "execute_result"
    }
   ],
   "source": [
    "#laser.modulation_mode()\n",
    "laser.constant_current(0)"
   ]
  },
  {
   "cell_type": "code",
   "execution_count": 4,
   "metadata": {},
   "outputs": [
    {
     "data": {
      "text/plain": [
       "'OK'"
      ]
     },
     "execution_count": 4,
     "metadata": {},
     "output_type": "execute_result"
    }
   ],
   "source": [
    "laser.constant_power()"
   ]
  },
  {
   "cell_type": "code",
   "execution_count": 3,
   "metadata": {},
   "outputs": [
    {
     "data": {
      "text/plain": [
       "'OK'"
      ]
     },
     "execution_count": 3,
     "metadata": {},
     "output_type": "execute_result"
    }
   ],
   "source": [
    "laser.set_power(5)"
   ]
  },
  {
   "cell_type": "code",
   "execution_count": 2,
   "metadata": {},
   "outputs": [
    {
     "data": {
      "text/plain": [
       "'Serial number: 12221, Model number: 0488-06-01-0200-100, Wavelength: 488 nm, Type: Cobolt06 Port: COM4'"
      ]
     },
     "execution_count": 2,
     "metadata": {},
     "output_type": "execute_result"
    }
   ],
   "source": [
    "laser.__repr__()"
   ]
  },
  {
   "cell_type": "code",
   "execution_count": 7,
   "metadata": {},
   "outputs": [
    {
     "ename": "ValueError",
     "evalue": "could not convert string to float: 'Syntax error: illegal command'",
     "output_type": "error",
     "traceback": [
      "\u001b[1;31m---------------------------------------------------------------------------\u001b[0m",
      "\u001b[1;31mValueError\u001b[0m                                Traceback (most recent call last)",
      "Cell \u001b[1;32mIn[7], line 1\u001b[0m\n\u001b[1;32m----> 1\u001b[0m \u001b[43mlaser\u001b[49m\u001b[38;5;241;43m.\u001b[39;49m\u001b[43mget_modulation_power\u001b[49m\u001b[43m(\u001b[49m\u001b[43m)\u001b[49m\n",
      "File \u001b[1;32mc:\\Users\\alm\\anaconda3\\envs\\ims_des\\lib\\site-packages\\pycobolt\\pycobolt.py:334\u001b[0m, in \u001b[0;36mCobolt06.get_modulation_power\u001b[1;34m(self)\u001b[0m\n\u001b[0;32m    332\u001b[0m \u001b[38;5;28;01mdef\u001b[39;00m \u001b[38;5;21mget_modulation_power\u001b[39m(\u001b[38;5;28mself\u001b[39m):\n\u001b[0;32m    333\u001b[0m \u001b[38;5;250m    \u001b[39m\u001b[38;5;124;03m\"\"\"Get the modulation power setpoint in mW\"\"\"\u001b[39;00m\n\u001b[1;32m--> 334\u001b[0m     \u001b[38;5;28;01mreturn\u001b[39;00m \u001b[38;5;28;43mfloat\u001b[39;49m\u001b[43m(\u001b[49m\u001b[38;5;28;43mself\u001b[39;49m\u001b[38;5;241;43m.\u001b[39;49m\u001b[43msend_cmd\u001b[49m\u001b[43m(\u001b[49m\u001b[38;5;124;43m\"\u001b[39;49m\u001b[38;5;124;43mLASer:PowerModulation:POWer:SETPoint?\u001b[39;49m\u001b[38;5;124;43m\"\u001b[39;49m\u001b[43m)\u001b[49m\u001b[43m)\u001b[49m\n",
      "\u001b[1;31mValueError\u001b[0m: could not convert string to float: 'Syntax error: illegal command'"
     ]
    }
   ],
   "source": [
    "laser.get_modulation_power()"
   ]
  },
  {
   "cell_type": "code",
   "execution_count": 5,
   "metadata": {},
   "outputs": [],
   "source": [
    "laser.power_modulation_mode(digital_enabled=True)"
   ]
  },
  {
   "cell_type": "code",
   "execution_count": 10,
   "metadata": {},
   "outputs": [],
   "source": [
    "laser.digital_modulation(enable=1)"
   ]
  },
  {
   "cell_type": "code",
   "execution_count": 2,
   "metadata": {},
   "outputs": [
    {
     "data": {
      "text/plain": [
       "True"
      ]
     },
     "execution_count": 2,
     "metadata": {},
     "output_type": "execute_result"
    }
   ],
   "source": [
    "laser2 = pycobolt.Cobolt06DPL(port='COM12') # Creates a new Cobolt Laser object.\n",
    "time.sleep(2)\n",
    "laser2.is_connected()"
   ]
  },
  {
   "cell_type": "code",
   "execution_count": 6,
   "metadata": {},
   "outputs": [
    {
     "name": "stdout",
     "output_type": "stream",
     "text": [
      "posConvFac 0.028939405515156145\n",
      "req_zstep 1\n",
      "req_zstep_du 28.939405515156146\n",
      "pos1s 21165.905\n",
      "pos1c 6222.8114\n",
      "pos2s 21365.8763\n",
      "pos2c 6288.7065\n",
      "factor 3.0346915020995358\n",
      "du_camera [1, 2, 3, 4, 5, 6, 7, 8, 9, 10, 11, 12, 13, 14, 15, 16, 17, 18, 19, 20, 21, 22, 23, 24, 25, 26, 27, 28, 29, 30, 31, 32, 33, 34, 35, 36, 37, 38, 39]\n",
      "dist_camera [0.028939405515156145, 0.05787881103031229, 0.08681821654546844, 0.11575762206062458, 0.14469702757578073, 0.17363643309093688, 0.20257583860609302, 0.23151524412124916, 0.2604546496364053, 0.28939405515156147, 0.3183334606667176, 0.34727286618187375, 0.37621227169702987, 0.40515167721218603, 0.43409108272734215, 0.4630304882424983, 0.4919698937576545, 0.5209092992728106, 0.5498487047879668, 0.5787881103031229, 0.607727515818279, 0.6366669213334352, 0.6656063268485913, 0.6945457323637475, 0.7234851378789037, 0.7524245433940597, 0.7813639489092159, 0.8103033544243721, 0.8392427599395282, 0.8681821654546843, 0.8971215709698405, 0.9260609764849966, 0.9550003820001528, 0.983939787515309, 1.012879193030465, 1.0418185985456212, 1.0707580040607774, 1.0996974095759335, 1.1286368150910897]\n",
      "dist_sample [0.0878221679926568, 0.1756443359853136, 0.2634665039779704, 0.3512886719706272, 0.439110839963284, 0.5269330079559408, 0.6147551759485975, 0.7025773439412544, 0.7903995119339111, 0.878221679926568, 0.9660438479192247, 1.0538660159118816, 1.1416881839045383, 1.229510351897195, 1.3173325198898518, 1.4051546878825087, 1.4929768558751655, 1.5807990238678222, 1.668621191860479, 1.756443359853136, 1.8442655278457925, 1.9320876958384494, 2.0199098638311064, 2.107732031823763, 2.19555419981642, 2.2833763678090766, 2.3711985358017333, 2.45902070379439, 2.546842871787047, 2.6346650397797036, 2.7224872077723603, 2.8103093757650175, 2.8981315437576742, 2.985953711750331, 3.0737758797429877, 3.1615980477356445, 3.249420215728301, 3.337242383720958, 3.425064551713615]\n",
      "du_sample [3.0346915020995358, 6.0693830041990715, 9.104074506298607, 12.138766008398143, 15.17345751049768, 18.208149012597215, 21.24284051469675, 24.277532016796286, 27.312223518895824, 30.34691502099536, 33.381606523094895, 36.41629802519443, 39.45098952729396, 42.4856810293935, 45.52037253149303, 48.55506403359257, 51.589755535692106, 54.62444703779165, 57.65913853989118, 60.69383004199072, 63.72852154409025, 66.76321304618979, 69.79790454828932, 72.83259605038886, 75.86728755248839, 78.90197905458793, 81.93667055668746, 84.971362058787, 88.00605356088653, 91.04074506298606, 94.0754365650856, 97.11012806718514, 100.14481956928468, 103.17951107138421, 106.21420257348375, 109.2488940755833, 112.28358557768283, 115.31827707978236, 118.35296858188191]\n",
      "result [(0, 3.0346915020995358), (1, 6.0693830041990715), (25, 78.90197905458793), (26, 81.93667055668746), (27, 84.971362058787), (28, 88.00605356088653), (29, 91.04074506298606), (30, 94.0754365650856)]\n",
      "closest_du (1, 6.0693830041990715)\n",
      "sample_zstep 0.1756443359853136\n",
      "camera_zstep 0.05787881103031229\n"
     ]
    }
   ],
   "source": [
    "def calculate(req_zstep, posConvFac, getPositions):        \n",
    "        posConvFac = (1 / posConvFac) * 1000           # to µm/du\n",
    "        print(\"posConvFac\", posConvFac)        # in µm\n",
    "        req_zstep_du = req_zstep * posConvFac * 1000   # in du\n",
    "        print(\"req_zstep\", req_zstep)\n",
    "        print(\"req_zstep_du\", req_zstep_du)\n",
    "\n",
    "        pos1s, pos1c, pos2s, pos2c  = [float(i.split()[1]) for i in getPositions]\n",
    "        print(\"pos1s\", pos1s)\n",
    "        print(\"pos1c\", pos1c)\n",
    "        print(\"pos2s\", pos2s)\n",
    "        print(\"pos2c\", pos2c)\n",
    "        factor = abs(pos1s - pos2s) / abs(pos1c - pos2c)\n",
    "        print(\"factor\", factor)\n",
    "        du_camera = [i for i in range(1, 40)]                          # device units camera\n",
    "        print(\"du_camera\", du_camera)\n",
    "        dist_camera = [i*posConvFac for i in du_camera]               # distance camera in µm\n",
    "        print(\"dist_camera\", dist_camera)\n",
    "        dist_sample = [i*factor for i in dist_camera]                   # distance sample in µm\n",
    "\n",
    "        print(\"dist_sample\", dist_sample)\n",
    "        du_sample = [i/posConvFac for i in dist_sample]                 # device units sample\n",
    "        print(\"du_sample\", du_sample)\n",
    "        result = [(i, du) for i, du in enumerate(du_sample) if abs(round(du) - du) <= 0.1]\n",
    "        print(\"result\", result)\n",
    "        closest_du = min(result, key=lambda x: abs(x[1] - req_zstep_du))\n",
    "        print(\"closest_du\", closest_du) \n",
    "        sample_zstep = closest_du[1] * posConvFac\n",
    "        print(\"sample_zstep\", sample_zstep)\n",
    "        camera_zstep = dist_camera[closest_du[0]]\n",
    "        print(\"camera_zstep\", camera_zstep)\n",
    "\n",
    "calculate(1, 34554.96, (\"Sample: 21165.9050 µm\", \"Camera: 6222.8114 µm\", \"Sample: 21365.8763 µm\", \"Camera: 6288.7065 µm\"))"
   ]
  },
  {
   "cell_type": "code",
   "execution_count": null,
   "metadata": {},
   "outputs": [],
   "source": [
    "def calculate(self):\n",
    "        posConvFac = [(pName, pManager) for pName, pManager in self._master.positionersManager if pManager.forPositioning][0][1]._posConvFac\n",
    "        posConvFac = (1 / posConvFac) * 1000           # to µm/du\n",
    "        req_zstep = self._widget.getZstep()            # in µm\n",
    "        req_zstep_du = req_zstep * posConvFac * 1000   # in du\n",
    "        \n",
    "        pos1s, pos1c, pos2s, pos2c  = [float(i.split()[1]) for i in self._widget.getPositions()]\n",
    "        factor = abs(pos1s - pos2s) / abs(pos1c - pos2c)\n",
    "        du_camera = [i for i in range(1, 40)]                          # device units camera\n",
    "        dist_camera = [i*posConvFac for i in du_camera]               # distance camera in µm\n",
    "        dist_sample = [i*factor for i in dist_camera]                   # distance sample in µm\n",
    "        du_sample = [i/posConvFac for i in dist_sample]                 # device units sample\n",
    "        result = [(i, du) for i, du in enumerate(du_sample) if abs(round(du) - du) <= 0.1]\n",
    "        closest_du = min(result, key=lambda x: abs(x[1] - req_zstep_du))\n",
    "        sample_zstep = closest_du[1] * posConvFac\n",
    "        camera_zstep = dist_camera[closest_du[0]]\n",
    "        self._widget.updateResults(factor, sample_zstep, camera_zstep)"
   ]
  }
 ],
 "metadata": {
  "kernelspec": {
   "display_name": "ims_des",
   "language": "python",
   "name": "python3"
  },
  "language_info": {
   "codemirror_mode": {
    "name": "ipython",
    "version": 3
   },
   "file_extension": ".py",
   "mimetype": "text/x-python",
   "name": "python",
   "nbconvert_exporter": "python",
   "pygments_lexer": "ipython3",
   "version": "3.10.14"
  }
 },
 "nbformat": 4,
 "nbformat_minor": 2
}
