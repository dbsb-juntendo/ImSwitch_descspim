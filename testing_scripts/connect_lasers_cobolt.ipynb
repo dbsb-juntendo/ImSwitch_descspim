{
 "cells": [
  {
   "cell_type": "code",
   "execution_count": 5,
   "metadata": {},
   "outputs": [
    {
     "name": "stdout",
     "output_type": "stream",
     "text": [
      "C:/Users/alm/git/Imswitch_descspim/\n",
      "Found in C:/Users/alm/git/Imswitch_descspim/imswitch\\imcontrol\\model\\managers\\lasers\\PyCobolt0601LaserManager.py on line 92: def _getPower(self):\n",
      "Found in C:/Users/alm/git/Imswitch_descspim/imswitch\\imcontrol\\model\\managers\\lasers\\__pycache__\\PyCobolt0601DPLLaserManager.cpython-310.pyc on line 33: setEnabled,\u0000\u0000\u0000s\u0006\u0000\u0000\u0000\u0004\u0001\u000e\u0001\u000e\u0002z&PyCobolt0601DPLLaserManager.setEnabledc\u0002\u0000\u0000\u0000\u0000\u0000\u0000\u0000\u0000\u0000\u0000\u0000\u0002\u0000\u0000\u0000\u0003\u0000\u0000\u0000C\u0000\u0000\u0000s*\u0000\u0000\u0000t\u0000|\u0001\u0001}\u0001|\u0000j\u0001r\u000e|\u0000\u0002|\u0001\u0001\u0001\u0000d\u0000S\u0000|\u0000\u0003|\u0001\u0001\u0001\u0000d\u0000S\u0000\u0001N)\u0004\u0003intr\u0017\u0000\u0000\u0000\f_setModPower\u000e_setBasicPower\u0002r$\u0000\u0000\u0000\u0005powerr/\u0000\u0000\u0000r/\u0000\u0000\u0000r0\u0000\u0000setValue2\u0000\u0000\u0000\u0000\u0000\u0001\u0006\u0001\u000e\u0001\u000e\u0002z$PyCobolt0601DPLLaserManager.setValuec\u0002\u0000\u0000\u0000\u0000\u0000\u0000\u0000\u0000\u0000\u0000\u0000\u0003\u0000\u0000\u0000\u0004\u0000\u0000\u0000C\u0000\u0000\u0000sb\u0000\u0000\u0000|\u0001r\u0018|\u0000\u0000\u0000}\u0002|\u0000j\u0001\u0002|\u0002\u0001\u0001\u0000|\u0000j\u0001\u0003\u0000\u0001\u0000|\u0000j\u0004\u0005d\u0001\u0001\u0001\u0000n\u0014|\u0000\u0000\u0000}\u0002|\u0000j\u0001j\u0006|\u0002d\u0002\u0001\u0001\u0000|\u0000j\u0004\u0005d\u0003|\u0002\u0000\u0002\u0001\u0001\u0000|\u0001|\u0000_\u0007d\u0000S\u0000)\u0004Nz\u0017Entered modulation mode)\u0001r9\u0000\u0000\u0000z@Exited digital modulation mode, constant power mode with power: \t_getPowerr\u0016\u0000\u0000\u0000r\u0018\u0000\u0000\u0000r\u0019\u0000\u0000\u0000r\u0012\u0000\u0000\u0000r\u0015\u0000\u0000\u0000\u000econstant_powerr\u0017\u0000\u0000\u0000)\u0003r$\u0000\u0000\u0000\u0006activer9\u0000\u0000\u0000r/\u0000\u0000\u0000r/\u0000\u0000\u0000r0\u0000\u0000\u0000r1\u0000\u0000\u00009\u0000\u0000\u0000s\u0012\u0000\u0000\u0000\u0004\u0001\f\u0001\n",
      "Found in C:/Users/alm/git/Imswitch_descspim/imswitch\\imcontrol\\model\\managers\\lasers\\__pycache__\\PyCobolt0601DPLLaserManager.cpython-310.pyc on line 37: \u0001z%PyCobolt0601DPLLaserManager._getPower)__name__\n"
     ]
    }
   ],
   "source": [
    "import os\n",
    "import fnmatch\n",
    "import re\n",
    "\n",
    "def search_string_in_files(directory, search_string):\n",
    "    matches = []\n",
    "    pattern = re.compile(search_string)\n",
    "\n",
    "    for root, dirnames, filenames in os.walk(directory):\n",
    "        for filename in fnmatch.filter(filenames, '*'):\n",
    "            filepath = os.path.join(root, filename)\n",
    "            try:\n",
    "                with open(filepath, 'r', encoding='utf-8', errors='ignore') as file:\n",
    "                    for line_number, line in enumerate(file, 1):\n",
    "                        if pattern.search(line):\n",
    "                            matches.append({\n",
    "                                'file': filepath,\n",
    "                                'line_number': line_number,\n",
    "                                'line': line.strip()\n",
    "                            })\n",
    "            except Exception as e:\n",
    "                print(f\"Could not read file {filepath}: {e}\")\n",
    "\n",
    "    return matches\n",
    "\n",
    "# Example usage\n",
    "directory_to_search = 'C:/Users/alm/git/Imswitch_descspim/'\n",
    "#directory_to_search = 'C:/Users/alm/AppData/Roaming/Python/Python310/site-packages/thorlabs_apt_device/'\n",
    "print(directory_to_search)\n",
    "\n",
    "string_to_search = '_getPower'\n",
    "\n",
    "results = search_string_in_files(directory_to_search, string_to_search)\n",
    "\n",
    "for match in results:\n",
    "    print(f\"Found in {match['file']} on line {match['line_number']}: {match['line']}\")\n"
   ]
  },
  {
   "cell_type": "code",
   "execution_count": 1,
   "metadata": {},
   "outputs": [
    {
     "data": {
      "text/plain": [
       "True"
      ]
     },
     "execution_count": 1,
     "metadata": {},
     "output_type": "execute_result"
    }
   ],
   "source": [
    "import pycobolt\n",
    "import time\n",
    "\n",
    "laser = pycobolt.Cobolt06DPL(port='COM12') # Creates a new Cobolt Laser object.\n",
    "time.sleep(2)\n",
    "laser.is_connected()"
   ]
  },
  {
   "cell_type": "code",
   "execution_count": 2,
   "metadata": {},
   "outputs": [
    {
     "data": {
      "text/plain": [
       "['__class__',\n",
       " '__delattr__',\n",
       " '__dict__',\n",
       " '__dir__',\n",
       " '__doc__',\n",
       " '__enter__',\n",
       " '__eq__',\n",
       " '__exit__',\n",
       " '__format__',\n",
       " '__ge__',\n",
       " '__getattribute__',\n",
       " '__gt__',\n",
       " '__hash__',\n",
       " '__init__',\n",
       " '__init_subclass__',\n",
       " '__le__',\n",
       " '__lt__',\n",
       " '__module__',\n",
       " '__ne__',\n",
       " '__new__',\n",
       " '__reduce__',\n",
       " '__reduce_ex__',\n",
       " '__repr__',\n",
       " '__setattr__',\n",
       " '__sizeof__',\n",
       " '__str__',\n",
       " '__subclasshook__',\n",
       " '__weakref__',\n",
       " '_classify_',\n",
       " '_identify_',\n",
       " '_timeDiff_',\n",
       " 'address',\n",
       " 'analog_modulation',\n",
       " 'baudrate',\n",
       " 'clear_fault',\n",
       " 'connect',\n",
       " 'constant_current',\n",
       " 'constant_power',\n",
       " 'digital_modulation',\n",
       " 'disconnect',\n",
       " 'get_current',\n",
       " 'get_current_setpoint',\n",
       " 'get_fault',\n",
       " 'get_mode',\n",
       " 'get_modualtion_tec_setpoint',\n",
       " 'get_modulation_current',\n",
       " 'get_modulation_state',\n",
       " 'get_modulation_tec',\n",
       " 'get_ophours',\n",
       " 'get_power',\n",
       " 'get_power_setpoint',\n",
       " 'get_state',\n",
       " 'interlock',\n",
       " 'is_connected',\n",
       " 'is_on',\n",
       " 'modelnumber',\n",
       " 'modulation_mode',\n",
       " 'port',\n",
       " 'send_cmd',\n",
       " 'serialnumber',\n",
       " 'set_current',\n",
       " 'set_modulation_current_high',\n",
       " 'set_modulation_current_low',\n",
       " 'set_modulation_tec',\n",
       " 'set_power',\n",
       " 'turn_off',\n",
       " 'turn_on']"
      ]
     },
     "execution_count": 2,
     "metadata": {},
     "output_type": "execute_result"
    }
   ],
   "source": [
    "dir(laser)"
   ]
  },
  {
   "cell_type": "code",
   "execution_count": 5,
   "metadata": {},
   "outputs": [
    {
     "data": {
      "text/plain": [
       "'1 - Waiting for key'"
      ]
     },
     "execution_count": 5,
     "metadata": {},
     "output_type": "execute_result"
    }
   ],
   "source": [
    "laser.get_state()"
   ]
  },
  {
   "cell_type": "code",
   "execution_count": 32,
   "metadata": {},
   "outputs": [
    {
     "data": {
      "text/plain": [
       "'OK'"
      ]
     },
     "execution_count": 32,
     "metadata": {},
     "output_type": "execute_result"
    }
   ],
   "source": [
    "laser.set_modulation_power(5)"
   ]
  },
  {
   "cell_type": "code",
   "execution_count": 1,
   "metadata": {},
   "outputs": [
    {
     "ename": "NameError",
     "evalue": "name 'laser' is not defined",
     "output_type": "error",
     "traceback": [
      "\u001b[1;31m---------------------------------------------------------------------------\u001b[0m",
      "\u001b[1;31mNameError\u001b[0m                                 Traceback (most recent call last)",
      "Cell \u001b[1;32mIn[1], line 1\u001b[0m\n\u001b[1;32m----> 1\u001b[0m \u001b[43mlaser\u001b[49m\u001b[38;5;241m.\u001b[39mmodulation_mode()\n",
      "\u001b[1;31mNameError\u001b[0m: name 'laser' is not defined"
     ]
    }
   ],
   "source": [
    "laser.modulation_mode()"
   ]
  },
  {
   "cell_type": "code",
   "execution_count": 2,
   "metadata": {},
   "outputs": [
    {
     "data": {
      "text/plain": [
       "True"
      ]
     },
     "execution_count": 2,
     "metadata": {},
     "output_type": "execute_result"
    }
   ],
   "source": [
    "laser2 = pycobolt.Cobolt06DPL(port='COM12') # Creates a new Cobolt Laser object.\n",
    "time.sleep(2)\n",
    "laser2.is_connected()"
   ]
  }
 ],
 "metadata": {
  "kernelspec": {
   "display_name": "ims_des",
   "language": "python",
   "name": "python3"
  },
  "language_info": {
   "codemirror_mode": {
    "name": "ipython",
    "version": 3
   },
   "file_extension": ".py",
   "mimetype": "text/x-python",
   "name": "python",
   "nbconvert_exporter": "python",
   "pygments_lexer": "ipython3",
   "version": "3.10.14"
  }
 },
 "nbformat": 4,
 "nbformat_minor": 2
}
