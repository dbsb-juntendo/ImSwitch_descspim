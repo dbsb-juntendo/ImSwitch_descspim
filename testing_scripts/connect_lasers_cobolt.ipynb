{
 "cells": [
  {
   "cell_type": "code",
   "execution_count": 1,
   "metadata": {},
   "outputs": [
    {
     "name": "stdout",
     "output_type": "stream",
     "text": [
      "C:/Users/alm/git/Imswitch_descspim/\n",
      "Found in C:/Users/alm/git/Imswitch_descspim/imswitch\\imcontrol\\model\\SetupInfo.py on line 107: baudrate: int\n",
      "Found in C:/Users/alm/git/Imswitch_descspim/imswitch\\imcontrol\\model\\interfaces\\ESP32Client.py on line 105: def __init__(self, host=None, port=31950, serialport=None, baudrate=115200):\n",
      "Found in C:/Users/alm/git/Imswitch_descspim/imswitch\\imcontrol\\model\\interfaces\\ESP32Client.py on line 134: self.serialdevice = serial.Serial(port=self.serialport, baudrate=baudrate, timeout=1)\n",
      "Found in C:/Users/alm/git/Imswitch_descspim/imswitch\\imcontrol\\model\\interfaces\\ESP32Client.py on line 148: self.serialdevice = serial.Serial(port=iport.device, baudrate=baudrate, timeout=1)\n",
      "Found in C:/Users/alm/git/Imswitch_descspim/imswitch\\imcontrol\\model\\interfaces\\RS232Driver.py on line 22: 'baud_rate': settings[\"baudrate\"],\n",
      "Found in C:/Users/alm/git/Imswitch_descspim/imswitch\\imcontrol\\model\\managers\\ArduinoManager.py on line 14: self.__baudrate = self.__ArduinoInfo.baudrate\n",
      "Found in C:/Users/alm/git/Imswitch_descspim/imswitch\\imcontrol\\model\\managers\\ArduinoManager.py on line 17: self.arduino = serial.Serial(self.__port, self.__baudrate)\n",
      "Found in C:/Users/alm/git/Imswitch_descspim/imswitch\\imcontrol\\model\\managers\\rs232\\ESP32Manager.py on line 30: baudrate=115200)\n",
      "Found in C:/Users/alm/git/Imswitch_descspim/imswitch\\imcontrol\\model\\managers\\rs232\\GRBLManager.py on line 17: - ``baudrate``\n",
      "Found in C:/Users/alm/git/Imswitch_descspim/imswitch\\imcontrol\\model\\managers\\rs232\\RS232Manager.py on line 16: - ``baudrate``\n",
      "Found in C:/Users/alm/git/Imswitch_descspim/imswitch\\imcontrol\\model\\managers\\__pycache__\\ArduinoManager.cpython-310.pyc on line 7: \u000ed\u0002\u0001\u0001\u0000W\u0000d\u0000S\u0000\u0001\u0000\u0001\u0000\u0001\u0000|\u0000j\u0003\u000fd\u0003|\u0000j\u0006\u0000d\u0004\u0003\u0001\u0001\u0000Y\u0000d\u0000S\u0000)\u0005Nz\u0014Initialized Arduino.\u0002\u0000\u0000\u0000z%Failed to initialize Arduino on port \u0001.)\u0010\u0005supe__init__r\u0002\u0000\u0000\u0000\u0017_ArduinoManager__loggerZ\u001c_ArduinoManager__ArduinoInfo\u0004portZ\u0015_ArduinoManager__porbaudrateZ\u0019_ArduinoManager__baudrate\u0006serialZ\u0006Serial\u0007arduino\u0005debug\u0004time\u0005sleep\u0005error)\u0004\u0004self\u000bArduinoInfo\u0004args\u0006kwargs\u0001\t__class__\u0000VC:\\Users\\alm\\git\\ImSwitch_descspim\\imswitch\\imcontrol\\model\\managers\\ArduinoManager.py\u0000\u0000\u0000\u0007\u0000\u0000\u0000s\u001a\u0000\u0000\u0000\u0012\u0001\n",
      "Found in C:/Users/alm/git/Imswitch_descspim/imswitch\\imcontrol\\model\\__pycache__\\SetupInfo.cpython-310.pyc on line 35: \u0002\u0002\u0001\u0010\u0002\u0004\u0001r3\u0000\u0000\u0000c\u0000\u0000\u0000\u0000\u0000\u0000\u0000\u0000\u0000\u0000\u0000\u0000\u0000\u0000\u0000\u0000\u0003\u0000\u0000\u0000@\u0000\u0000\u0000s \u0000\u0000\u0000e\u0000Z\u0001d\u0000Z\u0002U\u0000e\u0003e\u0004d\u0001<\u0000\t\u0000e\u0005e\u0004d\u0002<\u0000d\u0003S\u0000)\u0004\u000bArduinoInfo\u0004portbaudrateN\u0006r\u001d\u0000\u0000\u0000r\u001e\u0000\u0000\u0000r\u001f\u0000\u0000\u0000r \u0000\u0000\u0000r!\u0000\u0000\u0000r\u0015\u0000\u0000\u0000r\u0018\u0000\u0000\u0000r\u0018\u0000\u0000\u0000r\u0018\u0000\u0000\u0000r\u0019\u0000\u0000\u0000r4\u0000\u0000\u0000g\u0000\u0000\u0000s\n",
      "Found in C:/Users/alm/git/Imswitch_descspim/imswitch\\imcontrol\\view\\widgets\\ArduinoWidget.py on line 118: \"baudrate\": 9600\n",
      "Found in C:/Users/alm/git/Imswitch_descspim/imswitch\\_data\\user_defaults\\imcontrol_setups\\example_coolLED.json on line 163: \"baudrate\": 57600,\n",
      "Found in C:/Users/alm/git/Imswitch_descspim/imswitch\\_data\\user_defaults\\imcontrol_setups\\example_sted.json on line 178: \"baudrate\": 57600,\n",
      "Found in C:/Users/alm/git/Imswitch_descspim/imswitch\\_data\\user_defaults\\imcontrol_setups\\example_sted.json on line 194: \"baudrate\": 115200,\n",
      "Found in C:/Users/alm/git/Imswitch_descspim/testing_scripts\\connect_lasers_cobolt.ipynb on line 73: \"File \\u001b[1;32mc:\\\\Users\\\\alm\\\\anaconda3\\\\envs\\\\ims_des\\\\lib\\\\site-packages\\\\pycobolt\\\\pycobolt.py:40\\u001b[0m, in \\u001b[0;36mCoboltLaser.connect\\u001b[1;34m(self)\\u001b[0m\\n\\u001b[0;32m     39\\u001b[0m \\u001b[38;5;28;01mtry\\u001b[39;00m:\\n\\u001b[1;32m---> 40\\u001b[0m     \\u001b[38;5;28mself\\u001b[39m\\u001b[38;5;241m.\\u001b[39maddress \\u001b[38;5;241m=\\u001b[39m \\u001b[43mserial\\u001b[49m\\u001b[38;5;241;43m.\\u001b[39;49m\\u001b[43mSerial\\u001b[49m\\u001b[43m(\\u001b[49m\\u001b[38;5;28;43mself\\u001b[39;49m\\u001b[38;5;241;43m.\\u001b[39;49m\\u001b[43mport\\u001b[49m\\u001b[43m,\\u001b[49m\\u001b[43m \\u001b[49m\\u001b[38;5;28;43mself\\u001b[39;49m\\u001b[38;5;241;43m.\\u001b[39;49m\\u001b[43mbaudrate\\u001b[49m\\u001b[43m,\\u001b[49m\\u001b[43m \\u001b[49m\\u001b[43mtimeout\\u001b[49m\\u001b[38;5;241;43m=\\u001b[39;49m\\u001b[38;5;241;43m1\\u001b[39;49m\\u001b[43m)\\u001b[49m\\n\\u001b[0;32m     41\\u001b[0m \\u001b[38;5;28;01mexcept\\u001b[39;00m \\u001b[38;5;167;01mException\\u001b[39;00m \\u001b[38;5;28;01mas\\u001b[39;00m err:\\n\",\n",
      "Found in C:/Users/alm/git/Imswitch_descspim/testing_scripts\\connect_lasers_cobolt.ipynb on line 75: \"File \\u001b[1;32mc:\\\\Users\\\\alm\\\\anaconda3\\\\envs\\\\ims_des\\\\lib\\\\site-packages\\\\serial\\\\serialutil.py:244\\u001b[0m, in \\u001b[0;36mSerialBase.__init__\\u001b[1;34m(self, port, baudrate, bytesize, parity, stopbits, timeout, xonxoff, rtscts, write_timeout, dsrdtr, inter_byte_timeout, exclusive, **kwargs)\\u001b[0m\\n\\u001b[0;32m    243\\u001b[0m \\u001b[38;5;28;01mif\\u001b[39;00m port \\u001b[38;5;129;01mis\\u001b[39;00m \\u001b[38;5;129;01mnot\\u001b[39;00m \\u001b[38;5;28;01mNone\\u001b[39;00m:\\n\\u001b[1;32m--> 244\\u001b[0m     \\u001b[38;5;28;43mself\\u001b[39;49m\\u001b[38;5;241;43m.\\u001b[39;49m\\u001b[43mopen\\u001b[49m\\u001b[43m(\\u001b[49m\\u001b[43m)\\u001b[49m\\n\",\n",
      "Found in C:/Users/alm/git/Imswitch_descspim/testing_scripts\\connect_lasers_cobolt.ipynb on line 82: \"File \\u001b[1;32mc:\\\\Users\\\\alm\\\\anaconda3\\\\envs\\\\ims_des\\\\lib\\\\site-packages\\\\pycobolt\\\\pycobolt.py:20\\u001b[0m, in \\u001b[0;36mCoboltLaser.__init__\\u001b[1;34m(self, port, serialnumber, baudrate)\\u001b[0m\\n\\u001b[0;32m     18\\u001b[0m \\u001b[38;5;28mself\\u001b[39m\\u001b[38;5;241m.\\u001b[39mbaudrate \\u001b[38;5;241m=\\u001b[39m baudrate\\n\\u001b[0;32m     19\\u001b[0m \\u001b[38;5;28mself\\u001b[39m\\u001b[38;5;241m.\\u001b[39maddress \\u001b[38;5;241m=\\u001b[39m \\u001b[38;5;28;01mNone\\u001b[39;00m\\n\\u001b[1;32m---> 20\\u001b[0m \\u001b[38;5;28;43mself\\u001b[39;49m\\u001b[38;5;241;43m.\\u001b[39;49m\\u001b[43mconnect\\u001b[49m\\u001b[43m(\\u001b[49m\\u001b[43m)\\u001b[49m\\n\",\n",
      "Found in C:/Users/alm/git/Imswitch_descspim/testing_scripts\\connect_lasers_cobolt.ipynb on line 138: \" 'baudrate',\\n\",\n"
     ]
    }
   ],
   "source": [
    "import os\n",
    "import fnmatch\n",
    "import re\n",
    "\n",
    "def search_string_in_files(directory, search_string):\n",
    "    matches = []\n",
    "    pattern = re.compile(search_string)\n",
    "\n",
    "    for root, dirnames, filenames in os.walk(directory):\n",
    "        for filename in fnmatch.filter(filenames, '*'):\n",
    "            filepath = os.path.join(root, filename)\n",
    "            try:\n",
    "                with open(filepath, 'r', encoding='utf-8', errors='ignore') as file:\n",
    "                    for line_number, line in enumerate(file, 1):\n",
    "                        if pattern.search(line):\n",
    "                            matches.append({\n",
    "                                'file': filepath,\n",
    "                                'line_number': line_number,\n",
    "                                'line': line.strip()\n",
    "                            })\n",
    "            except Exception as e:\n",
    "                print(f\"Could not read file {filepath}: {e}\")\n",
    "\n",
    "    return matches\n",
    "\n",
    "# Example usage\n",
    "directory_to_search = 'C:/Users/alm/git/Imswitch_descspim/'\n",
    "#directory_to_search = 'C:/Users/alm/AppData/Roaming/Python/Python310/site-packages/thorlabs_apt_device/'\n",
    "print(directory_to_search)\n",
    "\n",
    "string_to_search = 'baudrate'\n",
    "\n",
    "results = search_string_in_files(directory_to_search, string_to_search)\n",
    "\n",
    "for match in results:\n",
    "    print(f\"Found in {match['file']} on line {match['line_number']}: {match['line']}\")\n"
   ]
  },
  {
   "cell_type": "code",
   "execution_count": 1,
   "metadata": {},
   "outputs": [
    {
     "data": {
      "text/plain": [
       "True"
      ]
     },
     "execution_count": 1,
     "metadata": {},
     "output_type": "execute_result"
    }
   ],
   "source": [
    "import pycobolt\n",
    "import time\n",
    "\n",
    "laser = pycobolt.Cobolt06DPL(port='COM12') # Creates a new Cobolt Laser object.\n",
    "time.sleep(2)\n",
    "laser.is_connected()"
   ]
  },
  {
   "cell_type": "code",
   "execution_count": 2,
   "metadata": {},
   "outputs": [
    {
     "data": {
      "text/plain": [
       "['__class__',\n",
       " '__delattr__',\n",
       " '__dict__',\n",
       " '__dir__',\n",
       " '__doc__',\n",
       " '__enter__',\n",
       " '__eq__',\n",
       " '__exit__',\n",
       " '__format__',\n",
       " '__ge__',\n",
       " '__getattribute__',\n",
       " '__gt__',\n",
       " '__hash__',\n",
       " '__init__',\n",
       " '__init_subclass__',\n",
       " '__le__',\n",
       " '__lt__',\n",
       " '__module__',\n",
       " '__ne__',\n",
       " '__new__',\n",
       " '__reduce__',\n",
       " '__reduce_ex__',\n",
       " '__repr__',\n",
       " '__setattr__',\n",
       " '__sizeof__',\n",
       " '__str__',\n",
       " '__subclasshook__',\n",
       " '__weakref__',\n",
       " '_classify_',\n",
       " '_identify_',\n",
       " '_timeDiff_',\n",
       " 'address',\n",
       " 'analog_modulation',\n",
       " 'baudrate',\n",
       " 'clear_fault',\n",
       " 'connect',\n",
       " 'constant_current',\n",
       " 'constant_power',\n",
       " 'digital_modulation',\n",
       " 'disconnect',\n",
       " 'get_current',\n",
       " 'get_current_setpoint',\n",
       " 'get_fault',\n",
       " 'get_mode',\n",
       " 'get_modualtion_tec_setpoint',\n",
       " 'get_modulation_current',\n",
       " 'get_modulation_state',\n",
       " 'get_modulation_tec',\n",
       " 'get_ophours',\n",
       " 'get_power',\n",
       " 'get_power_setpoint',\n",
       " 'get_state',\n",
       " 'interlock',\n",
       " 'is_connected',\n",
       " 'is_on',\n",
       " 'modelnumber',\n",
       " 'modulation_mode',\n",
       " 'port',\n",
       " 'send_cmd',\n",
       " 'serialnumber',\n",
       " 'set_current',\n",
       " 'set_modulation_current_high',\n",
       " 'set_modulation_current_low',\n",
       " 'set_modulation_tec',\n",
       " 'set_power',\n",
       " 'turn_off',\n",
       " 'turn_on']"
      ]
     },
     "execution_count": 2,
     "metadata": {},
     "output_type": "execute_result"
    }
   ],
   "source": [
    "dir(laser)"
   ]
  },
  {
   "cell_type": "code",
   "execution_count": null,
   "metadata": {},
   "outputs": [],
   "source": [
    "def setEnabled(self, enabled):      # toggle laser on or off\n",
    "        if enabled:                             # laser is toggled on \n",
    "            self._laser.digital_modulation(0)   # turn off dig. modulation\n",
    "            self._laser.constant_power()    # set laser to constant power mode\n",
    "        else:                                   # If laser should be disabled, turn off by setting scanmode to active -> modulation mode\n",
    "            self._laser.modulation_mode()   # switch to modulation mode\n",
    "            self._laser.digital_modulation(0)   # but make sure to have digital modulation off"
   ]
  },
  {
   "cell_type": "code",
   "execution_count": 23,
   "metadata": {},
   "outputs": [
    {
     "data": {
      "text/plain": [
       "666.0"
      ]
     },
     "execution_count": 23,
     "metadata": {},
     "output_type": "execute_result"
    }
   ],
   "source": [
    "laser.get_power()"
   ]
  },
  {
   "cell_type": "code",
   "execution_count": 24,
   "metadata": {},
   "outputs": [
    {
     "data": {
      "text/plain": [
       "['0', '1']"
      ]
     },
     "execution_count": 24,
     "metadata": {},
     "output_type": "execute_result"
    }
   ],
   "source": [
    "laser.get_modulation_state()"
   ]
  },
  {
   "cell_type": "code",
   "execution_count": 18,
   "metadata": {},
   "outputs": [
    {
     "data": {
      "text/plain": [
       "'OK'"
      ]
     },
     "execution_count": 18,
     "metadata": {},
     "output_type": "execute_result"
    }
   ],
   "source": [
    "laser.digital_modulation(enable=1)"
   ]
  },
  {
   "cell_type": "code",
   "execution_count": 2,
   "metadata": {},
   "outputs": [
    {
     "data": {
      "text/plain": [
       "True"
      ]
     },
     "execution_count": 2,
     "metadata": {},
     "output_type": "execute_result"
    }
   ],
   "source": [
    "laser2 = pycobolt.Cobolt06DPL(port='COM12') # Creates a new Cobolt Laser object.\n",
    "time.sleep(2)\n",
    "laser2.is_connected()"
   ]
  },
  {
   "cell_type": "code",
   "execution_count": 5,
   "metadata": {},
   "outputs": [
    {
     "name": "stdout",
     "output_type": "stream",
     "text": [
      "posConvFac 0.028939405515156145\n",
      "req_zstep 1\n",
      "req_zstep_du 28.939405515156146\n",
      "pos1s 21165.9339\n",
      "pos1c 6207.9076\n",
      "pos2s 21665.92\n",
      "pos2c 6386.7242\n",
      "factor 2.796083249541698\n",
      "du_camera [1, 2, 3, 4, 5, 6, 7, 8, 9, 10, 11, 12, 13, 14, 15, 16, 17, 18, 19, 20, 21, 22, 23, 24, 25, 26, 27, 28, 29, 30, 31, 32, 33, 34, 35, 36, 37, 38, 39]\n",
      "dist_camera [0.028939405515156145, 0.05787881103031229, 0.08681821654546844, 0.11575762206062458, 0.14469702757578073, 0.17363643309093688, 0.20257583860609302, 0.23151524412124916, 0.2604546496364053, 0.28939405515156147, 0.3183334606667176, 0.34727286618187375, 0.37621227169702987, 0.40515167721218603, 0.43409108272734215, 0.4630304882424983, 0.4919698937576545, 0.5209092992728106, 0.5498487047879668, 0.5787881103031229, 0.607727515818279, 0.6366669213334352, 0.6656063268485913, 0.6945457323637475, 0.7234851378789037, 0.7524245433940597, 0.7813639489092159, 0.8103033544243721, 0.8392427599395282, 0.8681821654546843, 0.8971215709698405, 0.9260609764849966, 0.9550003820001528, 0.983939787515309, 1.012879193030465, 1.0418185985456212, 1.0707580040607774, 1.0996974095759335, 1.1286368150910897]\n",
      "dist_sample [0.08091698701262273, 0.16183397402524546, 0.2427509610378682, 0.32366794805049093, 0.40458493506311366, 0.4855019220757364, 0.5664189090883591, 0.6473358961009819, 0.7282528831136045, 0.8091698701262273, 0.8900868571388499, 0.9710038441514728, 1.0519208311640953, 1.1328378181767182, 1.2137548051893408, 1.2946717922019637, 1.3755887792145864, 1.456505766227209, 1.537422753239832, 1.6183397402524546, 1.6992567272650771, 1.7801737142776999, 1.8610907012903226, 1.9420076883029456, 2.022924675315568, 2.1038416623281906, 2.1847586493408135, 2.2656756363534365, 2.346592623366059, 2.4275096103786815, 2.5084265973913045, 2.5893435844039274, 2.67026057141655, 2.751177558429173, 2.8320945454417954, 2.913011532454418, 2.993928519467041, 3.074845506479664, 3.1557624934922863]\n",
      "du_sample [2.796083249541698, 5.592166499083396, 8.388249748625094, 11.184332998166791, 13.98041624770849, 16.77649949725019, 19.572582746791888, 22.368665996333583, 25.164749245875278, 27.96083249541698, 30.756915744958675, 33.55299899450038, 36.349082244042066, 39.145165493583775, 41.94124874312546, 44.737331992667166, 47.53341524220887, 50.329498491750556, 53.125581741292265, 55.92166499083396, 58.71774824037565, 61.51383148991735, 64.30991473945905, 67.10599798900076, 69.90208123854245, 72.69816448808413, 75.49424773762584, 78.29033098716755, 81.08641423670923, 83.88249748625093, 86.67858073579264, 89.47466398533433, 92.27074723487603, 95.06683048441774, 97.86291373395943, 100.65899698350111, 103.45508023304282, 106.25116348258453, 109.04724673212621]\n",
      "result [(4, 13.98041624770849), (9, 27.96083249541698), (14, 41.94124874312546), (19, 55.92166499083396), (24, 69.90208123854245), (28, 81.08641423670923), (33, 95.06683048441774), (38, 109.04724673212621)]\n",
      "closest_du (9, 27.96083249541698)\n",
      "sample_zstep 0.8091698701262273\n",
      "camera_zstep 0.28939405515156147\n"
     ]
    }
   ],
   "source": [
    "def calculate(req_zstep, posConvFac, getPositions):        \n",
    "        posConvFac = (1 / posConvFac) * 1000           # to µm/du\n",
    "        print(\"posConvFac\", posConvFac)        # in µm\n",
    "        req_zstep_du = req_zstep * posConvFac * 1000   # in du\n",
    "        print(\"req_zstep\", req_zstep)\n",
    "        print(\"req_zstep_du\", req_zstep_du)\n",
    "\n",
    "        pos1s, pos1c, pos2s, pos2c  = [float(i.split()[1]) for i in getPositions]\n",
    "        print(\"pos1s\", pos1s)\n",
    "        print(\"pos1c\", pos1c)\n",
    "        print(\"pos2s\", pos2s)\n",
    "        print(\"pos2c\", pos2c)\n",
    "        factor = abs(pos1s - pos2s) / abs(pos1c - pos2c)\n",
    "        print(\"factor\", factor)\n",
    "        du_camera = [i for i in range(1, 40)]                          # device units camera\n",
    "        print(\"du_camera\", du_camera)\n",
    "        dist_camera = [i*posConvFac for i in du_camera]               # distance camera in µm\n",
    "        print(\"dist_camera\", dist_camera)\n",
    "        dist_sample = [i*factor for i in dist_camera]                   # distance sample in µm\n",
    "\n",
    "        print(\"dist_sample\", dist_sample)\n",
    "        du_sample = [i/posConvFac for i in dist_sample]                 # device units sample\n",
    "        print(\"du_sample\", du_sample)\n",
    "        result = [(i, du) for i, du in enumerate(du_sample) if abs(round(du) - du) <= 0.1]\n",
    "        print(\"result\", result)\n",
    "        closest_du = min(result, key=lambda x: abs(x[1] - req_zstep_du))\n",
    "        print(\"closest_du\", closest_du) \n",
    "        sample_zstep = closest_du[1] * posConvFac\n",
    "        print(\"sample_zstep\", sample_zstep)\n",
    "        camera_zstep = dist_camera[closest_du[0]]\n",
    "        print(\"camera_zstep\", camera_zstep)\n",
    "\n",
    "calculate(1, 34554.96, (\"Sample: 21165.9339 µm\", \"Camera: 6207.9076 µm\", \"Sample: 21665.92 µm\", \"Camera: 6386.7242 µm\"))"
   ]
  }
 ],
 "metadata": {
  "kernelspec": {
   "display_name": "ims_des",
   "language": "python",
   "name": "python3"
  },
  "language_info": {
   "codemirror_mode": {
    "name": "ipython",
    "version": 3
   },
   "file_extension": ".py",
   "mimetype": "text/x-python",
   "name": "python",
   "nbconvert_exporter": "python",
   "pygments_lexer": "ipython3",
   "version": "3.10.14"
  }
 },
 "nbformat": 4,
 "nbformat_minor": 2
}
