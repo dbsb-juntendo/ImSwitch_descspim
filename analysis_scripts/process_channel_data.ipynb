{
 "cells": [
  {
   "cell_type": "code",
   "execution_count": 1,
   "metadata": {},
   "outputs": [],
   "source": [
    "import tifffile\n",
    "import os\n",
    "from natsort import os_sorted\n",
    "import numpy as np\n",
    "import napari\n",
    "import json\n",
    "from skimage import filters\n",
    "#viewer = napari.Viewer()"
   ]
  },
  {
   "cell_type": "markdown",
   "metadata": {},
   "source": [
    "# For single tile images"
   ]
  },
  {
   "cell_type": "code",
   "execution_count": 5,
   "metadata": {},
   "outputs": [
    {
     "ename": "MemoryError",
     "evalue": "Unable to allocate 26.4 GiB for an array with shape (1600, 2160, 4096) and data type uint16",
     "output_type": "error",
     "traceback": [
      "\u001b[1;31m---------------------------------------------------------------------------\u001b[0m",
      "\u001b[1;31mMemoryError\u001b[0m                               Traceback (most recent call last)",
      "Cell \u001b[1;32mIn[5], line 7\u001b[0m\n\u001b[0;32m      5\u001b[0m home \u001b[38;5;241m=\u001b[39m askdirectory(title\u001b[38;5;241m=\u001b[39m\u001b[38;5;124m'\u001b[39m\u001b[38;5;124mSelect the folder with the tiff files\u001b[39m\u001b[38;5;124m'\u001b[39m) \u001b[38;5;241m+\u001b[39m \u001b[38;5;124m'\u001b[39m\u001b[38;5;124m/\u001b[39m\u001b[38;5;124m'\u001b[39m\n\u001b[0;32m      6\u001b[0m files \u001b[38;5;241m=\u001b[39m os_sorted(os\u001b[38;5;241m.\u001b[39mlistdir(home))\n\u001b[1;32m----> 7\u001b[0m stack \u001b[38;5;241m=\u001b[39m  \u001b[43mnp\u001b[49m\u001b[38;5;241;43m.\u001b[39;49m\u001b[43marray\u001b[49m\u001b[43m(\u001b[49m\u001b[43m[\u001b[49m\u001b[43mtifffile\u001b[49m\u001b[38;5;241;43m.\u001b[39;49m\u001b[43mimread\u001b[49m\u001b[43m(\u001b[49m\u001b[43mhome\u001b[49m\u001b[43m \u001b[49m\u001b[38;5;241;43m+\u001b[39;49m\u001b[43m \u001b[49m\u001b[43mfile\u001b[49m\u001b[43m)\u001b[49m\u001b[43m \u001b[49m\u001b[38;5;28;43;01mfor\u001b[39;49;00m\u001b[43m \u001b[49m\u001b[43mfile\u001b[49m\u001b[43m \u001b[49m\u001b[38;5;129;43;01min\u001b[39;49;00m\u001b[43m \u001b[49m\u001b[43mfiles\u001b[49m\u001b[43m \u001b[49m\u001b[38;5;28;43;01mif\u001b[39;49;00m\u001b[43m \u001b[49m\u001b[43mfile\u001b[49m\u001b[38;5;241;43m.\u001b[39;49m\u001b[43mendswith\u001b[49m\u001b[43m(\u001b[49m\u001b[38;5;124;43m'\u001b[39;49m\u001b[38;5;124;43m.tif\u001b[39;49m\u001b[38;5;124;43m'\u001b[39;49m\u001b[43m)\u001b[49m\u001b[43m]\u001b[49m\u001b[43m)\u001b[49m\n",
      "\u001b[1;31mMemoryError\u001b[0m: Unable to allocate 26.4 GiB for an array with shape (1600, 2160, 4096) and data type uint16"
     ]
    }
   ],
   "source": [
    "# ask for folder name with tkinter\n",
    "from tkinter import Tk\n",
    "from tkinter.filedialog import askdirectory\n",
    "Tk().withdraw()\n",
    "home = askdirectory(title='Select the folder with the tiff files') + '/'\n",
    "files = os_sorted(os.listdir(home))\n",
    "stack =  np.array([tifffile.imread(home + file) for file in files if file.endswith('.tif')])\n"
   ]
  },
  {
   "cell_type": "code",
   "execution_count": null,
   "metadata": {},
   "outputs": [],
   "source": [
    "metadata_file = home + 'metadata.json'\n",
    "metadata = json.load(open(metadata_file))\n",
    "xy_pixel_size = metadata['detector_pixel_size']\n",
    "z_spacing = metadata['sample_stage_step_size']\n"
   ]
  },
  {
   "cell_type": "code",
   "execution_count": null,
   "metadata": {},
   "outputs": [],
   "source": [
    "# uneven illumination correction\n",
    "normalisation = '//storage3.ad.scilifelab.se/alm/BrismarGroup/DescSPIM/Data/241112_normalisation/13h48m02s_snap_thorlabscam.tiff'\n",
    "norm = tifffile.imread(normalisation)\n"
   ]
  },
  {
   "cell_type": "code",
   "execution_count": 6,
   "metadata": {},
   "outputs": [],
   "source": [
    "def uneven_illumination_correction(image,\n",
    "                                   norm = '//storage3.ad.scilifelab.se/alm/BrismarGroup/DescSPIM/Data/241112_normalisation/13h48m02s_snap_thorlabscam.tiff', \n",
    "                                   sigma=100):\n",
    "    norm_array = tifffile.imread(norm)\n",
    "    norm_gauss = filters.gaussian(norm_array, sigma)\n",
    "    return image/norm_gauss\n",
    "\n",
    "\n",
    "def reshape_tiff_data(data, num_channels, normalise=False):\n",
    "    # Initialize the output array with the desired shape (3, 250, 500, 500)\n",
    "    zsteps = len(data)//num_channels\n",
    "    output = np.zeros((num_channels, zsteps, data.shape[1], data.shape[2]), dtype=np.uint16)\n",
    "\n",
    "    # Iterate over the z-steps\n",
    "    for z in range(len(data)//num_channels):\n",
    "        if z % 2 == 0:\n",
    "            for c in range(num_channels):\n",
    "                output[c, z] = data[z * num_channels + c] if not normalise else uneven_illumination_correction(data[z * num_channels + c])\n",
    "        else:\n",
    "            for c in range(num_channels):\n",
    "                ci = num_channels - c - 1\n",
    "                output[ci, z] = data[z * num_channels + c] if not normalise else uneven_illumination_correction(data[z * num_channels + c])\n",
    "    return output\n",
    "\n",
    "# Example usage\n",
    "reshaped_data = reshape_tiff_data(stack, 2)\n"
   ]
  },
  {
   "cell_type": "code",
   "execution_count": 7,
   "metadata": {},
   "outputs": [
    {
     "ename": "MemoryError",
     "evalue": "Unable to allocate 12.7 GiB for an array with shape (770, 2160, 4096) and data type uint16",
     "output_type": "error",
     "traceback": [
      "\u001b[1;31m---------------------------------------------------------------------------\u001b[0m",
      "\u001b[1;31mMemoryError\u001b[0m                               Traceback (most recent call last)",
      "Cell \u001b[1;32mIn[7], line 9\u001b[0m\n\u001b[0;32m      4\u001b[0m     os\u001b[38;5;241m.\u001b[39mmakedirs(save_path)\n\u001b[0;32m      6\u001b[0m \u001b[38;5;28;01mfor\u001b[39;00m c \u001b[38;5;129;01min\u001b[39;00m \u001b[38;5;28mrange\u001b[39m(reshaped_data\u001b[38;5;241m.\u001b[39mshape[\u001b[38;5;241m0\u001b[39m]):\n\u001b[0;32m      7\u001b[0m     \u001b[38;5;66;03m##viewer.add_image(reshaped_data[c], name=str(c), colormap='gray', scale=(1.7097, 0.345, 0.345), blending='additive')\u001b[39;00m\n\u001b[0;32m      8\u001b[0m     tifffile\u001b[38;5;241m.\u001b[39mimwrite(save_path \u001b[38;5;241m+\u001b[39m home\u001b[38;5;241m.\u001b[39msplit(\u001b[38;5;124m'\u001b[39m\u001b[38;5;124m/\u001b[39m\u001b[38;5;124m'\u001b[39m)[\u001b[38;5;241m-\u001b[39m\u001b[38;5;241m2\u001b[39m] \u001b[38;5;241m+\u001b[39m \u001b[38;5;124m'\u001b[39m\u001b[38;5;124m_channel_\u001b[39m\u001b[38;5;124m'\u001b[39m \u001b[38;5;241m+\u001b[39m \u001b[38;5;28mstr\u001b[39m(c) \u001b[38;5;241m+\u001b[39m \u001b[38;5;124m'\u001b[39m\u001b[38;5;124m.tif\u001b[39m\u001b[38;5;124m'\u001b[39m, \n\u001b[1;32m----> 9\u001b[0m                      \u001b[43mreshaped_data\u001b[49m\u001b[43m[\u001b[49m\u001b[43mc\u001b[49m\u001b[43m]\u001b[49m\u001b[38;5;241;43m.\u001b[39;49m\u001b[43mastype\u001b[49m\u001b[43m(\u001b[49m\u001b[43mnp\u001b[49m\u001b[38;5;241;43m.\u001b[39;49m\u001b[43muint16\u001b[49m\u001b[43m)\u001b[49m,\n\u001b[0;32m     10\u001b[0m                      resolution\u001b[38;5;241m=\u001b[39m(\u001b[38;5;241m1\u001b[39m\u001b[38;5;241m/\u001b[39mxy_pixel_size, \u001b[38;5;241m1\u001b[39m\u001b[38;5;241m/\u001b[39mxy_pixel_size),\n\u001b[0;32m     11\u001b[0m                      imagej\u001b[38;5;241m=\u001b[39m\u001b[38;5;28;01mTrue\u001b[39;00m,\n\u001b[0;32m     12\u001b[0m                      metadata\u001b[38;5;241m=\u001b[39m{\u001b[38;5;124m'\u001b[39m\u001b[38;5;124mspacing\u001b[39m\u001b[38;5;124m'\u001b[39m: z_spacing,\u001b[38;5;124m'\u001b[39m\u001b[38;5;124munit\u001b[39m\u001b[38;5;124m'\u001b[39m:\u001b[38;5;124m'\u001b[39m\u001b[38;5;124mum\u001b[39m\u001b[38;5;124m'\u001b[39m, \u001b[38;5;124m'\u001b[39m\u001b[38;5;124maxes\u001b[39m\u001b[38;5;124m'\u001b[39m:\u001b[38;5;124m'\u001b[39m\u001b[38;5;124mZYX\u001b[39m\u001b[38;5;124m'\u001b[39m, \n\u001b[0;32m     13\u001b[0m                                \u001b[38;5;124m'\u001b[39m\u001b[38;5;124mPhysicalSizeY\u001b[39m\u001b[38;5;124m'\u001b[39m:xy_pixel_size, \u001b[38;5;124m'\u001b[39m\u001b[38;5;124mPhysicalSizeX\u001b[39m\u001b[38;5;124m'\u001b[39m:xy_pixel_size,\n\u001b[0;32m     14\u001b[0m                                \u001b[38;5;124m'\u001b[39m\u001b[38;5;124mPhysicalSizeYUnit\u001b[39m\u001b[38;5;124m'\u001b[39m: \u001b[38;5;124m'\u001b[39m\u001b[38;5;124mum\u001b[39m\u001b[38;5;124m'\u001b[39m,\u001b[38;5;124m'\u001b[39m\u001b[38;5;124mPhysicalSizeXUnit\u001b[39m\u001b[38;5;124m'\u001b[39m: \u001b[38;5;124m'\u001b[39m\u001b[38;5;124mum\u001b[39m\u001b[38;5;124m'\u001b[39m},)\n",
      "\u001b[1;31mMemoryError\u001b[0m: Unable to allocate 12.7 GiB for an array with shape (770, 2160, 4096) and data type uint16"
     ]
    }
   ],
   "source": [
    "save_path = home[:-1] + '_reshaped_data/'\n",
    "\n",
    "if not os.path.exists(save_path):\n",
    "    os.makedirs(save_path)\n",
    "    \n",
    "for c in range(reshaped_data.shape[0]):\n",
    "    ##viewer.add_image(reshaped_data[c], name=str(c), colormap='gray', scale=(1.7097, 0.345, 0.345), blending='additive')\n",
    "    tifffile.imwrite(save_path + home.split('/')[-2] + '_channel_' + str(c) + '.tif', \n",
    "                     reshaped_data[c].astype(np.uint16),\n",
    "                     resolution=(1/xy_pixel_size, 1/xy_pixel_size),\n",
    "                     imagej=True,\n",
    "                     metadata={'spacing': z_spacing,'unit':'um', 'axes':'ZYX', \n",
    "                               'PhysicalSizeY':xy_pixel_size, 'PhysicalSizeX':xy_pixel_size,\n",
    "                               'PhysicalSizeYUnit': 'um','PhysicalSizeXUnit': 'um'},)"
   ]
  },
  {
   "cell_type": "code",
   "execution_count": 5,
   "metadata": {},
   "outputs": [
    {
     "name": "stderr",
     "output_type": "stream",
     "text": [
      "c:\\Users\\alm\\anaconda3\\envs\\ims_des\\lib\\site-packages\\tifffile\\tifffile.py:3786: UserWarning: <tifffile.TiffWriter 'kidney_tile_5_s…am_channel_0.tif'> truncating ImageJ file\n",
      "  warnings.warn(\n",
      "c:\\Users\\alm\\anaconda3\\envs\\ims_des\\lib\\site-packages\\tifffile\\tifffile.py:3786: UserWarning: <tifffile.TiffWriter 'kidney_tile_5_s…am_channel_1.tif'> truncating ImageJ file\n",
      "  warnings.warn(\n"
     ]
    }
   ],
   "source": [
    "#Steve made this because metadata was not saved correctly\n",
    "save_path = home[:-1] + '_reshaped_data/'\n",
    "\n",
    "if not os.path.exists(save_path):\n",
    "    os.makedirs(save_path)\n",
    "    \n",
    "for c in range(reshaped_data.shape[0]):\n",
    "    ##viewer.add_image(reshaped_data[c], name=str(c), colormap='gray', scale=(1.7097, 0.345, 0.345), blending='additive')\n",
    "    tifffile.imwrite(save_path + home.split('/')[-2] + '_channel_' + str(c) + '.tif', \n",
    "                     reshaped_data[c].astype(np.uint16),\n",
    "                     imagej=True,)"
   ]
  },
  {
   "cell_type": "markdown",
   "metadata": {},
   "source": [
    "# For multi tile images"
   ]
  },
  {
   "cell_type": "code",
   "execution_count": 12,
   "metadata": {},
   "outputs": [],
   "source": [
    "def reshape_tiff_data(data, num_channels):\n",
    "    # Initialize the output array with the desired shape (3, 250, 500, 500)\n",
    "    zsteps = len(data)//num_channels\n",
    "    output = np.zeros((num_channels, zsteps, data.shape[1], data.shape[2]), dtype=np.uint16)\n",
    "\n",
    "    # Iterate over the z-steps\n",
    "    for z in range(len(data)//num_channels):\n",
    "        if z % 2 == 0:\n",
    "            for c in range(num_channels):\n",
    "                output[c, z] = data[z * num_channels + c]\n",
    "        else:\n",
    "            for c in range(num_channels):\n",
    "                ci = num_channels - c - 1\n",
    "                output[ci, z] = data[z * num_channels + c]\n",
    "\n",
    "    return output"
   ]
  },
  {
   "cell_type": "code",
   "execution_count": 13,
   "metadata": {},
   "outputs": [
    {
     "ename": "NotADirectoryError",
     "evalue": "[WinError 267] The directory name is invalid: 'C:/Users/alm/Documents/ImSwitchConfig/recordings/2024-09-02/closed_slit_rec_thorlabscam/image_0.tif/'",
     "output_type": "error",
     "traceback": [
      "\u001b[1;31m---------------------------------------------------------------------------\u001b[0m",
      "\u001b[1;31mNotADirectoryError\u001b[0m                        Traceback (most recent call last)",
      "Cell \u001b[1;32mIn[13], line 19\u001b[0m\n\u001b[0;32m     17\u001b[0m     \u001b[38;5;28mprint\u001b[39m(\u001b[38;5;124mf\u001b[39m\u001b[38;5;124m'\u001b[39m\u001b[38;5;132;01m{\u001b[39;00mtile\u001b[38;5;132;01m}\u001b[39;00m\u001b[38;5;124m already processed, skipping...\u001b[39m\u001b[38;5;124m'\u001b[39m)\n\u001b[0;32m     18\u001b[0m \u001b[38;5;28;01melse\u001b[39;00m:\n\u001b[1;32m---> 19\u001b[0m     files \u001b[38;5;241m=\u001b[39m os_sorted(\u001b[43mos\u001b[49m\u001b[38;5;241;43m.\u001b[39;49m\u001b[43mlistdir\u001b[49m\u001b[43m(\u001b[49m\u001b[43mhome\u001b[49m\u001b[43m \u001b[49m\u001b[38;5;241;43m+\u001b[39;49m\u001b[43m \u001b[49m\u001b[43mtile\u001b[49m\u001b[43m \u001b[49m\u001b[38;5;241;43m+\u001b[39;49m\u001b[43m \u001b[49m\u001b[38;5;124;43m'\u001b[39;49m\u001b[38;5;124;43m/\u001b[39;49m\u001b[38;5;124;43m'\u001b[39;49m\u001b[43m)\u001b[49m)        \u001b[38;5;66;03m#home + tile + '/'\u001b[39;00m\n\u001b[0;32m     20\u001b[0m     stack \u001b[38;5;241m=\u001b[39m  np\u001b[38;5;241m.\u001b[39marray([tifffile\u001b[38;5;241m.\u001b[39mimread(home \u001b[38;5;241m+\u001b[39m tile \u001b[38;5;241m+\u001b[39m \u001b[38;5;124m'\u001b[39m\u001b[38;5;124m/\u001b[39m\u001b[38;5;124m'\u001b[39m \u001b[38;5;241m+\u001b[39m file) \u001b[38;5;28;01mfor\u001b[39;00m file \u001b[38;5;129;01min\u001b[39;00m files])\n\u001b[0;32m     21\u001b[0m     \u001b[38;5;28mprint\u001b[39m(\u001b[38;5;124mf\u001b[39m\u001b[38;5;124m'\u001b[39m\u001b[38;5;124mprocessing \u001b[39m\u001b[38;5;132;01m{\u001b[39;00mtile\u001b[38;5;132;01m}\u001b[39;00m\u001b[38;5;124m, stack shape: \u001b[39m\u001b[38;5;132;01m{\u001b[39;00mstack\u001b[38;5;241m.\u001b[39mshape\u001b[38;5;132;01m}\u001b[39;00m\u001b[38;5;124m'\u001b[39m)\n",
      "\u001b[1;31mNotADirectoryError\u001b[0m: [WinError 267] The directory name is invalid: 'C:/Users/alm/Documents/ImSwitchConfig/recordings/2024-09-02/closed_slit_rec_thorlabscam/image_0.tif/'"
     ]
    }
   ],
   "source": [
    "home = 'C:/Users/alm/Documents/ImSwitchConfig/recordings/2024-09-02/closed_slit_rec_thorlabscam/'\n",
    "save_path = 'C:/Users/alm/Documents/ImSwitchConfig/recordings/2024-09-02/closed_slit_rec_thorlabscam_reshaped/'\n",
    "\n",
    "metadata_file = home + 'metadata.json'\n",
    "metadata = json.load(open(metadata_file))\n",
    "xy_pixel_size = metadata['detector_pixel_size']\n",
    "z_spacing = metadata['sample_stage_step_size']\n",
    "\n",
    "if not os.path.exists(save_path):\n",
    "    os.makedirs(save_path)\n",
    "    \n",
    "tiles = os_sorted(os.listdir(home))\n",
    "outs = os_sorted(os.listdir(save_path))\n",
    "\n",
    "for i, tile in enumerate(tiles):\n",
    "    if f'tile_{i}_channel_0.tif' in outs:\n",
    "        print(f'{tile} already processed, skipping...')\n",
    "    else:\n",
    "        files = os_sorted(os.listdir(home + tile + '/'))        #home + tile + '/'\n",
    "        stack =  np.array([tifffile.imread(home + tile + '/' + file) for file in files])\n",
    "        print(f'processing {tile}, stack shape: {stack.shape}')\n",
    "\n",
    "        reshaped_data = reshape_tiff_data(stack, 2)\n",
    "        for c in range(reshaped_data.shape[0]):\n",
    "            print(f'saving {save_path}tile_{i}_channel_{c}.tif ...') \n",
    "            tifffile.imwrite(f'{save_path}tile_{i}_channel_{c}.tif',\n",
    "                            reshaped_data[c,:,:,:],\n",
    "                            imagej=True,\n",
    "                            metadata={'spacing': z_spacing,'unit':'um', 'axes':'ZYX', \n",
    "                                    'PhysicalSizeY':xy_pixel_size, 'PhysicalSizeX':xy_pixel_size,\n",
    "                                    'PhysicalSizeYUnit': 'um','PhysicalSizeXUnit': 'um'},\n",
    "                            resolution=(1/xy_pixel_size, 1/xy_pixel_size)\n",
    "\n",
    "                            )"
   ]
  },
  {
   "cell_type": "code",
   "execution_count": 5,
   "metadata": {},
   "outputs": [],
   "source": [
    "#viewer.add_image(stack, name='stack')#, colormap='green', blending='additive')\n",
    "\n"
   ]
  }
 ],
 "metadata": {
  "kernelspec": {
   "display_name": "ims_des",
   "language": "python",
   "name": "python3"
  },
  "language_info": {
   "codemirror_mode": {
    "name": "ipython",
    "version": 3
   },
   "file_extension": ".py",
   "mimetype": "text/x-python",
   "name": "python",
   "nbconvert_exporter": "python",
   "pygments_lexer": "ipython3",
   "version": "3.10.14"
  }
 },
 "nbformat": 4,
 "nbformat_minor": 2
}
